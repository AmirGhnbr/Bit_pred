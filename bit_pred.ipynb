{
  "nbformat": 4,
  "nbformat_minor": 0,
  "metadata": {
    "colab": {
      "provenance": [],
      "authorship_tag": "ABX9TyOawEkQsNkE26SjxvpEF2kU",
      "include_colab_link": true
    },
    "kernelspec": {
      "name": "python3",
      "display_name": "Python 3"
    },
    "language_info": {
      "name": "python"
    },
    "accelerator": "GPU",
    "gpuClass": "standard"
  },
  "cells": [
    {
      "cell_type": "markdown",
      "metadata": {
        "id": "view-in-github",
        "colab_type": "text"
      },
      "source": [
        "<a href=\"https://colab.research.google.com/github/AmirGhnbr/Bit_pred/blob/dev_branch/bit_pred.ipynb\" target=\"_parent\"><img src=\"https://colab.research.google.com/assets/colab-badge.svg\" alt=\"Open In Colab\"/></a>"
      ]
    },
    {
      "cell_type": "code",
      "execution_count": null,
      "metadata": {
        "id": "wJPJ6hAV8xBT"
      },
      "outputs": [],
      "source": [
        "!pip install yfinance -q"
      ]
    },
    {
      "cell_type": "code",
      "source": [
        "!pip install keras-tuner -q"
      ],
      "metadata": {
        "id": "Pnk7w1pbxqwC",
        "colab": {
          "base_uri": "https://localhost:8080/"
        },
        "outputId": "8e1a13e3-c362-4f93-a547-a0f9bd0a8602"
      },
      "execution_count": null,
      "outputs": [
        {
          "output_type": "stream",
          "name": "stdout",
          "text": [
            "\u001b[?25l     \u001b[90m━━━━━━━━━━━━━━━━━━━━━━━━━━━━━━━━━━━━━━━━\u001b[0m \u001b[32m0.0/172.1 KB\u001b[0m \u001b[31m?\u001b[0m eta \u001b[36m-:--:--\u001b[0m\r\u001b[2K     \u001b[90m━━━━━━━━━━━━━━━━━━━━━━━━━━━━━━━━━━━━━━━\u001b[0m \u001b[32m172.1/172.1 KB\u001b[0m \u001b[31m5.6 MB/s\u001b[0m eta \u001b[36m0:00:00\u001b[0m\n",
            "\u001b[?25h"
          ]
        }
      ]
    },
    {
      "cell_type": "code",
      "source": [
        "!pip3 install --upgrade tensorflow keras-tuner -q"
      ],
      "metadata": {
        "id": "HX-rO23yGJnp"
      },
      "execution_count": null,
      "outputs": []
    },
    {
      "cell_type": "code",
      "source": [
        "from google.colab import drive\n",
        "drive.mount('/content/drive')"
      ],
      "metadata": {
        "colab": {
          "base_uri": "https://localhost:8080/"
        },
        "id": "Jjs7CniA86iX",
        "outputId": "398475d3-ba16-457a-e65a-d61f96edb262"
      },
      "execution_count": null,
      "outputs": [
        {
          "output_type": "stream",
          "name": "stdout",
          "text": [
            "Mounted at /content/drive\n"
          ]
        }
      ]
    },
    {
      "cell_type": "code",
      "source": [
        "TICKER = 'BTC-USD'"
      ],
      "metadata": {
        "id": "IbfHbGxh-YNW"
      },
      "execution_count": null,
      "outputs": []
    },
    {
      "cell_type": "code",
      "source": [
        "import yfinance as yf\n",
        "import datetime\n",
        "import pandas as pd\n",
        "\n",
        "today = datetime.datetime.now()\n",
        "start_year_ago = today-datetime.timedelta(days = 720)\n",
        "btc_data = yf.download(tickers=TICKER, interval=\"1h\",start= start_year_ago, end=today)\n",
        "btc_data.tail()"
      ],
      "metadata": {
        "colab": {
          "base_uri": "https://localhost:8080/",
          "height": 255
        },
        "id": "A66bFPhQ-pe6",
        "outputId": "10a0de91-f81f-4f1e-8141-978974099648"
      },
      "execution_count": null,
      "outputs": [
        {
          "output_type": "stream",
          "name": "stdout",
          "text": [
            "\r[*********************100%***********************]  1 of 1 completed\n"
          ]
        },
        {
          "output_type": "execute_result",
          "data": {
            "text/plain": [
              "                                   Open          High           Low  \\\n",
              "Datetime                                                              \n",
              "2023-04-02 08:00:00+00:00  28422.830078  28424.402344  28372.173828   \n",
              "2023-04-02 09:00:00+00:00  28381.097656  28434.978516  28370.878906   \n",
              "2023-04-02 10:00:00+00:00  28412.289062  28414.642578  28372.988281   \n",
              "2023-04-02 11:00:00+00:00  28374.568359  28378.099609  28322.080078   \n",
              "2023-04-02 12:00:00+00:00  28356.794922  28360.750000  28257.650391   \n",
              "\n",
              "                                  Close     Adj Close     Volume  \n",
              "Datetime                                                          \n",
              "2023-04-02 08:00:00+00:00  28380.359375  28380.359375          0  \n",
              "2023-04-02 09:00:00+00:00  28411.384766  28411.384766          0  \n",
              "2023-04-02 10:00:00+00:00  28372.988281  28372.988281          0  \n",
              "2023-04-02 11:00:00+00:00  28356.761719  28356.761719          0  \n",
              "2023-04-02 12:00:00+00:00  28271.140625  28271.140625  174867456  "
            ],
            "text/html": [
              "\n",
              "  <div id=\"df-e71f41b6-87a5-4046-a00c-218c44c0395f\">\n",
              "    <div class=\"colab-df-container\">\n",
              "      <div>\n",
              "<style scoped>\n",
              "    .dataframe tbody tr th:only-of-type {\n",
              "        vertical-align: middle;\n",
              "    }\n",
              "\n",
              "    .dataframe tbody tr th {\n",
              "        vertical-align: top;\n",
              "    }\n",
              "\n",
              "    .dataframe thead th {\n",
              "        text-align: right;\n",
              "    }\n",
              "</style>\n",
              "<table border=\"1\" class=\"dataframe\">\n",
              "  <thead>\n",
              "    <tr style=\"text-align: right;\">\n",
              "      <th></th>\n",
              "      <th>Open</th>\n",
              "      <th>High</th>\n",
              "      <th>Low</th>\n",
              "      <th>Close</th>\n",
              "      <th>Adj Close</th>\n",
              "      <th>Volume</th>\n",
              "    </tr>\n",
              "    <tr>\n",
              "      <th>Datetime</th>\n",
              "      <th></th>\n",
              "      <th></th>\n",
              "      <th></th>\n",
              "      <th></th>\n",
              "      <th></th>\n",
              "      <th></th>\n",
              "    </tr>\n",
              "  </thead>\n",
              "  <tbody>\n",
              "    <tr>\n",
              "      <th>2023-04-02 08:00:00+00:00</th>\n",
              "      <td>28422.830078</td>\n",
              "      <td>28424.402344</td>\n",
              "      <td>28372.173828</td>\n",
              "      <td>28380.359375</td>\n",
              "      <td>28380.359375</td>\n",
              "      <td>0</td>\n",
              "    </tr>\n",
              "    <tr>\n",
              "      <th>2023-04-02 09:00:00+00:00</th>\n",
              "      <td>28381.097656</td>\n",
              "      <td>28434.978516</td>\n",
              "      <td>28370.878906</td>\n",
              "      <td>28411.384766</td>\n",
              "      <td>28411.384766</td>\n",
              "      <td>0</td>\n",
              "    </tr>\n",
              "    <tr>\n",
              "      <th>2023-04-02 10:00:00+00:00</th>\n",
              "      <td>28412.289062</td>\n",
              "      <td>28414.642578</td>\n",
              "      <td>28372.988281</td>\n",
              "      <td>28372.988281</td>\n",
              "      <td>28372.988281</td>\n",
              "      <td>0</td>\n",
              "    </tr>\n",
              "    <tr>\n",
              "      <th>2023-04-02 11:00:00+00:00</th>\n",
              "      <td>28374.568359</td>\n",
              "      <td>28378.099609</td>\n",
              "      <td>28322.080078</td>\n",
              "      <td>28356.761719</td>\n",
              "      <td>28356.761719</td>\n",
              "      <td>0</td>\n",
              "    </tr>\n",
              "    <tr>\n",
              "      <th>2023-04-02 12:00:00+00:00</th>\n",
              "      <td>28356.794922</td>\n",
              "      <td>28360.750000</td>\n",
              "      <td>28257.650391</td>\n",
              "      <td>28271.140625</td>\n",
              "      <td>28271.140625</td>\n",
              "      <td>174867456</td>\n",
              "    </tr>\n",
              "  </tbody>\n",
              "</table>\n",
              "</div>\n",
              "      <button class=\"colab-df-convert\" onclick=\"convertToInteractive('df-e71f41b6-87a5-4046-a00c-218c44c0395f')\"\n",
              "              title=\"Convert this dataframe to an interactive table.\"\n",
              "              style=\"display:none;\">\n",
              "        \n",
              "  <svg xmlns=\"http://www.w3.org/2000/svg\" height=\"24px\"viewBox=\"0 0 24 24\"\n",
              "       width=\"24px\">\n",
              "    <path d=\"M0 0h24v24H0V0z\" fill=\"none\"/>\n",
              "    <path d=\"M18.56 5.44l.94 2.06.94-2.06 2.06-.94-2.06-.94-.94-2.06-.94 2.06-2.06.94zm-11 1L8.5 8.5l.94-2.06 2.06-.94-2.06-.94L8.5 2.5l-.94 2.06-2.06.94zm10 10l.94 2.06.94-2.06 2.06-.94-2.06-.94-.94-2.06-.94 2.06-2.06.94z\"/><path d=\"M17.41 7.96l-1.37-1.37c-.4-.4-.92-.59-1.43-.59-.52 0-1.04.2-1.43.59L10.3 9.45l-7.72 7.72c-.78.78-.78 2.05 0 2.83L4 21.41c.39.39.9.59 1.41.59.51 0 1.02-.2 1.41-.59l7.78-7.78 2.81-2.81c.8-.78.8-2.07 0-2.86zM5.41 20L4 18.59l7.72-7.72 1.47 1.35L5.41 20z\"/>\n",
              "  </svg>\n",
              "      </button>\n",
              "      \n",
              "  <style>\n",
              "    .colab-df-container {\n",
              "      display:flex;\n",
              "      flex-wrap:wrap;\n",
              "      gap: 12px;\n",
              "    }\n",
              "\n",
              "    .colab-df-convert {\n",
              "      background-color: #E8F0FE;\n",
              "      border: none;\n",
              "      border-radius: 50%;\n",
              "      cursor: pointer;\n",
              "      display: none;\n",
              "      fill: #1967D2;\n",
              "      height: 32px;\n",
              "      padding: 0 0 0 0;\n",
              "      width: 32px;\n",
              "    }\n",
              "\n",
              "    .colab-df-convert:hover {\n",
              "      background-color: #E2EBFA;\n",
              "      box-shadow: 0px 1px 2px rgba(60, 64, 67, 0.3), 0px 1px 3px 1px rgba(60, 64, 67, 0.15);\n",
              "      fill: #174EA6;\n",
              "    }\n",
              "\n",
              "    [theme=dark] .colab-df-convert {\n",
              "      background-color: #3B4455;\n",
              "      fill: #D2E3FC;\n",
              "    }\n",
              "\n",
              "    [theme=dark] .colab-df-convert:hover {\n",
              "      background-color: #434B5C;\n",
              "      box-shadow: 0px 1px 3px 1px rgba(0, 0, 0, 0.15);\n",
              "      filter: drop-shadow(0px 1px 2px rgba(0, 0, 0, 0.3));\n",
              "      fill: #FFFFFF;\n",
              "    }\n",
              "  </style>\n",
              "\n",
              "      <script>\n",
              "        const buttonEl =\n",
              "          document.querySelector('#df-e71f41b6-87a5-4046-a00c-218c44c0395f button.colab-df-convert');\n",
              "        buttonEl.style.display =\n",
              "          google.colab.kernel.accessAllowed ? 'block' : 'none';\n",
              "\n",
              "        async function convertToInteractive(key) {\n",
              "          const element = document.querySelector('#df-e71f41b6-87a5-4046-a00c-218c44c0395f');\n",
              "          const dataTable =\n",
              "            await google.colab.kernel.invokeFunction('convertToInteractive',\n",
              "                                                     [key], {});\n",
              "          if (!dataTable) return;\n",
              "\n",
              "          const docLinkHtml = 'Like what you see? Visit the ' +\n",
              "            '<a target=\"_blank\" href=https://colab.research.google.com/notebooks/data_table.ipynb>data table notebook</a>'\n",
              "            + ' to learn more about interactive tables.';\n",
              "          element.innerHTML = '';\n",
              "          dataTable['output_type'] = 'display_data';\n",
              "          await google.colab.output.renderOutput(dataTable, element);\n",
              "          const docLink = document.createElement('div');\n",
              "          docLink.innerHTML = docLinkHtml;\n",
              "          element.appendChild(docLink);\n",
              "        }\n",
              "      </script>\n",
              "    </div>\n",
              "  </div>\n",
              "  "
            ]
          },
          "metadata": {},
          "execution_count": 6
        }
      ]
    },
    {
      "cell_type": "code",
      "source": [
        "btc_data[\"OHLC4\"] = (btc_data[\"Open\"] + btc_data[\"High\"] + btc_data[\"Low\"] + btc_data[\"Close\"]) / 4 \n",
        "btc_data.tail()"
      ],
      "metadata": {
        "colab": {
          "base_uri": "https://localhost:8080/",
          "height": 237
        },
        "id": "4wBRUhGQAWfC",
        "outputId": "472572e5-22c9-4008-dbaa-bacf6e71ebe6"
      },
      "execution_count": null,
      "outputs": [
        {
          "output_type": "execute_result",
          "data": {
            "text/plain": [
              "                                   Open          High           Low  \\\n",
              "Datetime                                                              \n",
              "2023-04-02 08:00:00+00:00  28422.830078  28424.402344  28372.173828   \n",
              "2023-04-02 09:00:00+00:00  28381.097656  28434.978516  28370.878906   \n",
              "2023-04-02 10:00:00+00:00  28412.289062  28414.642578  28372.988281   \n",
              "2023-04-02 11:00:00+00:00  28374.568359  28378.099609  28322.080078   \n",
              "2023-04-02 12:00:00+00:00  28356.794922  28360.750000  28257.650391   \n",
              "\n",
              "                                  Close     Adj Close     Volume         OHLC4  \n",
              "Datetime                                                                        \n",
              "2023-04-02 08:00:00+00:00  28380.359375  28380.359375          0  28399.941406  \n",
              "2023-04-02 09:00:00+00:00  28411.384766  28411.384766          0  28399.584961  \n",
              "2023-04-02 10:00:00+00:00  28372.988281  28372.988281          0  28393.227051  \n",
              "2023-04-02 11:00:00+00:00  28356.761719  28356.761719          0  28357.877441  \n",
              "2023-04-02 12:00:00+00:00  28271.140625  28271.140625  174867456  28311.583984  "
            ],
            "text/html": [
              "\n",
              "  <div id=\"df-c5ca4562-69a8-432a-b382-351bf6a67a15\">\n",
              "    <div class=\"colab-df-container\">\n",
              "      <div>\n",
              "<style scoped>\n",
              "    .dataframe tbody tr th:only-of-type {\n",
              "        vertical-align: middle;\n",
              "    }\n",
              "\n",
              "    .dataframe tbody tr th {\n",
              "        vertical-align: top;\n",
              "    }\n",
              "\n",
              "    .dataframe thead th {\n",
              "        text-align: right;\n",
              "    }\n",
              "</style>\n",
              "<table border=\"1\" class=\"dataframe\">\n",
              "  <thead>\n",
              "    <tr style=\"text-align: right;\">\n",
              "      <th></th>\n",
              "      <th>Open</th>\n",
              "      <th>High</th>\n",
              "      <th>Low</th>\n",
              "      <th>Close</th>\n",
              "      <th>Adj Close</th>\n",
              "      <th>Volume</th>\n",
              "      <th>OHLC4</th>\n",
              "    </tr>\n",
              "    <tr>\n",
              "      <th>Datetime</th>\n",
              "      <th></th>\n",
              "      <th></th>\n",
              "      <th></th>\n",
              "      <th></th>\n",
              "      <th></th>\n",
              "      <th></th>\n",
              "      <th></th>\n",
              "    </tr>\n",
              "  </thead>\n",
              "  <tbody>\n",
              "    <tr>\n",
              "      <th>2023-04-02 08:00:00+00:00</th>\n",
              "      <td>28422.830078</td>\n",
              "      <td>28424.402344</td>\n",
              "      <td>28372.173828</td>\n",
              "      <td>28380.359375</td>\n",
              "      <td>28380.359375</td>\n",
              "      <td>0</td>\n",
              "      <td>28399.941406</td>\n",
              "    </tr>\n",
              "    <tr>\n",
              "      <th>2023-04-02 09:00:00+00:00</th>\n",
              "      <td>28381.097656</td>\n",
              "      <td>28434.978516</td>\n",
              "      <td>28370.878906</td>\n",
              "      <td>28411.384766</td>\n",
              "      <td>28411.384766</td>\n",
              "      <td>0</td>\n",
              "      <td>28399.584961</td>\n",
              "    </tr>\n",
              "    <tr>\n",
              "      <th>2023-04-02 10:00:00+00:00</th>\n",
              "      <td>28412.289062</td>\n",
              "      <td>28414.642578</td>\n",
              "      <td>28372.988281</td>\n",
              "      <td>28372.988281</td>\n",
              "      <td>28372.988281</td>\n",
              "      <td>0</td>\n",
              "      <td>28393.227051</td>\n",
              "    </tr>\n",
              "    <tr>\n",
              "      <th>2023-04-02 11:00:00+00:00</th>\n",
              "      <td>28374.568359</td>\n",
              "      <td>28378.099609</td>\n",
              "      <td>28322.080078</td>\n",
              "      <td>28356.761719</td>\n",
              "      <td>28356.761719</td>\n",
              "      <td>0</td>\n",
              "      <td>28357.877441</td>\n",
              "    </tr>\n",
              "    <tr>\n",
              "      <th>2023-04-02 12:00:00+00:00</th>\n",
              "      <td>28356.794922</td>\n",
              "      <td>28360.750000</td>\n",
              "      <td>28257.650391</td>\n",
              "      <td>28271.140625</td>\n",
              "      <td>28271.140625</td>\n",
              "      <td>174867456</td>\n",
              "      <td>28311.583984</td>\n",
              "    </tr>\n",
              "  </tbody>\n",
              "</table>\n",
              "</div>\n",
              "      <button class=\"colab-df-convert\" onclick=\"convertToInteractive('df-c5ca4562-69a8-432a-b382-351bf6a67a15')\"\n",
              "              title=\"Convert this dataframe to an interactive table.\"\n",
              "              style=\"display:none;\">\n",
              "        \n",
              "  <svg xmlns=\"http://www.w3.org/2000/svg\" height=\"24px\"viewBox=\"0 0 24 24\"\n",
              "       width=\"24px\">\n",
              "    <path d=\"M0 0h24v24H0V0z\" fill=\"none\"/>\n",
              "    <path d=\"M18.56 5.44l.94 2.06.94-2.06 2.06-.94-2.06-.94-.94-2.06-.94 2.06-2.06.94zm-11 1L8.5 8.5l.94-2.06 2.06-.94-2.06-.94L8.5 2.5l-.94 2.06-2.06.94zm10 10l.94 2.06.94-2.06 2.06-.94-2.06-.94-.94-2.06-.94 2.06-2.06.94z\"/><path d=\"M17.41 7.96l-1.37-1.37c-.4-.4-.92-.59-1.43-.59-.52 0-1.04.2-1.43.59L10.3 9.45l-7.72 7.72c-.78.78-.78 2.05 0 2.83L4 21.41c.39.39.9.59 1.41.59.51 0 1.02-.2 1.41-.59l7.78-7.78 2.81-2.81c.8-.78.8-2.07 0-2.86zM5.41 20L4 18.59l7.72-7.72 1.47 1.35L5.41 20z\"/>\n",
              "  </svg>\n",
              "      </button>\n",
              "      \n",
              "  <style>\n",
              "    .colab-df-container {\n",
              "      display:flex;\n",
              "      flex-wrap:wrap;\n",
              "      gap: 12px;\n",
              "    }\n",
              "\n",
              "    .colab-df-convert {\n",
              "      background-color: #E8F0FE;\n",
              "      border: none;\n",
              "      border-radius: 50%;\n",
              "      cursor: pointer;\n",
              "      display: none;\n",
              "      fill: #1967D2;\n",
              "      height: 32px;\n",
              "      padding: 0 0 0 0;\n",
              "      width: 32px;\n",
              "    }\n",
              "\n",
              "    .colab-df-convert:hover {\n",
              "      background-color: #E2EBFA;\n",
              "      box-shadow: 0px 1px 2px rgba(60, 64, 67, 0.3), 0px 1px 3px 1px rgba(60, 64, 67, 0.15);\n",
              "      fill: #174EA6;\n",
              "    }\n",
              "\n",
              "    [theme=dark] .colab-df-convert {\n",
              "      background-color: #3B4455;\n",
              "      fill: #D2E3FC;\n",
              "    }\n",
              "\n",
              "    [theme=dark] .colab-df-convert:hover {\n",
              "      background-color: #434B5C;\n",
              "      box-shadow: 0px 1px 3px 1px rgba(0, 0, 0, 0.15);\n",
              "      filter: drop-shadow(0px 1px 2px rgba(0, 0, 0, 0.3));\n",
              "      fill: #FFFFFF;\n",
              "    }\n",
              "  </style>\n",
              "\n",
              "      <script>\n",
              "        const buttonEl =\n",
              "          document.querySelector('#df-c5ca4562-69a8-432a-b382-351bf6a67a15 button.colab-df-convert');\n",
              "        buttonEl.style.display =\n",
              "          google.colab.kernel.accessAllowed ? 'block' : 'none';\n",
              "\n",
              "        async function convertToInteractive(key) {\n",
              "          const element = document.querySelector('#df-c5ca4562-69a8-432a-b382-351bf6a67a15');\n",
              "          const dataTable =\n",
              "            await google.colab.kernel.invokeFunction('convertToInteractive',\n",
              "                                                     [key], {});\n",
              "          if (!dataTable) return;\n",
              "\n",
              "          const docLinkHtml = 'Like what you see? Visit the ' +\n",
              "            '<a target=\"_blank\" href=https://colab.research.google.com/notebooks/data_table.ipynb>data table notebook</a>'\n",
              "            + ' to learn more about interactive tables.';\n",
              "          element.innerHTML = '';\n",
              "          dataTable['output_type'] = 'display_data';\n",
              "          await google.colab.output.renderOutput(dataTable, element);\n",
              "          const docLink = document.createElement('div');\n",
              "          docLink.innerHTML = docLinkHtml;\n",
              "          element.appendChild(docLink);\n",
              "        }\n",
              "      </script>\n",
              "    </div>\n",
              "  </div>\n",
              "  "
            ]
          },
          "metadata": {},
          "execution_count": 7
        }
      ]
    },
    {
      "cell_type": "code",
      "source": [
        "bitcoin_prices_ohlc4_df = pd.DataFrame(btc_data[\"OHLC4\"]).rename(columns={\"OHLC4\": \"Price\"})\n",
        "bitcoin_prices_ohlc4_df.tail()"
      ],
      "metadata": {
        "colab": {
          "base_uri": "https://localhost:8080/",
          "height": 237
        },
        "id": "_zzFHvBN-vL0",
        "outputId": "09cbef41-e0d7-436b-d489-59ddb6c681ce"
      },
      "execution_count": null,
      "outputs": [
        {
          "output_type": "execute_result",
          "data": {
            "text/plain": [
              "                                  Price\n",
              "Datetime                               \n",
              "2023-04-02 08:00:00+00:00  28399.941406\n",
              "2023-04-02 09:00:00+00:00  28399.584961\n",
              "2023-04-02 10:00:00+00:00  28393.227051\n",
              "2023-04-02 11:00:00+00:00  28357.877441\n",
              "2023-04-02 12:00:00+00:00  28311.583984"
            ],
            "text/html": [
              "\n",
              "  <div id=\"df-5c9a63f9-8f31-4c93-aa03-e13659fc62af\">\n",
              "    <div class=\"colab-df-container\">\n",
              "      <div>\n",
              "<style scoped>\n",
              "    .dataframe tbody tr th:only-of-type {\n",
              "        vertical-align: middle;\n",
              "    }\n",
              "\n",
              "    .dataframe tbody tr th {\n",
              "        vertical-align: top;\n",
              "    }\n",
              "\n",
              "    .dataframe thead th {\n",
              "        text-align: right;\n",
              "    }\n",
              "</style>\n",
              "<table border=\"1\" class=\"dataframe\">\n",
              "  <thead>\n",
              "    <tr style=\"text-align: right;\">\n",
              "      <th></th>\n",
              "      <th>Price</th>\n",
              "    </tr>\n",
              "    <tr>\n",
              "      <th>Datetime</th>\n",
              "      <th></th>\n",
              "    </tr>\n",
              "  </thead>\n",
              "  <tbody>\n",
              "    <tr>\n",
              "      <th>2023-04-02 08:00:00+00:00</th>\n",
              "      <td>28399.941406</td>\n",
              "    </tr>\n",
              "    <tr>\n",
              "      <th>2023-04-02 09:00:00+00:00</th>\n",
              "      <td>28399.584961</td>\n",
              "    </tr>\n",
              "    <tr>\n",
              "      <th>2023-04-02 10:00:00+00:00</th>\n",
              "      <td>28393.227051</td>\n",
              "    </tr>\n",
              "    <tr>\n",
              "      <th>2023-04-02 11:00:00+00:00</th>\n",
              "      <td>28357.877441</td>\n",
              "    </tr>\n",
              "    <tr>\n",
              "      <th>2023-04-02 12:00:00+00:00</th>\n",
              "      <td>28311.583984</td>\n",
              "    </tr>\n",
              "  </tbody>\n",
              "</table>\n",
              "</div>\n",
              "      <button class=\"colab-df-convert\" onclick=\"convertToInteractive('df-5c9a63f9-8f31-4c93-aa03-e13659fc62af')\"\n",
              "              title=\"Convert this dataframe to an interactive table.\"\n",
              "              style=\"display:none;\">\n",
              "        \n",
              "  <svg xmlns=\"http://www.w3.org/2000/svg\" height=\"24px\"viewBox=\"0 0 24 24\"\n",
              "       width=\"24px\">\n",
              "    <path d=\"M0 0h24v24H0V0z\" fill=\"none\"/>\n",
              "    <path d=\"M18.56 5.44l.94 2.06.94-2.06 2.06-.94-2.06-.94-.94-2.06-.94 2.06-2.06.94zm-11 1L8.5 8.5l.94-2.06 2.06-.94-2.06-.94L8.5 2.5l-.94 2.06-2.06.94zm10 10l.94 2.06.94-2.06 2.06-.94-2.06-.94-.94-2.06-.94 2.06-2.06.94z\"/><path d=\"M17.41 7.96l-1.37-1.37c-.4-.4-.92-.59-1.43-.59-.52 0-1.04.2-1.43.59L10.3 9.45l-7.72 7.72c-.78.78-.78 2.05 0 2.83L4 21.41c.39.39.9.59 1.41.59.51 0 1.02-.2 1.41-.59l7.78-7.78 2.81-2.81c.8-.78.8-2.07 0-2.86zM5.41 20L4 18.59l7.72-7.72 1.47 1.35L5.41 20z\"/>\n",
              "  </svg>\n",
              "      </button>\n",
              "      \n",
              "  <style>\n",
              "    .colab-df-container {\n",
              "      display:flex;\n",
              "      flex-wrap:wrap;\n",
              "      gap: 12px;\n",
              "    }\n",
              "\n",
              "    .colab-df-convert {\n",
              "      background-color: #E8F0FE;\n",
              "      border: none;\n",
              "      border-radius: 50%;\n",
              "      cursor: pointer;\n",
              "      display: none;\n",
              "      fill: #1967D2;\n",
              "      height: 32px;\n",
              "      padding: 0 0 0 0;\n",
              "      width: 32px;\n",
              "    }\n",
              "\n",
              "    .colab-df-convert:hover {\n",
              "      background-color: #E2EBFA;\n",
              "      box-shadow: 0px 1px 2px rgba(60, 64, 67, 0.3), 0px 1px 3px 1px rgba(60, 64, 67, 0.15);\n",
              "      fill: #174EA6;\n",
              "    }\n",
              "\n",
              "    [theme=dark] .colab-df-convert {\n",
              "      background-color: #3B4455;\n",
              "      fill: #D2E3FC;\n",
              "    }\n",
              "\n",
              "    [theme=dark] .colab-df-convert:hover {\n",
              "      background-color: #434B5C;\n",
              "      box-shadow: 0px 1px 3px 1px rgba(0, 0, 0, 0.15);\n",
              "      filter: drop-shadow(0px 1px 2px rgba(0, 0, 0, 0.3));\n",
              "      fill: #FFFFFF;\n",
              "    }\n",
              "  </style>\n",
              "\n",
              "      <script>\n",
              "        const buttonEl =\n",
              "          document.querySelector('#df-5c9a63f9-8f31-4c93-aa03-e13659fc62af button.colab-df-convert');\n",
              "        buttonEl.style.display =\n",
              "          google.colab.kernel.accessAllowed ? 'block' : 'none';\n",
              "\n",
              "        async function convertToInteractive(key) {\n",
              "          const element = document.querySelector('#df-5c9a63f9-8f31-4c93-aa03-e13659fc62af');\n",
              "          const dataTable =\n",
              "            await google.colab.kernel.invokeFunction('convertToInteractive',\n",
              "                                                     [key], {});\n",
              "          if (!dataTable) return;\n",
              "\n",
              "          const docLinkHtml = 'Like what you see? Visit the ' +\n",
              "            '<a target=\"_blank\" href=https://colab.research.google.com/notebooks/data_table.ipynb>data table notebook</a>'\n",
              "            + ' to learn more about interactive tables.';\n",
              "          element.innerHTML = '';\n",
              "          dataTable['output_type'] = 'display_data';\n",
              "          await google.colab.output.renderOutput(dataTable, element);\n",
              "          const docLink = document.createElement('div');\n",
              "          docLink.innerHTML = docLinkHtml;\n",
              "          element.appendChild(docLink);\n",
              "        }\n",
              "      </script>\n",
              "    </div>\n",
              "  </div>\n",
              "  "
            ]
          },
          "metadata": {},
          "execution_count": 8
        }
      ]
    },
    {
      "cell_type": "code",
      "source": [
        "def timesteps_and_prices(df):\n",
        "  '''\n",
        "  Parameters:\n",
        "      df: dataframe that contains two columns (Date column, price column)\n",
        "  output:\n",
        "      timesteps : in pandas datetime format\n",
        "      prices: in numpy format\n",
        "  '''\n",
        "  timesteps = pd.to_datetime(df.index.to_numpy())\n",
        "  prices = df[\"Price\"].to_numpy()\n",
        "\n",
        "  return timesteps, prices\n"
      ],
      "metadata": {
        "id": "nwtF-4xuAl5n"
      },
      "execution_count": null,
      "outputs": []
    },
    {
      "cell_type": "code",
      "source": [
        "timesteps, prices = timesteps_and_prices(bitcoin_prices_ohlc4_df)\n",
        "timesteps[:10], prices[:10]"
      ],
      "metadata": {
        "colab": {
          "base_uri": "https://localhost:8080/"
        },
        "id": "lbZnusoRJwK7",
        "outputId": "3aa3a042-5cb4-4fda-9b10-9f2025ff7828"
      },
      "execution_count": null,
      "outputs": [
        {
          "output_type": "execute_result",
          "data": {
            "text/plain": [
              "(DatetimeIndex(['2021-04-12 12:00:00+00:00', '2021-04-12 13:00:00+00:00',\n",
              "                '2021-04-12 14:00:00+00:00', '2021-04-12 15:00:00+00:00',\n",
              "                '2021-04-12 16:00:00+00:00', '2021-04-12 17:00:00+00:00',\n",
              "                '2021-04-12 18:00:00+00:00', '2021-04-12 19:00:00+00:00',\n",
              "                '2021-04-12 20:00:00+00:00', '2021-04-12 21:00:00+00:00'],\n",
              "               dtype='datetime64[ns, UTC]', freq=None),\n",
              " array([60487.69042969, 60526.47558594, 60255.39257812, 59993.91992188,\n",
              "        60044.12988281, 59953.51953125, 59975.97558594, 60139.23828125,\n",
              "        60174.09570312, 60073.32421875]))"
            ]
          },
          "metadata": {},
          "execution_count": 10
        }
      ]
    },
    {
      "cell_type": "markdown",
      "source": [
        "## Scale the data"
      ],
      "metadata": {
        "id": "4PRXTAT64CEO"
      }
    },
    {
      "cell_type": "code",
      "source": [
        "import numpy as np\n",
        "import tensorflow as tf"
      ],
      "metadata": {
        "id": "Z52gQkst00i0"
      },
      "execution_count": null,
      "outputs": []
    },
    {
      "cell_type": "code",
      "source": [
        "from sklearn.preprocessing import RobustScaler\n",
        "\n",
        "def scale_data(prices):\n",
        "  scaler = RobustScaler()\n",
        "  scaled_prices= scaler.fit_transform(prices.reshape(-1, 1))\n",
        "  scaled_prices= scaled_prices.reshape(1,-1)\n",
        "  return scaled_prices.squeeze(),scaler\n",
        "prices, scale_data(prices)"
      ],
      "metadata": {
        "colab": {
          "base_uri": "https://localhost:8080/"
        },
        "id": "qNPcMft24L-E",
        "outputId": "1ca3d7c9-cfc1-4df2-8ef7-25f556fb590d"
      },
      "execution_count": null,
      "outputs": [
        {
          "output_type": "execute_result",
          "data": {
            "text/plain": [
              "(array([60487.69042969, 60526.47558594, 60255.39257812, ...,\n",
              "        28393.22705078, 28357.87744141, 28311.58398438]),\n",
              " (array([ 1.12281122,  1.12446443,  1.11290959, ..., -0.24520635,\n",
              "         -0.24671312, -0.24868636]),\n",
              "  RobustScaler()))"
            ]
          },
          "metadata": {},
          "execution_count": 12
        }
      ]
    },
    {
      "cell_type": "markdown",
      "source": [
        "## Split the data"
      ],
      "metadata": {
        "id": "WzXxVqk14fb6"
      }
    },
    {
      "cell_type": "code",
      "source": [
        "def get_train_test_split(timesteps,prices, train_test_ratio=0.8):\n",
        "  '''\n",
        "  Parameters: \n",
        "      timesteps\n",
        "      prices\n",
        "  output:\n",
        "      X_train, y_train, X_test, y_test\n",
        "  '''\n",
        "  split_size = int(0.8 * len(prices))\n",
        "  X_train, y_train = timesteps[:split_size], prices[:split_size]\n",
        "\n",
        "  X_test, y_test = timesteps[split_size:], prices[split_size:]\n",
        "  return X_train, y_train, X_test, y_test\n"
      ],
      "metadata": {
        "id": "CATm7r_hJ2_Q"
      },
      "execution_count": null,
      "outputs": []
    },
    {
      "cell_type": "code",
      "source": [
        "timesteps, prices = timesteps_and_prices(bitcoin_prices_ohlc4_df)\n",
        "scaled_prices,SCALER = scale_data(prices)\n",
        "X_train, y_train, X_test, y_test = get_train_test_split(timesteps,scaled_prices)\n",
        "X_train[:10], y_train[:10]"
      ],
      "metadata": {
        "colab": {
          "base_uri": "https://localhost:8080/"
        },
        "id": "_vIHj1E8K1mj",
        "outputId": "a150aab0-7e64-421c-ac17-5232e0a11be7"
      },
      "execution_count": null,
      "outputs": [
        {
          "output_type": "execute_result",
          "data": {
            "text/plain": [
              "(DatetimeIndex(['2021-04-12 12:00:00+00:00', '2021-04-12 13:00:00+00:00',\n",
              "                '2021-04-12 14:00:00+00:00', '2021-04-12 15:00:00+00:00',\n",
              "                '2021-04-12 16:00:00+00:00', '2021-04-12 17:00:00+00:00',\n",
              "                '2021-04-12 18:00:00+00:00', '2021-04-12 19:00:00+00:00',\n",
              "                '2021-04-12 20:00:00+00:00', '2021-04-12 21:00:00+00:00'],\n",
              "               dtype='datetime64[ns, UTC]', freq=None),\n",
              " array([1.12281122, 1.12446443, 1.11290959, 1.10176439, 1.10390458,\n",
              "        1.10004233, 1.10099952, 1.10795854, 1.10944433, 1.10514898]))"
            ]
          },
          "metadata": {},
          "execution_count": 14
        }
      ]
    },
    {
      "cell_type": "code",
      "source": [
        "\n",
        "import matplotlib.pyplot as plt \n",
        "\n",
        "def plot_time_series(timesteps, values, format='.', start=0, end=None, label=None):\n",
        "  \"\"\"\n",
        "  Plots a timesteps (a series of points in time) against values (a series of values across timesteps).\n",
        "  \n",
        "  Parameters:\n",
        "      timesteps : array of timesteps\n",
        "      values : array of values across time\n",
        "      format : style of plot, default \".\"\n",
        "      start : where to start the plot (setting a value will index from start of timesteps & values)\n",
        "      end : where to end the plot (setting a value will index from end of timesteps & values)\n",
        "      label : label to show on plot of values\n",
        "  \"\"\"\n",
        "  # Plot the series\n",
        "  plt.plot(timesteps[start:end], values[start:end], format, label=label)\n",
        "  plt.xlabel(\"Time\")\n",
        "  plt.ylabel(\"BTC Price\")\n",
        "  if label:\n",
        "    plt.legend(fontsize=14) # make label bigger\n",
        "  plt.grid(True)"
      ],
      "metadata": {
        "id": "hywHWbj-K-jj"
      },
      "execution_count": null,
      "outputs": []
    },
    {
      "cell_type": "code",
      "source": [
        "plt.figure(figsize=(10, 7))\n",
        "plot_time_series(timesteps=X_train, values=y_train, label=\"Train data\")\n",
        "plot_time_series(timesteps=X_test, values=y_test, label=\"Test data\")"
      ],
      "metadata": {
        "colab": {
          "base_uri": "https://localhost:8080/",
          "height": 619
        },
        "id": "JSmHg63eL30h",
        "outputId": "c9de9832-9401-42ec-8fc1-d5755d4f2641"
      },
      "execution_count": null,
      "outputs": [
        {
          "output_type": "display_data",
          "data": {
            "text/plain": [
              "<Figure size 1000x700 with 1 Axes>"
            ],
            "image/png": "[encoded data removed]"
          },
          "metadata": {}
        }
      ]
    },
    {
      "cell_type": "markdown",
      "source": [
        "## Define evaluation metrics"
      ],
      "metadata": {
        "id": "Esf7nJst4F01"
      }
    },
    {
      "cell_type": "code",
      "source": [
        "def smape(actual, forecast):\n",
        "    \"\"\"\n",
        "    Calculates Symmetric Mean Absolute Percentage Error (SMAPE) for time series evaluation\n",
        "    Parameters:\n",
        "        targets: a numpy array of actual values\n",
        "        predictions: a numpy array of predicted values\n",
        "    Returns:\n",
        "        smape: the SMAPE value\n",
        "    \"\"\"\n",
        "    epsilon = 1e-8\n",
        "    dividend = tf.abs(actual - forecast)\n",
        "    denominator = tf.abs(actual) + tf.abs(forecast)\n",
        "    smape = 200 * tf.reduce_sum(tf.divide(dividend, denominator + epsilon))/tf.size(actual,out_type=tf.float32)\n",
        "    return smape"
      ],
      "metadata": {
        "id": "0Rit8KDxMDNa"
      },
      "execution_count": null,
      "outputs": []
    },
    {
      "cell_type": "code",
      "source": [
        "def mape(actual, forecast):\n",
        "    \"\"\"\n",
        "    Calculates Symmetric Mean Absolute Percentage Error (SMAPE) for time series evaluation\n",
        "    Parameters:\n",
        "        targets: a numpy array of actual values\n",
        "        predictions: a numpy array of predicted values\n",
        "    Returns:\n",
        "        mape: the SMAPE value\n",
        "    \"\"\"\n",
        "    epsilon = 1e-8\n",
        "    dividend = tf.abs(actual-forecast)\n",
        "    denomenator = tf.abs(actual)\n",
        "    mape = 100*tf.reduce_sum(tf.divide(dividend,denomenator + epsilon))/tf.size(actual,out_type=tf.float32)\n",
        "    return mape"
      ],
      "metadata": {
        "id": "qKo8R4GrNjGJ"
      },
      "execution_count": null,
      "outputs": []
    },
    {
      "cell_type": "code",
      "source": [
        "def mean_absolute_scaled_error(actual, forecast, horizon=1):\n",
        "    \"\"\"\n",
        "    Parameters:\n",
        "        actual: numpy array-like with actual values\n",
        "        forecast: numpy array-like with forecasted values\n",
        "        horizon: int for the difference between naive forecast and actual value\n",
        "    Outputs:\n",
        "        mase: float, mean absolute scaled error\n",
        "    \"\"\"\n",
        "    abs_errors = tf.abs(actual - forecast)\n",
        "\n",
        "    # Calculate the mean absolute error\n",
        "    mean_absolute_error = tf.reduce_mean(abs_errors)\n",
        "\n",
        "    # Calculate the mean absolute error for the naive forecast\n",
        "    naive_forecast_errors = tf.abs(actual[horizon:] - actual[:-horizon])\n",
        "    mean_absolute_naive_error = tf.reduce_mean(naive_forecast_errors)\n",
        "\n",
        "    # Calculate the mean absolute scaled error\n",
        "    mase = mean_absolute_error / mean_absolute_naive_error\n",
        "\n",
        "    return mase"
      ],
      "metadata": {
        "id": "tVhPza9BTt_G"
      },
      "execution_count": null,
      "outputs": []
    },
    {
      "cell_type": "code",
      "source": [
        "def evaluate_preds(y_true, y_pred):\n",
        "  # Make sure float32 (for metric calculations)\n",
        "  y_true = tf.cast(y_true, dtype=tf.float32)\n",
        "  y_pred = tf.cast(y_pred, dtype=tf.float32)\n",
        "\n",
        "  # Calculate various metrics\n",
        "  mae = tf.keras.metrics.mean_absolute_error(y_true, y_pred)\n",
        "  mse = tf.keras.metrics.mean_squared_error(y_true, y_pred) # puts and emphasis on outliers (all errors get squared)\n",
        "  rmse = tf.sqrt(mse)\n",
        "  mape = mape(y_true, y_pred)\n",
        "  mase = mean_absolute_scaled_error(y_true, y_pred)\n",
        "  smape = smape(y_true, y_pred)\n",
        "  \n",
        "  if mae.ndim > 0: \n",
        "    mae = tf.reduce_mean(mae)\n",
        "    mse = tf.reduce_mean(mse)\n",
        "    rmse = tf.reduce_mean(rmse)\n",
        "    mape = tf.reduce_mean(mape)\n",
        "    mase = tf.reduce_mean(mase)\n",
        "\n",
        "  return {\"mae\": mae.numpy(),\n",
        "          \"mse\": mse.numpy(),\n",
        "          \"rmse\": rmse.numpy(),\n",
        "          \"mape\": mape.numpy(),\n",
        "          \"mase\": mase.numpy(),\n",
        "          'smape': smape.numpy()}"
      ],
      "metadata": {
        "id": "Sv6fwpuIwJ2H"
      },
      "execution_count": null,
      "outputs": []
    },
    {
      "cell_type": "markdown",
      "source": [
        "## Define custom SMAPE metric"
      ],
      "metadata": {
        "id": "2ToqavNbSzNd"
      }
    },
    {
      "cell_type": "code",
      "source": [
        "import tensorflow as tf \n",
        "class SMAPE(tf.keras.metrics.Metric): \n",
        "  def __init__(self, name='smape', **kwargs):\n",
        "     super(SMAPE, self).__init__(name=name, **kwargs) \n",
        "     self.epsilon = 1e-8 \n",
        "     self.total_smape = self.add_weight(name='total', initializer='zeros') \n",
        "     self.counter = self.add_weight(name='counter', initializer='zeros') \n",
        "  def update_state(self, y_true, y_pred, sample_weight=None): \n",
        "    dividend = tf.abs(y_true - y_pred) \n",
        "    denominator = tf.abs(y_true) + tf.abs(y_pred) \n",
        "    smape = 200 * tf.divide(dividend, denominator + self.epsilon) \n",
        "    self.total_smape.assign_add(tf.reduce_sum(smape)) \n",
        "    self.counter.assign_add(tf.cast(tf.size(y_true), dtype=tf.float32)) \n",
        "  def result(self): \n",
        "    return tf.math.divide_no_nan(self.total_smape, self.counter) \n",
        "  def reset_states(self): \n",
        "    self.total_smape.assign(0.) \n",
        "    self.counter.assign(0.) "
      ],
      "metadata": {
        "id": "7O1tK4erPrTT"
      },
      "execution_count": null,
      "outputs": []
    },
    {
      "cell_type": "markdown",
      "source": [
        "## Window the data"
      ],
      "metadata": {
        "id": "BCpX75tLzO2Q"
      }
    },
    {
      "cell_type": "code",
      "source": [
        "HORIZON = 24\n",
        "WINDOW_SIZE= 4*HORIZON"
      ],
      "metadata": {
        "id": "BqshT6-gOv2e"
      },
      "execution_count": null,
      "outputs": []
    },
    {
      "cell_type": "code",
      "source": [
        "def get_labelled_windows(x , horizon=1):\n",
        "  \"\"\"\n",
        "  Create labels for windowed dataset\n",
        "  \"\"\"\n",
        "  return x[:,:-horizon] , x[:,-horizon:]"
      ],
      "metadata": {
        "id": "-DgcICugzq11"
      },
      "execution_count": null,
      "outputs": []
    },
    {
      "cell_type": "code",
      "source": [
        "def make_windows(x, window_size=7, horizon=1):\n",
        "  \"\"\"\n",
        "  Turns a 1D array into a 2D array of sequential windows of window_size.\n",
        "  \"\"\"\n",
        "  # 1. Create a window of specific window_size (add the horizon on the end for later labelling)\n",
        "  window_step = np.expand_dims(np.arange(window_size+horizon), axis=0)\n",
        "  # print(f\"Window step:\\n {window_step}\")\n",
        "\n",
        "  # 2. Create a 2D array of multiple window steps (minus 1 to account for 0 indexing)\n",
        "  window_indexes = window_step + np.expand_dims(np.arange(len(x)-(window_size+horizon-1)), axis=0).T # create 2D array of windows of size window_size\n",
        "  # print(f\"Window indexes:\\n {window_indexes[:3], window_indexes[-3:], window_indexes.shape}\")\n",
        "\n",
        "  # 3. Index on the target array (time series) with 2D array of multiple window steps\n",
        "  windowed_array = x[window_indexes]\n",
        "\n",
        "  # 4. Get the labelled windows\n",
        "  windows, labels = get_labelled_windows(windowed_array, horizon=horizon)\n",
        "\n",
        "  return windows, labels"
      ],
      "metadata": {
        "id": "baUuSQFuzND0"
      },
      "execution_count": null,
      "outputs": []
    },
    {
      "cell_type": "code",
      "source": [
        "full_windows, full_labels = make_windows(prices, window_size=WINDOW_SIZE, horizon=HORIZON)\n",
        "len(full_windows), len(full_labels)"
      ],
      "metadata": {
        "colab": {
          "base_uri": "https://localhost:8080/"
        },
        "id": "KbFD4mlSzsy8",
        "outputId": "f92fcdab-4e3a-44b3-a0d8-c0015d5f8a98"
      },
      "execution_count": null,
      "outputs": [
        {
          "output_type": "execute_result",
          "data": {
            "text/plain": [
              "(16947, 16947)"
            ]
          },
          "metadata": {},
          "execution_count": 25
        }
      ]
    },
    {
      "cell_type": "code",
      "source": [
        "def make_train_test_splits(windows, labels, test_split=0.2):\n",
        "  \"\"\"\n",
        "  Splits matching pairs of windows and labels into train and test splits.\n",
        "  \"\"\"\n",
        "  split_size = int(len(windows) * (1-test_split)) # this will default to 80% train/20% test\n",
        "  train_windows = windows[:split_size]\n",
        "  train_labels = labels[:split_size]\n",
        "  test_windows = windows[split_size:]\n",
        "  test_labels = labels[split_size:]\n",
        "  return train_windows, test_windows, train_labels, test_labels"
      ],
      "metadata": {
        "id": "SRJO6vBCzwvI"
      },
      "execution_count": null,
      "outputs": []
    },
    {
      "cell_type": "code",
      "source": [
        "train_windows, test_windows, train_labels, test_labels = make_train_test_splits(full_windows, full_labels)\n",
        "len(train_windows), len(test_windows), len(train_labels), len(test_labels)"
      ],
      "metadata": {
        "colab": {
          "base_uri": "https://localhost:8080/"
        },
        "id": "d_VXhlMkz2vD",
        "outputId": "754e4d12-7e79-4f9b-c0c9-0c10bc593a21"
      },
      "execution_count": null,
      "outputs": [
        {
          "output_type": "execute_result",
          "data": {
            "text/plain": [
              "(13557, 3390, 13557, 3390)"
            ]
          },
          "metadata": {},
          "execution_count": 27
        }
      ]
    },
    {
      "cell_type": "code",
      "source": [
        "bit_scaled_df = pd.DataFrame(scaled_prices, columns=['Price'])\n",
        "bit_scaled_df.head()"
      ],
      "metadata": {
        "colab": {
          "base_uri": "https://localhost:8080/",
          "height": 206
        },
        "id": "sFymgmmDqln4",
        "outputId": "7faaef16-355c-4526-811a-926d7d262458"
      },
      "execution_count": null,
      "outputs": [
        {
          "output_type": "execute_result",
          "data": {
            "text/plain": [
              "      Price\n",
              "0  1.122811\n",
              "1  1.124464\n",
              "2  1.112910\n",
              "3  1.101764\n",
              "4  1.103905"
            ],
            "text/html": [
              "\n",
              "  <div id=\"df-ff588c7e-b6b9-4a8b-a3eb-66f344f002e4\">\n",
              "    <div class=\"colab-df-container\">\n",
              "      <div>\n",
              "<style scoped>\n",
              "    .dataframe tbody tr th:only-of-type {\n",
              "        vertical-align: middle;\n",
              "    }\n",
              "\n",
              "    .dataframe tbody tr th {\n",
              "        vertical-align: top;\n",
              "    }\n",
              "\n",
              "    .dataframe thead th {\n",
              "        text-align: right;\n",
              "    }\n",
              "</style>\n",
              "<table border=\"1\" class=\"dataframe\">\n",
              "  <thead>\n",
              "    <tr style=\"text-align: right;\">\n",
              "      <th></th>\n",
              "      <th>Price</th>\n",
              "    </tr>\n",
              "  </thead>\n",
              "  <tbody>\n",
              "    <tr>\n",
              "      <th>0</th>\n",
              "      <td>1.122811</td>\n",
              "    </tr>\n",
              "    <tr>\n",
              "      <th>1</th>\n",
              "      <td>1.124464</td>\n",
              "    </tr>\n",
              "    <tr>\n",
              "      <th>2</th>\n",
              "      <td>1.112910</td>\n",
              "    </tr>\n",
              "    <tr>\n",
              "      <th>3</th>\n",
              "      <td>1.101764</td>\n",
              "    </tr>\n",
              "    <tr>\n",
              "      <th>4</th>\n",
              "      <td>1.103905</td>\n",
              "    </tr>\n",
              "  </tbody>\n",
              "</table>\n",
              "</div>\n",
              "      <button class=\"colab-df-convert\" onclick=\"convertToInteractive('df-ff588c7e-b6b9-4a8b-a3eb-66f344f002e4')\"\n",
              "              title=\"Convert this dataframe to an interactive table.\"\n",
              "              style=\"display:none;\">\n",
              "        \n",
              "  <svg xmlns=\"http://www.w3.org/2000/svg\" height=\"24px\"viewBox=\"0 0 24 24\"\n",
              "       width=\"24px\">\n",
              "    <path d=\"M0 0h24v24H0V0z\" fill=\"none\"/>\n",
              "    <path d=\"M18.56 5.44l.94 2.06.94-2.06 2.06-.94-2.06-.94-.94-2.06-.94 2.06-2.06.94zm-11 1L8.5 8.5l.94-2.06 2.06-.94-2.06-.94L8.5 2.5l-.94 2.06-2.06.94zm10 10l.94 2.06.94-2.06 2.06-.94-2.06-.94-.94-2.06-.94 2.06-2.06.94z\"/><path d=\"M17.41 7.96l-1.37-1.37c-.4-.4-.92-.59-1.43-.59-.52 0-1.04.2-1.43.59L10.3 9.45l-7.72 7.72c-.78.78-.78 2.05 0 2.83L4 21.41c.39.39.9.59 1.41.59.51 0 1.02-.2 1.41-.59l7.78-7.78 2.81-2.81c.8-.78.8-2.07 0-2.86zM5.41 20L4 18.59l7.72-7.72 1.47 1.35L5.41 20z\"/>\n",
              "  </svg>\n",
              "      </button>\n",
              "      \n",
              "  <style>\n",
              "    .colab-df-container {\n",
              "      display:flex;\n",
              "      flex-wrap:wrap;\n",
              "      gap: 12px;\n",
              "    }\n",
              "\n",
              "    .colab-df-convert {\n",
              "      background-color: #E8F0FE;\n",
              "      border: none;\n",
              "      border-radius: 50%;\n",
              "      cursor: pointer;\n",
              "      display: none;\n",
              "      fill: #1967D2;\n",
              "      height: 32px;\n",
              "      padding: 0 0 0 0;\n",
              "      width: 32px;\n",
              "    }\n",
              "\n",
              "    .colab-df-convert:hover {\n",
              "      background-color: #E2EBFA;\n",
              "      box-shadow: 0px 1px 2px rgba(60, 64, 67, 0.3), 0px 1px 3px 1px rgba(60, 64, 67, 0.15);\n",
              "      fill: #174EA6;\n",
              "    }\n",
              "\n",
              "    [theme=dark] .colab-df-convert {\n",
              "      background-color: #3B4455;\n",
              "      fill: #D2E3FC;\n",
              "    }\n",
              "\n",
              "    [theme=dark] .colab-df-convert:hover {\n",
              "      background-color: #434B5C;\n",
              "      box-shadow: 0px 1px 3px 1px rgba(0, 0, 0, 0.15);\n",
              "      filter: drop-shadow(0px 1px 2px rgba(0, 0, 0, 0.3));\n",
              "      fill: #FFFFFF;\n",
              "    }\n",
              "  </style>\n",
              "\n",
              "      <script>\n",
              "        const buttonEl =\n",
              "          document.querySelector('#df-ff588c7e-b6b9-4a8b-a3eb-66f344f002e4 button.colab-df-convert');\n",
              "        buttonEl.style.display =\n",
              "          google.colab.kernel.accessAllowed ? 'block' : 'none';\n",
              "\n",
              "        async function convertToInteractive(key) {\n",
              "          const element = document.querySelector('#df-ff588c7e-b6b9-4a8b-a3eb-66f344f002e4');\n",
              "          const dataTable =\n",
              "            await google.colab.kernel.invokeFunction('convertToInteractive',\n",
              "                                                     [key], {});\n",
              "          if (!dataTable) return;\n",
              "\n",
              "          const docLinkHtml = 'Like what you see? Visit the ' +\n",
              "            '<a target=\"_blank\" href=https://colab.research.google.com/notebooks/data_table.ipynb>data table notebook</a>'\n",
              "            + ' to learn more about interactive tables.';\n",
              "          element.innerHTML = '';\n",
              "          dataTable['output_type'] = 'display_data';\n",
              "          await google.colab.output.renderOutput(dataTable, element);\n",
              "          const docLink = document.createElement('div');\n",
              "          docLink.innerHTML = docLinkHtml;\n",
              "          element.appendChild(docLink);\n",
              "        }\n",
              "      </script>\n",
              "    </div>\n",
              "  </div>\n",
              "  "
            ]
          },
          "metadata": {},
          "execution_count": 28
        }
      ]
    },
    {
      "cell_type": "code",
      "source": [
        "def create_data_window():\n",
        "    bitcoin_prices_nbeats = bit_scaled_df.copy()\n",
        "    # bitcoin_prices_nbeats['Price']=bitcoin_prices['Price']\n",
        "    for i in range(WINDOW_SIZE-1):\n",
        "      bitcoin_prices_nbeats[f\"Price+{i+1}\"] = bitcoin_prices_nbeats[\"Price\"].shift(periods=i+1)\n",
        "    return bitcoin_prices_nbeats.dropna()"
      ],
      "metadata": {
        "id": "WPZzkLjxpHSh"
      },
      "execution_count": null,
      "outputs": []
    },
    {
      "cell_type": "code",
      "source": [
        "create_data_window().head()"
      ],
      "metadata": {
        "colab": {
          "base_uri": "https://localhost:8080/",
          "height": 299
        },
        "id": "dayjirNZqdz-",
        "outputId": "3b5fc83f-7b42-44f4-9610-a739f9c84b39"
      },
      "execution_count": null,
      "outputs": [
        {
          "output_type": "execute_result",
          "data": {
            "text/plain": [
              "       Price   Price+1   Price+2   Price+3   Price+4   Price+5   Price+6  \\\n",
              "95  1.172397  1.151472  1.138736  1.142664  1.129679  1.132572  1.149118   \n",
              "96  1.176852  1.172397  1.151472  1.138736  1.142664  1.129679  1.132572   \n",
              "97  1.181161  1.176852  1.172397  1.151472  1.138736  1.142664  1.129679   \n",
              "98  1.176752  1.181161  1.176852  1.172397  1.151472  1.138736  1.142664   \n",
              "99  1.181523  1.176752  1.181161  1.176852  1.172397  1.151472  1.138736   \n",
              "\n",
              "     Price+7   Price+8   Price+9  ...  Price+86  Price+87  Price+88  Price+89  \\\n",
              "95  1.167603  1.167619  1.171415  ...  1.105149  1.109444  1.107959  1.101000   \n",
              "96  1.149118  1.167603  1.167619  ...  1.104119  1.105149  1.109444  1.107959   \n",
              "97  1.132572  1.149118  1.167603  ...  1.109754  1.104119  1.105149  1.109444   \n",
              "98  1.129679  1.132572  1.149118  ...  1.123811  1.109754  1.104119  1.105149   \n",
              "99  1.142664  1.129679  1.132572  ...  1.133222  1.123811  1.109754  1.104119   \n",
              "\n",
              "    Price+90  Price+91  Price+92  Price+93  Price+94  Price+95  \n",
              "95  1.100042  1.103905  1.101764  1.112910  1.124464  1.122811  \n",
              "96  1.101000  1.100042  1.103905  1.101764  1.112910  1.124464  \n",
              "97  1.107959  1.101000  1.100042  1.103905  1.101764  1.112910  \n",
              "98  1.109444  1.107959  1.101000  1.100042  1.103905  1.101764  \n",
              "99  1.105149  1.109444  1.107959  1.101000  1.100042  1.103905  \n",
              "\n",
              "[5 rows x 96 columns]"
            ],
            "text/html": [
              "\n",
              "  <div id=\"df-0ba35dc3-d015-4a55-9787-0590d7929a54\">\n",
              "    <div class=\"colab-df-container\">\n",
              "      <div>\n",
              "<style scoped>\n",
              "    .dataframe tbody tr th:only-of-type {\n",
              "        vertical-align: middle;\n",
              "    }\n",
              "\n",
              "    .dataframe tbody tr th {\n",
              "        vertical-align: top;\n",
              "    }\n",
              "\n",
              "    .dataframe thead th {\n",
              "        text-align: right;\n",
              "    }\n",
              "</style>\n",
              "<table border=\"1\" class=\"dataframe\">\n",
              "  <thead>\n",
              "    <tr style=\"text-align: right;\">\n",
              "      <th></th>\n",
              "      <th>Price</th>\n",
              "      <th>Price+1</th>\n",
              "      <th>Price+2</th>\n",
              "      <th>Price+3</th>\n",
              "      <th>Price+4</th>\n",
              "      <th>Price+5</th>\n",
              "      <th>Price+6</th>\n",
              "      <th>Price+7</th>\n",
              "      <th>Price+8</th>\n",
              "      <th>Price+9</th>\n",
              "      <th>...</th>\n",
              "      <th>Price+86</th>\n",
              "      <th>Price+87</th>\n",
              "      <th>Price+88</th>\n",
              "      <th>Price+89</th>\n",
              "      <th>Price+90</th>\n",
              "      <th>Price+91</th>\n",
              "      <th>Price+92</th>\n",
              "      <th>Price+93</th>\n",
              "      <th>Price+94</th>\n",
              "      <th>Price+95</th>\n",
              "    </tr>\n",
              "  </thead>\n",
              "  <tbody>\n",
              "    <tr>\n",
              "      <th>95</th>\n",
              "      <td>1.172397</td>\n",
              "      <td>1.151472</td>\n",
              "      <td>1.138736</td>\n",
              "      <td>1.142664</td>\n",
              "      <td>1.129679</td>\n",
              "      <td>1.132572</td>\n",
              "      <td>1.149118</td>\n",
              "      <td>1.167603</td>\n",
              "      <td>1.167619</td>\n",
              "      <td>1.171415</td>\n",
              "      <td>...</td>\n",
              "      <td>1.105149</td>\n",
              "      <td>1.109444</td>\n",
              "      <td>1.107959</td>\n",
              "      <td>1.101000</td>\n",
              "      <td>1.100042</td>\n",
              "      <td>1.103905</td>\n",
              "      <td>1.101764</td>\n",
              "      <td>1.112910</td>\n",
              "      <td>1.124464</td>\n",
              "      <td>1.122811</td>\n",
              "    </tr>\n",
              "    <tr>\n",
              "      <th>96</th>\n",
              "      <td>1.176852</td>\n",
              "      <td>1.172397</td>\n",
              "      <td>1.151472</td>\n",
              "      <td>1.138736</td>\n",
              "      <td>1.142664</td>\n",
              "      <td>1.129679</td>\n",
              "      <td>1.132572</td>\n",
              "      <td>1.149118</td>\n",
              "      <td>1.167603</td>\n",
              "      <td>1.167619</td>\n",
              "      <td>...</td>\n",
              "      <td>1.104119</td>\n",
              "      <td>1.105149</td>\n",
              "      <td>1.109444</td>\n",
              "      <td>1.107959</td>\n",
              "      <td>1.101000</td>\n",
              "      <td>1.100042</td>\n",
              "      <td>1.103905</td>\n",
              "      <td>1.101764</td>\n",
              "      <td>1.112910</td>\n",
              "      <td>1.124464</td>\n",
              "    </tr>\n",
              "    <tr>\n",
              "      <th>97</th>\n",
              "      <td>1.181161</td>\n",
              "      <td>1.176852</td>\n",
              "      <td>1.172397</td>\n",
              "      <td>1.151472</td>\n",
              "      <td>1.138736</td>\n",
              "      <td>1.142664</td>\n",
              "      <td>1.129679</td>\n",
              "      <td>1.132572</td>\n",
              "      <td>1.149118</td>\n",
              "      <td>1.167603</td>\n",
              "      <td>...</td>\n",
              "      <td>1.109754</td>\n",
              "      <td>1.104119</td>\n",
              "      <td>1.105149</td>\n",
              "      <td>1.109444</td>\n",
              "      <td>1.107959</td>\n",
              "      <td>1.101000</td>\n",
              "      <td>1.100042</td>\n",
              "      <td>1.103905</td>\n",
              "      <td>1.101764</td>\n",
              "      <td>1.112910</td>\n",
              "    </tr>\n",
              "    <tr>\n",
              "      <th>98</th>\n",
              "      <td>1.176752</td>\n",
              "      <td>1.181161</td>\n",
              "      <td>1.176852</td>\n",
              "      <td>1.172397</td>\n",
              "      <td>1.151472</td>\n",
              "      <td>1.138736</td>\n",
              "      <td>1.142664</td>\n",
              "      <td>1.129679</td>\n",
              "      <td>1.132572</td>\n",
              "      <td>1.149118</td>\n",
              "      <td>...</td>\n",
              "      <td>1.123811</td>\n",
              "      <td>1.109754</td>\n",
              "      <td>1.104119</td>\n",
              "      <td>1.105149</td>\n",
              "      <td>1.109444</td>\n",
              "      <td>1.107959</td>\n",
              "      <td>1.101000</td>\n",
              "      <td>1.100042</td>\n",
              "      <td>1.103905</td>\n",
              "      <td>1.101764</td>\n",
              "    </tr>\n",
              "    <tr>\n",
              "      <th>99</th>\n",
              "      <td>1.181523</td>\n",
              "      <td>1.176752</td>\n",
              "      <td>1.181161</td>\n",
              "      <td>1.176852</td>\n",
              "      <td>1.172397</td>\n",
              "      <td>1.151472</td>\n",
              "      <td>1.138736</td>\n",
              "      <td>1.142664</td>\n",
              "      <td>1.129679</td>\n",
              "      <td>1.132572</td>\n",
              "      <td>...</td>\n",
              "      <td>1.133222</td>\n",
              "      <td>1.123811</td>\n",
              "      <td>1.109754</td>\n",
              "      <td>1.104119</td>\n",
              "      <td>1.105149</td>\n",
              "      <td>1.109444</td>\n",
              "      <td>1.107959</td>\n",
              "      <td>1.101000</td>\n",
              "      <td>1.100042</td>\n",
              "      <td>1.103905</td>\n",
              "    </tr>\n",
              "  </tbody>\n",
              "</table>\n",
              "<p>5 rows × 96 columns</p>\n",
              "</div>\n",
              "      <button class=\"colab-df-convert\" onclick=\"convertToInteractive('df-0ba35dc3-d015-4a55-9787-0590d7929a54')\"\n",
              "              title=\"Convert this dataframe to an interactive table.\"\n",
              "              style=\"display:none;\">\n",
              "        \n",
              "  <svg xmlns=\"http://www.w3.org/2000/svg\" height=\"24px\"viewBox=\"0 0 24 24\"\n",
              "       width=\"24px\">\n",
              "    <path d=\"M0 0h24v24H0V0z\" fill=\"none\"/>\n",
              "    <path d=\"M18.56 5.44l.94 2.06.94-2.06 2.06-.94-2.06-.94-.94-2.06-.94 2.06-2.06.94zm-11 1L8.5 8.5l.94-2.06 2.06-.94-2.06-.94L8.5 2.5l-.94 2.06-2.06.94zm10 10l.94 2.06.94-2.06 2.06-.94-2.06-.94-.94-2.06-.94 2.06-2.06.94z\"/><path d=\"M17.41 7.96l-1.37-1.37c-.4-.4-.92-.59-1.43-.59-.52 0-1.04.2-1.43.59L10.3 9.45l-7.72 7.72c-.78.78-.78 2.05 0 2.83L4 21.41c.39.39.9.59 1.41.59.51 0 1.02-.2 1.41-.59l7.78-7.78 2.81-2.81c.8-.78.8-2.07 0-2.86zM5.41 20L4 18.59l7.72-7.72 1.47 1.35L5.41 20z\"/>\n",
              "  </svg>\n",
              "      </button>\n",
              "      \n",
              "  <style>\n",
              "    .colab-df-container {\n",
              "      display:flex;\n",
              "      flex-wrap:wrap;\n",
              "      gap: 12px;\n",
              "    }\n",
              "\n",
              "    .colab-df-convert {\n",
              "      background-color: #E8F0FE;\n",
              "      border: none;\n",
              "      border-radius: 50%;\n",
              "      cursor: pointer;\n",
              "      display: none;\n",
              "      fill: #1967D2;\n",
              "      height: 32px;\n",
              "      padding: 0 0 0 0;\n",
              "      width: 32px;\n",
              "    }\n",
              "\n",
              "    .colab-df-convert:hover {\n",
              "      background-color: #E2EBFA;\n",
              "      box-shadow: 0px 1px 2px rgba(60, 64, 67, 0.3), 0px 1px 3px 1px rgba(60, 64, 67, 0.15);\n",
              "      fill: #174EA6;\n",
              "    }\n",
              "\n",
              "    [theme=dark] .colab-df-convert {\n",
              "      background-color: #3B4455;\n",
              "      fill: #D2E3FC;\n",
              "    }\n",
              "\n",
              "    [theme=dark] .colab-df-convert:hover {\n",
              "      background-color: #434B5C;\n",
              "      box-shadow: 0px 1px 3px 1px rgba(0, 0, 0, 0.15);\n",
              "      filter: drop-shadow(0px 1px 2px rgba(0, 0, 0, 0.3));\n",
              "      fill: #FFFFFF;\n",
              "    }\n",
              "  </style>\n",
              "\n",
              "      <script>\n",
              "        const buttonEl =\n",
              "          document.querySelector('#df-0ba35dc3-d015-4a55-9787-0590d7929a54 button.colab-df-convert');\n",
              "        buttonEl.style.display =\n",
              "          google.colab.kernel.accessAllowed ? 'block' : 'none';\n",
              "\n",
              "        async function convertToInteractive(key) {\n",
              "          const element = document.querySelector('#df-0ba35dc3-d015-4a55-9787-0590d7929a54');\n",
              "          const dataTable =\n",
              "            await google.colab.kernel.invokeFunction('convertToInteractive',\n",
              "                                                     [key], {});\n",
              "          if (!dataTable) return;\n",
              "\n",
              "          const docLinkHtml = 'Like what you see? Visit the ' +\n",
              "            '<a target=\"_blank\" href=https://colab.research.google.com/notebooks/data_table.ipynb>data table notebook</a>'\n",
              "            + ' to learn more about interactive tables.';\n",
              "          element.innerHTML = '';\n",
              "          dataTable['output_type'] = 'display_data';\n",
              "          await google.colab.output.renderOutput(dataTable, element);\n",
              "          const docLink = document.createElement('div');\n",
              "          docLink.innerHTML = docLinkHtml;\n",
              "          element.appendChild(docLink);\n",
              "        }\n",
              "      </script>\n",
              "    </div>\n",
              "  </div>\n",
              "  "
            ]
          },
          "metadata": {},
          "execution_count": 30
        }
      ]
    },
    {
      "cell_type": "code",
      "source": [
        "def create_full_datset(windowed_dataset, batch_size=2048):\n",
        "  drop_list = ['Price' if i==0 else f\"Price+{i}\" for i in range(HORIZON)]\n",
        "  X = windowed_dataset.dropna().drop(drop_list, axis=1)\n",
        "  y = windowed_dataset.dropna()[drop_list]\n",
        "\n",
        "  split_size = int(len(X) * 0.8)\n",
        "  X_train, y_train = X[:split_size], y[:split_size]\n",
        "  X_test, y_test = X[split_size:], y[split_size:]\n",
        "  len(X_train), len(y_train), len(X_test), len(y_test),X_train.shape\n",
        "\n",
        "  train_features_dataset = tf.data.Dataset.from_tensor_slices(X_train)\n",
        "  train_labels_dataset = tf.data.Dataset.from_tensor_slices(y_train)\n",
        "\n",
        "  test_features_dataset = tf.data.Dataset.from_tensor_slices(X_test)\n",
        "  test_labels_dataset = tf.data.Dataset.from_tensor_slices(y_test)\n",
        "\n",
        "  # 2. Combine features & labels\n",
        "  train_dataset = tf.data.Dataset.zip((train_features_dataset, train_labels_dataset))\n",
        "  test_dataset = tf.data.Dataset.zip((test_features_dataset, test_labels_dataset))\n",
        "\n",
        "  # 3. Batch and prefetch for optimal performance\n",
        "  BATCH_SIZE = batch_size # taken from Appendix D in N-BEATS paper\n",
        "  train_dataset = train_dataset.batch(BATCH_SIZE).prefetch(tf.data.AUTOTUNE)\n",
        "  test_dataset = test_dataset.batch(BATCH_SIZE).prefetch(tf.data.AUTOTUNE)\n",
        "\n",
        "  return train_dataset, test_dataset"
      ],
      "metadata": {
        "id": "8KW-t1iwDW-I"
      },
      "execution_count": null,
      "outputs": []
    },
    {
      "cell_type": "markdown",
      "source": [
        "## Build Nbeats model"
      ],
      "metadata": {
        "id": "PqzVrY0q2NTl"
      }
    },
    {
      "cell_type": "code",
      "source": [
        "class NBeatsBlock(tf.keras.layers.Layer):\n",
        "  def __init__(self, \n",
        "               input_size:int,\n",
        "               theta_size:int,\n",
        "               horizon:int,\n",
        "               n_neurons: int,\n",
        "               n_layers: int,\n",
        "               activation: str,\n",
        "               kernel_initializer: str,\n",
        "               stack_type: str,\n",
        "               **kwargs):\n",
        "    # super().__init__(**kwargs)\n",
        "    super(NBeatsBlock, self).__init__()\n",
        "    self.input_size= input_size\n",
        "    self.theta_size = theta_size\n",
        "    self.horizon = horizon\n",
        "    self.n_neurons= n_neurons\n",
        "    self.n_layers = n_layers\n",
        "    self.activation = activation\n",
        "    self.kernel_initializer = kernel_initializer\n",
        "    self.stack_type = stack_type\n",
        "\n",
        "    # Block contains stack of 4 fully connected layers each has SeLU activation \n",
        "    # But we will use Selu activation with lecun_initializer\n",
        "    self.hidden = [tf.keras.layers.Dense(n_neurons, activation=activation, kernel_initializer=kernel_initializer) for _ in range(n_layers)]\n",
        "    # Output of block is a theta layer with linear activation\n",
        "    self.theta_layer = tf.keras.layers.Dense(theta_size, activation=\"linear\", name=\"theta\")\n",
        "\n",
        "  def call(self, inputs):\n",
        "    x = inputs\n",
        "    for layer in self.hidden: # pass inputs through each hidden layer \n",
        "      x = layer(x)\n",
        "    theta = self.theta_layer(x)\n",
        "\n",
        "    if self.stack_type =='trend':\n",
        "      backcast = theta[:, :self.input_size]\n",
        "      forecast_coeffs = tf.expand_dims(theta[:,-self.horizon:], axis=2)\n",
        "      forecast_basis = tf.reshape(tf.range(0, self.horizon - 1, dtype=tf.float32) / self.horizon, (1, 1, -1))\n",
        "      forecast = tf.reduce_sum(forecast_coeffs * forecast_basis, axis=1)\n",
        "      return backcast, forecast\n",
        "    elif self.stack_type == 'seasonality':\n",
        "      backcast = theta[:, :self.input_size]\n",
        "      forecast_coeffs = tf.expand_dims(theta[:, -self.horizon:], axis=2)\n",
        "      \n",
        "      t = tf.range(0, self.horizon, dtype=tf.float32)\n",
        "\n",
        "      forecast_basis = tf.add(\n",
        "        tf.math.cos(2.0 * np.pi * t * tf.reshape(tf.range(1, self.horizon + 1, dtype=tf.float32) / self.horizon, (1, -1))),\n",
        "        tf.math.sin(2.0 * np.pi * t * tf.reshape(tf.range(1, self.horizon + 1, dtype=tf.float32) / self.horizon, (1, -1)))\n",
        "      )\n",
        "\n",
        "      forecast_basis = tf.expand_dims(tf.transpose(forecast_basis), axis=0)\n",
        "      forecast_basis = tf.tile(forecast_basis, [tf.shape(forecast_coeffs)[0], 1, 1])\n",
        "\n",
        "      forecast = tf.reduce_sum(forecast_coeffs * forecast_basis, axis=2)\n",
        "      return backcast, forecast\n",
        "    else:  \n",
        "    # Output the backcast and forecast from theta\n",
        "      backcast, forecast = theta[:, :self.input_size], theta[:, -self.horizon:]\n",
        "      return backcast, forecast\n",
        "  \n",
        "  def get_config(self):\n",
        "    config = super(NBeatsBlock, self).get_config()\n",
        "    config.update({\n",
        "        'input_size':self.input_size,\n",
        "        'theta_size':self.theta_size, \n",
        "        'horizon':self.horizon,\n",
        "        'hidden':self.hidden,\n",
        "        'n_neurons':self.n_neurons,\n",
        "        'n_layers':self.n_layers,\n",
        "        'theta_layer':self.theta_layer,\n",
        "        'activation' : self.activation,\n",
        "        'kernel_initializer' :self.kernel_initializer,\n",
        "        'stack_type':self.stack_type ,\n",
        "\n",
        "    })\n",
        "    return config\n",
        "\n",
        "  "
      ],
      "metadata": {
        "id": "7CeA_iOoSfS3"
      },
      "execution_count": null,
      "outputs": []
    },
    {
      "cell_type": "code",
      "source": [
        "INPUT_SIZE = WINDOW_SIZE - HORIZON # called \"Lookback\" in Table 18\n",
        "# INPUT_SIZE = WINDOW_SIZE\n",
        "THETA_SIZE = WINDOW_SIZE + HORIZON"
      ],
      "metadata": {
        "id": "vBDanVqI1M6E"
      },
      "execution_count": null,
      "outputs": []
    },
    {
      "cell_type": "code",
      "source": [
        "from tensorflow.keras import backend as K\n",
        "from tensorflow.keras.losses import Loss\n",
        "\n",
        "class LogCoshLoss(tf.keras.losses.Loss):\n",
        "    def __init__(self, name=\"log_cosh_loss\"):\n",
        "        super().__init__(name=name)\n",
        "\n",
        "    def call(self, y_true, y_pred):\n",
        "        \"\"\" Compute log-cosh loss between true labels and predicted labels. \"\"\"\n",
        "        error = y_pred - y_true\n",
        "        loss = tf.reduce_mean(tf.math.log(tf.math.cosh(error)))\n",
        "        return loss"
      ],
      "metadata": {
        "id": "InSKJVk3mOf0"
      },
      "execution_count": null,
      "outputs": []
    },
    {
      "cell_type": "code",
      "source": [
        "from tensorflow.keras import layers\n",
        "\n",
        "def BuildNbeats(architecture_type,tuning_activation,tuning_kernel_initializer,tuning_losses) -> tf.keras.Model:\n",
        "  '''\n",
        "  Args:\n",
        "      architecture_type:str ['nbeats_i','nbeats_g']\n",
        "      hp: keras tuner\n",
        "  '''\n",
        "  if architecture_type == 'nbeats_i':\n",
        "    NB_SEAS_NEURANS= 2048\n",
        "    NB_SEAS_BLOCKS=3\n",
        "    NB_SEAS_LAYERS=4\n",
        "    NB_TRE_NEURANS = 256\n",
        "    NB_TRE_BLOCKS = 3\n",
        "    NB_TRE_BLOCK_LAYERS = 4\n",
        "\n",
        "    # tuning_activation = hp.Choice('activation', values=['relu', 'selu', 'elu'])\n",
        "    # tuning_kernel_initializer = hp.Choice('kernel_initializer', values=['lecun_normal','lecun_uniform','glorot_normal','variance_scaling','he_normal'])\n",
        "    \n",
        "    ## Trend stack\n",
        "    nbeats_block_layer = NBeatsBlock(input_size=INPUT_SIZE,\n",
        "                                    theta_size=THETA_SIZE,\n",
        "                                    horizon=HORIZON,\n",
        "                                    n_neurons=NB_TRE_NEURANS,\n",
        "                                    n_layers=NB_TRE_BLOCK_LAYERS,\n",
        "                                    name=\"Trend_Block\",\n",
        "                                    stack_type='trend',\n",
        "                                    activation=tuning_activation,\n",
        "                                    kernel_initializer=tuning_kernel_initializer)\n",
        "    stack_input = layers.Input(shape=(INPUT_SIZE), name=\"trend_stack_input\")\n",
        "    trend_backcast, trend_forecast = nbeats_block_layer(stack_input)\n",
        "    trend_residuals = layers.subtract([stack_input, trend_backcast], name=f\"subtract_00\") \n",
        "\n",
        "    for i, _ in enumerate(range(NB_TRE_BLOCKS-1)):\n",
        "      backcast, block_forecast = NBeatsBlock(\n",
        "            input_size=INPUT_SIZE,\n",
        "            theta_size=THETA_SIZE,\n",
        "            horizon=HORIZON,\n",
        "            n_neurons=NB_TRE_NEURANS,\n",
        "            n_layers=NB_TRE_BLOCK_LAYERS,\n",
        "            name=\"Trend_Block\",\n",
        "            stack_type='trend',\n",
        "            activation=tuning_activation,\n",
        "            kernel_initializer=tuning_kernel_initializer,\n",
        "        )(trend_residuals) \n",
        "      trend_residuals = layers.subtract([trend_residuals, backcast], name=f\"subtract_trend_{i}\") \n",
        "      trend_forecast = layers.add([trend_forecast, block_forecast], name=f\"add_trend_{i}\")\n",
        "\n",
        "    ## Seasonality stack\n",
        "    nbeats_block_layer = NBeatsBlock(input_size=INPUT_SIZE,\n",
        "                                    theta_size=THETA_SIZE,\n",
        "                                    horizon=HORIZON,\n",
        "                                    n_neurons=NB_SEAS_NEURANS,\n",
        "                                    n_layers=NB_SEAS_LAYERS,\n",
        "                                    name=\"Seasonality_Block\",\n",
        "                                    stack_type='seasonality',\n",
        "                                    activation=tuning_activation,\n",
        "                                    kernel_initializer=tuning_kernel_initializer)\n",
        "\n",
        "    # input_layer = tf.keras.layers.Input(shape=(INPUT_SIZE,))(trend_residuals)\n",
        "    seas_backcast, seas_forecast = nbeats_block_layer(trend_residuals)\n",
        "    seas_residuals = layers.subtract([trend_residuals, seas_backcast], name=f\"seas_subtract_00\") \n",
        "\n",
        "    for i, _ in enumerate(range(NB_TRE_BLOCKS-1)):\n",
        "      backcast, block_forecast = NBeatsBlock(\n",
        "          input_size=INPUT_SIZE,\n",
        "          theta_size=THETA_SIZE,\n",
        "          horizon=HORIZON,\n",
        "          n_neurons=NB_SEAS_NEURANS,\n",
        "          n_layers=NB_SEAS_LAYERS,\n",
        "          name=f\"SEAS_Block{i}\",\n",
        "          stack_type='seasonality',\n",
        "          activation=tuning_activation,\n",
        "          kernel_initializer=tuning_kernel_initializer,\n",
        "      )(seas_backcast) \n",
        "\n",
        "\n",
        "      seas_residuals = layers.subtract([seas_residuals, backcast], name=f\"subtract_seas_{i}\") \n",
        "      seas_forecast = layers.add([seas_forecast, block_forecast], name=f\"add_seas_{i}\")\n",
        "\n",
        "    model = tf.keras.Model(inputs=stack_input, \n",
        "                         outputs=seas_forecast, \n",
        "                         name=\"model_interpretable_N-BEATS\")\n",
        "\n",
        "    # tuning_losses = hp.Choice('loss',values=[\n",
        "    #       tf.keras.losses.Huber(),\n",
        "    #       tf.keras.losses.Hinge(),\n",
        "    #       custom_exponential_loss,\n",
        "    #   ])\n",
        "\n",
        "    model.compile(loss=tuning_losses,\n",
        "                  optimizer=tf.keras.optimizers.Nadam(learning_rate=0.00025),\n",
        "                  metrics=[\"mae\", \"mse\", tf.keras.losses.Huber()])\n",
        "    return model\n",
        "\n",
        "  ## elsif  \n",
        "  elif architecture_type == 'nbeats_g':\n",
        "    N_NEURONS = 512\n",
        "    N_LAYERS = 4\n",
        "    N_STACKS = 30\n",
        "\n",
        "    nbeats_block_layer = NBeatsBlock(input_size=INPUT_SIZE,\n",
        "                                 theta_size=THETA_SIZE,\n",
        "                                 horizon=HORIZON,\n",
        "                                 n_neurons=N_NEURONS,\n",
        "                                 n_layers=N_LAYERS,\n",
        "                                 name=\"Initial_g_Block\")\n",
        "    \n",
        "    stack_input = layers.Input(shape=(INPUT_SIZE), name=\"stack_g_input\")\n",
        "    backcast, forecast = nbeats_block_layer(stack_input)\n",
        "    residuals = layers.subtract([stack_input, backcast], name=f\"subtract_10\") \n",
        "\n",
        "    for i, _ in enumerate(range(N_STACKS-1)): # first stack is already creted in (3)\n",
        "\n",
        "    # 5. Use the NBeatsBlock to calculate the backcast as well as block forecast\n",
        "      backcast, block_forecast = NBeatsBlock(\n",
        "        input_size=INPUT_SIZE,\n",
        "        theta_size=THETA_SIZE,\n",
        "        horizon=HORIZON,\n",
        "        n_neurons=N_NEURONS,\n",
        "        n_layers=N_LAYERS,\n",
        "        name=f\"NBeatsBlock_{i}\"\n",
        "      )(residuals) # pass it in residuals (the backcast)\n",
        "\n",
        "      residuals = layers.subtract([residuals, backcast], name=f\"subtract_{i}\") \n",
        "      forecast = layers.add([forecast, block_forecast], name=f\"add_{i}\")\n",
        "\n",
        "    model = tf.keras.Model(inputs=stack_input, \n",
        "                         outputs=forecast, \n",
        "                         name=\"model_Generic_N-BEATS\")\n",
        "    \n",
        "    # tuning_losses = hp.Choice('loss',values=[\n",
        "    #       tf.keras.losses.Huber(),\n",
        "    #       tf.keras.losses.Hinge(),\n",
        "    #       custom_exponential_loss,\n",
        "    #   ])\n",
        "\n",
        "    model.compile(loss=tuning_losses,\n",
        "                optimizer=tf.keras.optimizers.Nadam(),\n",
        "                metrics=[\"mae\", \"mse\", tf.keras.losses.Huber()])\n",
        "      \n",
        "    return model\n"
      ],
      "metadata": {
        "id": "vmTgE0miyJoN"
      },
      "execution_count": null,
      "outputs": []
    },
    {
      "cell_type": "code",
      "source": [
        "class custom_huber_loss(tf.keras.losses.Loss):\n",
        "    def __init__(self, delta=1.0, name='huber_loss'):\n",
        "        super().__init__(name=name)\n",
        "        self.delta = delta\n",
        "\n",
        "    def call(self, y_true, y_pred):\n",
        "        error = y_true - y_pred\n",
        "        abs_error = tf.abs(error)\n",
        "        quadratic = tf.minimum(abs_error, self.delta)\n",
        "        linear = abs_error - quadratic\n",
        "        return tf.reduce_mean(0.5 * tf.square(quadratic) + self.delta * linear)\n"
      ],
      "metadata": {
        "id": "xRVh8uBSzu3S"
      },
      "execution_count": null,
      "outputs": []
    },
    {
      "cell_type": "code",
      "source": [
        "MODEL_TO_TRAIN='nbeats_i'"
      ],
      "metadata": {
        "id": "ANt1ryGY0o9E"
      },
      "execution_count": null,
      "outputs": []
    },
    {
      "cell_type": "code",
      "source": [
        "def buildmodel(hp):\n",
        "\n",
        "  loss_hyp_param = hp.Choice(name = 'loss', values=['LogCoshLoss','mae','custom_huber_loss'])\n",
        "\n",
        "  if loss_hyp_param == \"LogCoshLoss\":\n",
        "            loss_fn = LogCoshLoss()\n",
        "  elif loss_hyp_param == \"mae\":\n",
        "            loss_fn = 'mae'\n",
        "  else: \n",
        "    loss_fn = custom_huber_loss()\n",
        "\n",
        "  tuning_activation= hp.Choice(name = 'activation', values=['relu', 'selu', 'elu'])\n",
        "  tuning_kernel_initializer = hp.Choice(name = 'kernel_initializer', values=['lecun_normal','lecun_uniform','glorot_normal','variance_scaling','he_normal'])\n",
        "\n",
        "  return BuildNbeats(MODEL_TO_TRAIN,tuning_activation, tuning_kernel_initializer,loss_fn)"
      ],
      "metadata": {
        "id": "T_sijzKy6zQm"
      },
      "execution_count": null,
      "outputs": []
    },
    {
      "cell_type": "code",
      "source": [
        "train_dataset,test_dataset = create_full_datset(create_data_window())"
      ],
      "metadata": {
        "id": "DJ3qzg5qrzgD"
      },
      "execution_count": null,
      "outputs": []
    },
    {
      "cell_type": "code",
      "source": [
        "import keras_tuner as kt\n",
        "from keras_tuner import HyperParameters as hp\n",
        "import os\n",
        "\n",
        "FOLDER = '/content/drive/MyDrive/bit_pred/'\n",
        "FILE1 = 'best_interpretable_model'\n",
        "FILE2 = 'best_generic_model'\n",
        "\n",
        "if not os.path.isfile(os.path.join(FOLDER, FILE1)):\n",
        "  print('training interpretable')\n",
        "  tuner = kt.GridSearch(hypermodel=buildmodel, objective='val_loss',max_trials=45 ,executions_per_trial=1, directory='my_dir', project_name='my_project')\n",
        "  tuner.search(train_dataset,batch_size=1024, epochs=50, validation_data=(test_dataset))\n",
        "  best_hyperparameters = tuner.get_best_hyperparameters(num_trials=1)[0]\n",
        "  file = open('/content/drive/MyDrive/bit_pred/interpretable_best_prams.txt', 'w')\n",
        "  file.write(f'{best_hyperparameters.values}'.replace(\"'\", \"\\\"\"))\n",
        "  file.close()\n",
        "  # best_model = tuner.hypermodel.build(best_hyperparameters)\n",
        "  # best_model.save(f\"/content/drive/MyDrive/bit_pred/best_interpretable_model.h5\")\n",
        "\n",
        "elif not os.path.isfile(os.path.join(FOLDER, FILE2)):\n",
        "  print('training generic')\n",
        "  MODEL_TO_TRAIN='nbeats_g'\n",
        "  tuner = kt.GridSearch(hypermodel=buildmodel, objective='val_loss',max_trials=45 ,executions_per_trial=1, directory='my_dir', project_name='my_project')\n",
        "  tuner.search(train_dataset,batch_size=1024, epochs=50, validation_data=(test_dataset))\n",
        "  best_hyperparameters = tuner.get_best_hyperparameters(num_trials=1)[0]\n",
        "  file = open('/content/drive/MyDrive/bit_pred/generic_best_prams.txt', 'w')\n",
        "  file.write(f'{best_hyperparameters.values}'.replace(\"'\", \"\\\"\"))\n",
        "  file.close()\n",
        "  # best_model = tuner.hypermodel.build(best_hyperparameters)\n",
        "  # best_model.save(f\"/content/drive/MyDrive/bit_pred/best_generic_model.h5\")\n"
      ],
      "metadata": {
        "colab": {
          "base_uri": "https://localhost:8080/"
        },
        "id": "V_9-_SZgoNQM",
        "outputId": "6e535ad8-f090-494f-f821-708c3841ad53"
      },
      "execution_count": null,
      "outputs": [
        {
          "output_type": "stream",
          "name": "stdout",
          "text": [
            "Trial 45 Complete [00h 02m 23s]\n",
            "val_loss: 0.038107749074697495\n",
            "\n",
            "Best val_loss So Far: 0.00019781287119258195\n",
            "Total elapsed time: 01h 33m 26s\n"
          ]
        }
      ]
    },
    {
      "cell_type": "code",
      "source": [
        "file = open('/content/drive/MyDrive/bit_pred/interpretable_best_prams.txt', 'w')\n",
        "to_write = {'loss': 'LogCoshLoss', 'activation': 'elu', 'kernel_initializer': 'glorot_normal'}\n",
        "file.write(f\"{to_write}\".replace(\"'\", \"\\\"\"))\n",
        "file.close()"
      ],
      "metadata": {
        "id": "Tqh3m1QF-jiQ"
      },
      "execution_count": null,
      "outputs": []
    },
    {
      "cell_type": "code",
      "source": [
        "def load_the_saved_model(full_path, configs):\n",
        "  loss = configs['loss']\n",
        "  'LogCoshLoss','mae','custom_huber_loss'\n",
        "  if loss == 'LogCoshLoss':\n",
        "    my_h5_saved_model = tf.keras.models.load_model(\n",
        "      f\"{full_path}.h5\", \n",
        "      custom_objects={'NBeatsBlock': NBeatsBlock,\n",
        "                      \"LogCoshLoss\":LogCoshLoss()},\n",
        "                      compile=False\n",
        "                     )\n",
        "    return my_h5_saved_model\n",
        "  elif loss == 'mae':\n",
        "    my_h5_saved_model = tf.keras.models.load_model(\n",
        "      f\"{full_path}.h5\", \n",
        "      custom_objects={'NBeatsBlock': NBeatsBlock,\n",
        "                      \"mae\":tf.keras.losses.mae()}\n",
        "                      ,compile=False)\n",
        "    return my_h5_saved_model\n",
        "  else:\n",
        "    my_h5_saved_model = tf.keras.models.load_model(\n",
        "      f\"{full_path}.h5\", \n",
        "      custom_objects={'NBeatsBlock': NBeatsBlock,\n",
        "                      \"custom_huber_loss\":custom_huber_loss()},\n",
        "                      compile=False)\n",
        "    return my_h5_saved_model\n",
        "\n",
        "  # my_h5_saved_model.summary()\n",
        "  "
      ],
      "metadata": {
        "id": "3OcrP2OEInJI"
      },
      "execution_count": null,
      "outputs": []
    },
    {
      "cell_type": "code",
      "source": [
        "import json\n",
        "import os\n",
        "def load_best_hypers_data(filename):\n",
        "\n",
        "  with open(os.path.join(FOLDER, filename), 'r') as file:\n",
        "      json_str = file.read()\n",
        "\n",
        "  data = json.loads(json_str)\n",
        "\n",
        "  return data"
      ],
      "metadata": {
        "id": "YnPy2uLD_-Kw"
      },
      "execution_count": null,
      "outputs": []
    },
    {
      "cell_type": "code",
      "source": [
        "FOLDER = '/content/drive/MyDrive/bit_pred/'\n",
        "FILE1 = 'best_interpretable_model'\n",
        "FILE2 = 'best_generic_model'"
      ],
      "metadata": {
        "id": "_NTXep2JD2Mx"
      },
      "execution_count": null,
      "outputs": []
    },
    {
      "cell_type": "code",
      "source": [
        "load_best_hypers_data('interpretable_best_prams.txt')\n"
      ],
      "metadata": {
        "colab": {
          "base_uri": "https://localhost:8080/"
        },
        "id": "n4UCtVkZAj9N",
        "outputId": "48fa7776-2117-4c00-932f-6e1bb13c564b"
      },
      "execution_count": null,
      "outputs": [
        {
          "output_type": "execute_result",
          "data": {
            "text/plain": [
              "{'loss': 'LogCoshLoss',\n",
              " 'activation': 'elu',\n",
              " 'kernel_initializer': 'glorot_normal'}"
            ]
          },
          "metadata": {},
          "execution_count": 46
        }
      ]
    },
    {
      "cell_type": "code",
      "source": [
        "loaded_model=load_the_saved_model(os.path.join(FOLDER, FILE1),load_best_hypers_data('interpretable_best_prams.txt'))\n",
        "loaded_model.summary()"
      ],
      "metadata": {
        "colab": {
          "base_uri": "https://localhost:8080/"
        },
        "id": "Utp9jNS_CQk5",
        "outputId": "9f7fa513-c62b-4be2-f9c3-7e621ba78b51"
      },
      "execution_count": null,
      "outputs": [
        {
          "output_type": "stream",
          "name": "stdout",
          "text": [
            "Model: \"model_interpretable_N-BEATS\"\n",
            "__________________________________________________________________________________________________\n",
            " Layer (type)                   Output Shape         Param #     Connected to                     \n",
            "==================================================================================================\n",
            " trend_stack_input (InputLayer)  [(None, 72)]        0           []                               \n",
            "                                                                                                  \n",
            " n_beats_block (NBeatsBlock)    ((None, 72),         246904      ['trend_stack_input[0][0]']      \n",
            "                                 (None, 23))                                                      \n",
            "                                                                                                  \n",
            " subtract_00 (Subtract)         (None, 72)           0           ['trend_stack_input[0][0]',      \n",
            "                                                                  'n_beats_block[0][0]']          \n",
            "                                                                                                  \n",
            " n_beats_block_1 (NBeatsBlock)  ((None, 72),         246904      ['subtract_00[0][0]']            \n",
            "                                 (None, 23))                                                      \n",
            "                                                                                                  \n",
            " subtract_trend_0 (Subtract)    (None, 72)           0           ['subtract_00[0][0]',            \n",
            "                                                                  'n_beats_block_1[0][0]']        \n",
            "                                                                                                  \n",
            " n_beats_block_2 (NBeatsBlock)  ((None, 72),         246904      ['subtract_trend_0[0][0]']       \n",
            "                                 (None, 23))                                                      \n",
            "                                                                                                  \n",
            " subtract_trend_1 (Subtract)    (None, 72)           0           ['subtract_trend_0[0][0]',       \n",
            "                                                                  'n_beats_block_2[0][0]']        \n",
            "                                                                                                  \n",
            " n_beats_block_3 (NBeatsBlock)  ((None, 72),         12984440    ['subtract_trend_1[0][0]']       \n",
            "                                 (None, 24))                                                      \n",
            "                                                                                                  \n",
            " n_beats_block_4 (NBeatsBlock)  ((None, 72),         12984440    ['n_beats_block_3[0][0]']        \n",
            "                                 (None, 24))                                                      \n",
            "                                                                                                  \n",
            " add_seas_0 (Add)               (None, 24)           0           ['n_beats_block_3[0][1]',        \n",
            "                                                                  'n_beats_block_4[0][1]']        \n",
            "                                                                                                  \n",
            " n_beats_block_5 (NBeatsBlock)  ((None, 72),         12984440    ['n_beats_block_3[0][0]']        \n",
            "                                 (None, 24))                                                      \n",
            "                                                                                                  \n",
            " add_seas_1 (Add)               (None, 24)           0           ['add_seas_0[0][0]',             \n",
            "                                                                  'n_beats_block_5[0][1]']        \n",
            "                                                                                                  \n",
            "==================================================================================================\n",
            "Total params: 39,694,032\n",
            "Trainable params: 39,694,032\n",
            "Non-trainable params: 0\n",
            "__________________________________________________________________________________________________\n"
          ]
        }
      ]
    },
    {
      "cell_type": "code",
      "source": [
        "loaded_model.save(f\"/content/drive/MyDrive/bit_pred/best_interpretable_model.h5\")"
      ],
      "metadata": {
        "id": "xdl7BP2U0ZA_"
      },
      "execution_count": null,
      "outputs": []
    },
    {
      "cell_type": "code",
      "source": [
        "last_time = timesteps[-1]"
      ],
      "metadata": {
        "id": "Rrwiqm5gQSAJ"
      },
      "execution_count": null,
      "outputs": []
    },
    {
      "cell_type": "markdown",
      "source": [
        "## Predict the future"
      ],
      "metadata": {
        "id": "2gpHjRY9HZ0J"
      }
    },
    {
      "cell_type": "code",
      "source": [
        "import datetime\n",
        "def prepare_pred_data(window_size= WINDOW_SIZE):\n",
        "  today = datetime.datetime.now()\n",
        "  start_year_ago = today-datetime.timedelta(days = 720)\n",
        "  btc_data = yf.download(tickers=TICKER, interval=\"1h\",start= start_year_ago, end=today)\n",
        "  btc_data[\"OHLC4\"] = (btc_data[\"Open\"] + btc_data[\"High\"] + btc_data[\"Low\"] + btc_data[\"Close\"]) / 4 \n",
        "  bitcoin_prices_ohlc4_df = pd.DataFrame(btc_data[\"OHLC4\"]).rename(columns={\"OHLC4\": \"Price\"})\n",
        "\n",
        "  timesteps, prices = timesteps_and_prices(bitcoin_prices_ohlc4_df)\n",
        "\n",
        "  scaled_prices, Scaler = scale_data(prices)\n",
        "\n",
        "  bit_scaled_df = pd.DataFrame(scaled_prices, columns=['Price'])\n",
        "  bitcoin_prices_nbeats = bit_scaled_df.copy()\n",
        "    # bitcoin_prices_nbeats['Price']=bitcoin_prices['Price']\n",
        "  for i in range(WINDOW_SIZE-1):\n",
        "      bitcoin_prices_nbeats[f\"Price+{i+1}\"] = bitcoin_prices_nbeats[\"Price\"].shift(periods=i+1)\n",
        "  bitcoin_prices_nbeats=bitcoin_prices_nbeats.dropna()\n",
        "\n",
        "  drop_list = ['Price' if i==0 else f\"Price+{i}\" for i in range(HORIZON)]\n",
        "  X = bitcoin_prices_nbeats.dropna().drop(drop_list, axis=1)\n",
        "  y = bitcoin_prices_nbeats.dropna()[drop_list]\n",
        "\n",
        "  return X, timesteps[-1],Scaler"
      ],
      "metadata": {
        "id": "ZFH1rlLDIB9-"
      },
      "execution_count": null,
      "outputs": []
    },
    {
      "cell_type": "code",
      "source": [
        "X, last_data_timestep, PRED_SCALER = prepare_pred_data()\n",
        "X"
      ],
      "metadata": {
        "colab": {
          "base_uri": "https://localhost:8080/",
          "height": 505
        },
        "id": "8_cznofNLR86",
        "outputId": "0682371b-6e44-48ae-a77e-7371b83b6b4c"
      },
      "execution_count": null,
      "outputs": [
        {
          "output_type": "stream",
          "name": "stdout",
          "text": [
            "\r[*********************100%***********************]  1 of 1 completed\n"
          ]
        },
        {
          "output_type": "execute_result",
          "data": {
            "text/plain": [
              "       Price+24  Price+25  Price+26  Price+27  Price+28  Price+29  Price+30  \\\n",
              "95     1.225973  1.227256  1.214629  1.203971  1.212390  1.221340  1.226813   \n",
              "96     1.222070  1.225973  1.227256  1.214629  1.203971  1.212390  1.221340   \n",
              "97     1.227046  1.222070  1.225973  1.227256  1.214629  1.203971  1.212390   \n",
              "98     1.220584  1.227046  1.222070  1.225973  1.227256  1.214629  1.203971   \n",
              "99     1.225050  1.220584  1.227046  1.222070  1.225973  1.227256  1.214629   \n",
              "...         ...       ...       ...       ...       ...       ...       ...   \n",
              "17061 -0.242910 -0.243262 -0.240609 -0.237668 -0.237607 -0.238020 -0.235467   \n",
              "17062 -0.242801 -0.242910 -0.243262 -0.240609 -0.237668 -0.237607 -0.238020   \n",
              "17063 -0.243009 -0.242801 -0.242910 -0.243262 -0.240609 -0.237668 -0.237607   \n",
              "17064 -0.243704 -0.243009 -0.242801 -0.242910 -0.243262 -0.240609 -0.237668   \n",
              "17065 -0.244738 -0.243704 -0.243009 -0.242801 -0.242910 -0.243262 -0.240609   \n",
              "\n",
              "       Price+31  Price+32  Price+33  ...  Price+86  Price+87  Price+88  \\\n",
              "95     1.233301  1.236087  1.234323  ...  1.105149  1.109444  1.107959   \n",
              "96     1.226813  1.233301  1.236087  ...  1.104119  1.105149  1.109444   \n",
              "97     1.221340  1.226813  1.233301  ...  1.109754  1.104119  1.105149   \n",
              "98     1.212390  1.221340  1.226813  ...  1.123811  1.109754  1.104119   \n",
              "99     1.203971  1.212390  1.221340  ...  1.133222  1.123811  1.109754   \n",
              "...         ...       ...       ...  ...       ...       ...       ...   \n",
              "17061 -0.240069 -0.241949 -0.239338  ... -0.249883 -0.252440 -0.248840   \n",
              "17062 -0.235467 -0.240069 -0.241949  ... -0.245683 -0.249883 -0.252440   \n",
              "17063 -0.238020 -0.235467 -0.240069  ... -0.244616 -0.245683 -0.249883   \n",
              "17064 -0.237607 -0.238020 -0.235467  ... -0.245223 -0.244616 -0.245683   \n",
              "17065 -0.237668 -0.237607 -0.238020  ... -0.247406 -0.245223 -0.244616   \n",
              "\n",
              "       Price+89  Price+90  Price+91  Price+92  Price+93  Price+94  Price+95  \n",
              "95     1.101000  1.100042  1.103905  1.101764  1.112910  1.124464  1.122811  \n",
              "96     1.107959  1.101000  1.100042  1.103905  1.101764  1.112910  1.124464  \n",
              "97     1.109444  1.107959  1.101000  1.100042  1.103905  1.101764  1.112910  \n",
              "98     1.105149  1.109444  1.107959  1.101000  1.100042  1.103905  1.101764  \n",
              "99     1.104119  1.105149  1.109444  1.107959  1.101000  1.100042  1.103905  \n",
              "...         ...       ...       ...       ...       ...       ...       ...  \n",
              "17061 -0.245800 -0.245511 -0.244061 -0.246105 -0.247057 -0.246949 -0.243537  \n",
              "17062 -0.248840 -0.245800 -0.245511 -0.244061 -0.246105 -0.247057 -0.246949  \n",
              "17063 -0.252440 -0.248840 -0.245800 -0.245511 -0.244061 -0.246105 -0.247057  \n",
              "17064 -0.249883 -0.252440 -0.248840 -0.245800 -0.245511 -0.244061 -0.246105  \n",
              "17065 -0.245683 -0.249883 -0.252440 -0.248840 -0.245800 -0.245511 -0.244061  \n",
              "\n",
              "[16971 rows x 72 columns]"
            ],
            "text/html": [
              "\n",
              "  <div id=\"df-4061db76-4eea-407a-8c1a-f67d9ea9618f\">\n",
              "    <div class=\"colab-df-container\">\n",
              "      <div>\n",
              "<style scoped>\n",
              "    .dataframe tbody tr th:only-of-type {\n",
              "        vertical-align: middle;\n",
              "    }\n",
              "\n",
              "    .dataframe tbody tr th {\n",
              "        vertical-align: top;\n",
              "    }\n",
              "\n",
              "    .dataframe thead th {\n",
              "        text-align: right;\n",
              "    }\n",
              "</style>\n",
              "<table border=\"1\" class=\"dataframe\">\n",
              "  <thead>\n",
              "    <tr style=\"text-align: right;\">\n",
              "      <th></th>\n",
              "      <th>Price+24</th>\n",
              "      <th>Price+25</th>\n",
              "      <th>Price+26</th>\n",
              "      <th>Price+27</th>\n",
              "      <th>Price+28</th>\n",
              "      <th>Price+29</th>\n",
              "      <th>Price+30</th>\n",
              "      <th>Price+31</th>\n",
              "      <th>Price+32</th>\n",
              "      <th>Price+33</th>\n",
              "      <th>...</th>\n",
              "      <th>Price+86</th>\n",
              "      <th>Price+87</th>\n",
              "      <th>Price+88</th>\n",
              "      <th>Price+89</th>\n",
              "      <th>Price+90</th>\n",
              "      <th>Price+91</th>\n",
              "      <th>Price+92</th>\n",
              "      <th>Price+93</th>\n",
              "      <th>Price+94</th>\n",
              "      <th>Price+95</th>\n",
              "    </tr>\n",
              "  </thead>\n",
              "  <tbody>\n",
              "    <tr>\n",
              "      <th>95</th>\n",
              "      <td>1.225973</td>\n",
              "      <td>1.227256</td>\n",
              "      <td>1.214629</td>\n",
              "      <td>1.203971</td>\n",
              "      <td>1.212390</td>\n",
              "      <td>1.221340</td>\n",
              "      <td>1.226813</td>\n",
              "      <td>1.233301</td>\n",
              "      <td>1.236087</td>\n",
              "      <td>1.234323</td>\n",
              "      <td>...</td>\n",
              "      <td>1.105149</td>\n",
              "      <td>1.109444</td>\n",
              "      <td>1.107959</td>\n",
              "      <td>1.101000</td>\n",
              "      <td>1.100042</td>\n",
              "      <td>1.103905</td>\n",
              "      <td>1.101764</td>\n",
              "      <td>1.112910</td>\n",
              "      <td>1.124464</td>\n",
              "      <td>1.122811</td>\n",
              "    </tr>\n",
              "    <tr>\n",
              "      <th>96</th>\n",
              "      <td>1.222070</td>\n",
              "      <td>1.225973</td>\n",
              "      <td>1.227256</td>\n",
              "      <td>1.214629</td>\n",
              "      <td>1.203971</td>\n",
              "      <td>1.212390</td>\n",
              "      <td>1.221340</td>\n",
              "      <td>1.226813</td>\n",
              "      <td>1.233301</td>\n",
              "      <td>1.236087</td>\n",
              "      <td>...</td>\n",
              "      <td>1.104119</td>\n",
              "      <td>1.105149</td>\n",
              "      <td>1.109444</td>\n",
              "      <td>1.107959</td>\n",
              "      <td>1.101000</td>\n",
              "      <td>1.100042</td>\n",
              "      <td>1.103905</td>\n",
              "      <td>1.101764</td>\n",
              "      <td>1.112910</td>\n",
              "      <td>1.124464</td>\n",
              "    </tr>\n",
              "    <tr>\n",
              "      <th>97</th>\n",
              "      <td>1.227046</td>\n",
              "      <td>1.222070</td>\n",
              "      <td>1.225973</td>\n",
              "      <td>1.227256</td>\n",
              "      <td>1.214629</td>\n",
              "      <td>1.203971</td>\n",
              "      <td>1.212390</td>\n",
              "      <td>1.221340</td>\n",
              "      <td>1.226813</td>\n",
              "      <td>1.233301</td>\n",
              "      <td>...</td>\n",
              "      <td>1.109754</td>\n",
              "      <td>1.104119</td>\n",
              "      <td>1.105149</td>\n",
              "      <td>1.109444</td>\n",
              "      <td>1.107959</td>\n",
              "      <td>1.101000</td>\n",
              "      <td>1.100042</td>\n",
              "      <td>1.103905</td>\n",
              "      <td>1.101764</td>\n",
              "      <td>1.112910</td>\n",
              "    </tr>\n",
              "    <tr>\n",
              "      <th>98</th>\n",
              "      <td>1.220584</td>\n",
              "      <td>1.227046</td>\n",
              "      <td>1.222070</td>\n",
              "      <td>1.225973</td>\n",
              "      <td>1.227256</td>\n",
              "      <td>1.214629</td>\n",
              "      <td>1.203971</td>\n",
              "      <td>1.212390</td>\n",
              "      <td>1.221340</td>\n",
              "      <td>1.226813</td>\n",
              "      <td>...</td>\n",
              "      <td>1.123811</td>\n",
              "      <td>1.109754</td>\n",
              "      <td>1.104119</td>\n",
              "      <td>1.105149</td>\n",
              "      <td>1.109444</td>\n",
              "      <td>1.107959</td>\n",
              "      <td>1.101000</td>\n",
              "      <td>1.100042</td>\n",
              "      <td>1.103905</td>\n",
              "      <td>1.101764</td>\n",
              "    </tr>\n",
              "    <tr>\n",
              "      <th>99</th>\n",
              "      <td>1.225050</td>\n",
              "      <td>1.220584</td>\n",
              "      <td>1.227046</td>\n",
              "      <td>1.222070</td>\n",
              "      <td>1.225973</td>\n",
              "      <td>1.227256</td>\n",
              "      <td>1.214629</td>\n",
              "      <td>1.203971</td>\n",
              "      <td>1.212390</td>\n",
              "      <td>1.221340</td>\n",
              "      <td>...</td>\n",
              "      <td>1.133222</td>\n",
              "      <td>1.123811</td>\n",
              "      <td>1.109754</td>\n",
              "      <td>1.104119</td>\n",
              "      <td>1.105149</td>\n",
              "      <td>1.109444</td>\n",
              "      <td>1.107959</td>\n",
              "      <td>1.101000</td>\n",
              "      <td>1.100042</td>\n",
              "      <td>1.103905</td>\n",
              "    </tr>\n",
              "    <tr>\n",
              "      <th>...</th>\n",
              "      <td>...</td>\n",
              "      <td>...</td>\n",
              "      <td>...</td>\n",
              "      <td>...</td>\n",
              "      <td>...</td>\n",
              "      <td>...</td>\n",
              "      <td>...</td>\n",
              "      <td>...</td>\n",
              "      <td>...</td>\n",
              "      <td>...</td>\n",
              "      <td>...</td>\n",
              "      <td>...</td>\n",
              "      <td>...</td>\n",
              "      <td>...</td>\n",
              "      <td>...</td>\n",
              "      <td>...</td>\n",
              "      <td>...</td>\n",
              "      <td>...</td>\n",
              "      <td>...</td>\n",
              "      <td>...</td>\n",
              "      <td>...</td>\n",
              "    </tr>\n",
              "    <tr>\n",
              "      <th>17061</th>\n",
              "      <td>-0.242910</td>\n",
              "      <td>-0.243262</td>\n",
              "      <td>-0.240609</td>\n",
              "      <td>-0.237668</td>\n",
              "      <td>-0.237607</td>\n",
              "      <td>-0.238020</td>\n",
              "      <td>-0.235467</td>\n",
              "      <td>-0.240069</td>\n",
              "      <td>-0.241949</td>\n",
              "      <td>-0.239338</td>\n",
              "      <td>...</td>\n",
              "      <td>-0.249883</td>\n",
              "      <td>-0.252440</td>\n",
              "      <td>-0.248840</td>\n",
              "      <td>-0.245800</td>\n",
              "      <td>-0.245511</td>\n",
              "      <td>-0.244061</td>\n",
              "      <td>-0.246105</td>\n",
              "      <td>-0.247057</td>\n",
              "      <td>-0.246949</td>\n",
              "      <td>-0.243537</td>\n",
              "    </tr>\n",
              "    <tr>\n",
              "      <th>17062</th>\n",
              "      <td>-0.242801</td>\n",
              "      <td>-0.242910</td>\n",
              "      <td>-0.243262</td>\n",
              "      <td>-0.240609</td>\n",
              "      <td>-0.237668</td>\n",
              "      <td>-0.237607</td>\n",
              "      <td>-0.238020</td>\n",
              "      <td>-0.235467</td>\n",
              "      <td>-0.240069</td>\n",
              "      <td>-0.241949</td>\n",
              "      <td>...</td>\n",
              "      <td>-0.245683</td>\n",
              "      <td>-0.249883</td>\n",
              "      <td>-0.252440</td>\n",
              "      <td>-0.248840</td>\n",
              "      <td>-0.245800</td>\n",
              "      <td>-0.245511</td>\n",
              "      <td>-0.244061</td>\n",
              "      <td>-0.246105</td>\n",
              "      <td>-0.247057</td>\n",
              "      <td>-0.246949</td>\n",
              "    </tr>\n",
              "    <tr>\n",
              "      <th>17063</th>\n",
              "      <td>-0.243009</td>\n",
              "      <td>-0.242801</td>\n",
              "      <td>-0.242910</td>\n",
              "      <td>-0.243262</td>\n",
              "      <td>-0.240609</td>\n",
              "      <td>-0.237668</td>\n",
              "      <td>-0.237607</td>\n",
              "      <td>-0.238020</td>\n",
              "      <td>-0.235467</td>\n",
              "      <td>-0.240069</td>\n",
              "      <td>...</td>\n",
              "      <td>-0.244616</td>\n",
              "      <td>-0.245683</td>\n",
              "      <td>-0.249883</td>\n",
              "      <td>-0.252440</td>\n",
              "      <td>-0.248840</td>\n",
              "      <td>-0.245800</td>\n",
              "      <td>-0.245511</td>\n",
              "      <td>-0.244061</td>\n",
              "      <td>-0.246105</td>\n",
              "      <td>-0.247057</td>\n",
              "    </tr>\n",
              "    <tr>\n",
              "      <th>17064</th>\n",
              "      <td>-0.243704</td>\n",
              "      <td>-0.243009</td>\n",
              "      <td>-0.242801</td>\n",
              "      <td>-0.242910</td>\n",
              "      <td>-0.243262</td>\n",
              "      <td>-0.240609</td>\n",
              "      <td>-0.237668</td>\n",
              "      <td>-0.237607</td>\n",
              "      <td>-0.238020</td>\n",
              "      <td>-0.235467</td>\n",
              "      <td>...</td>\n",
              "      <td>-0.245223</td>\n",
              "      <td>-0.244616</td>\n",
              "      <td>-0.245683</td>\n",
              "      <td>-0.249883</td>\n",
              "      <td>-0.252440</td>\n",
              "      <td>-0.248840</td>\n",
              "      <td>-0.245800</td>\n",
              "      <td>-0.245511</td>\n",
              "      <td>-0.244061</td>\n",
              "      <td>-0.246105</td>\n",
              "    </tr>\n",
              "    <tr>\n",
              "      <th>17065</th>\n",
              "      <td>-0.244738</td>\n",
              "      <td>-0.243704</td>\n",
              "      <td>-0.243009</td>\n",
              "      <td>-0.242801</td>\n",
              "      <td>-0.242910</td>\n",
              "      <td>-0.243262</td>\n",
              "      <td>-0.240609</td>\n",
              "      <td>-0.237668</td>\n",
              "      <td>-0.237607</td>\n",
              "      <td>-0.238020</td>\n",
              "      <td>...</td>\n",
              "      <td>-0.247406</td>\n",
              "      <td>-0.245223</td>\n",
              "      <td>-0.244616</td>\n",
              "      <td>-0.245683</td>\n",
              "      <td>-0.249883</td>\n",
              "      <td>-0.252440</td>\n",
              "      <td>-0.248840</td>\n",
              "      <td>-0.245800</td>\n",
              "      <td>-0.245511</td>\n",
              "      <td>-0.244061</td>\n",
              "    </tr>\n",
              "  </tbody>\n",
              "</table>\n",
              "<p>16971 rows × 72 columns</p>\n",
              "</div>\n",
              "      <button class=\"colab-df-convert\" onclick=\"convertToInteractive('df-4061db76-4eea-407a-8c1a-f67d9ea9618f')\"\n",
              "              title=\"Convert this dataframe to an interactive table.\"\n",
              "              style=\"display:none;\">\n",
              "        \n",
              "  <svg xmlns=\"http://www.w3.org/2000/svg\" height=\"24px\"viewBox=\"0 0 24 24\"\n",
              "       width=\"24px\">\n",
              "    <path d=\"M0 0h24v24H0V0z\" fill=\"none\"/>\n",
              "    <path d=\"M18.56 5.44l.94 2.06.94-2.06 2.06-.94-2.06-.94-.94-2.06-.94 2.06-2.06.94zm-11 1L8.5 8.5l.94-2.06 2.06-.94-2.06-.94L8.5 2.5l-.94 2.06-2.06.94zm10 10l.94 2.06.94-2.06 2.06-.94-2.06-.94-.94-2.06-.94 2.06-2.06.94z\"/><path d=\"M17.41 7.96l-1.37-1.37c-.4-.4-.92-.59-1.43-.59-.52 0-1.04.2-1.43.59L10.3 9.45l-7.72 7.72c-.78.78-.78 2.05 0 2.83L4 21.41c.39.39.9.59 1.41.59.51 0 1.02-.2 1.41-.59l7.78-7.78 2.81-2.81c.8-.78.8-2.07 0-2.86zM5.41 20L4 18.59l7.72-7.72 1.47 1.35L5.41 20z\"/>\n",
              "  </svg>\n",
              "      </button>\n",
              "      \n",
              "  <style>\n",
              "    .colab-df-container {\n",
              "      display:flex;\n",
              "      flex-wrap:wrap;\n",
              "      gap: 12px;\n",
              "    }\n",
              "\n",
              "    .colab-df-convert {\n",
              "      background-color: #E8F0FE;\n",
              "      border: none;\n",
              "      border-radius: 50%;\n",
              "      cursor: pointer;\n",
              "      display: none;\n",
              "      fill: #1967D2;\n",
              "      height: 32px;\n",
              "      padding: 0 0 0 0;\n",
              "      width: 32px;\n",
              "    }\n",
              "\n",
              "    .colab-df-convert:hover {\n",
              "      background-color: #E2EBFA;\n",
              "      box-shadow: 0px 1px 2px rgba(60, 64, 67, 0.3), 0px 1px 3px 1px rgba(60, 64, 67, 0.15);\n",
              "      fill: #174EA6;\n",
              "    }\n",
              "\n",
              "    [theme=dark] .colab-df-convert {\n",
              "      background-color: #3B4455;\n",
              "      fill: #D2E3FC;\n",
              "    }\n",
              "\n",
              "    [theme=dark] .colab-df-convert:hover {\n",
              "      background-color: #434B5C;\n",
              "      box-shadow: 0px 1px 3px 1px rgba(0, 0, 0, 0.15);\n",
              "      filter: drop-shadow(0px 1px 2px rgba(0, 0, 0, 0.3));\n",
              "      fill: #FFFFFF;\n",
              "    }\n",
              "  </style>\n",
              "\n",
              "      <script>\n",
              "        const buttonEl =\n",
              "          document.querySelector('#df-4061db76-4eea-407a-8c1a-f67d9ea9618f button.colab-df-convert');\n",
              "        buttonEl.style.display =\n",
              "          google.colab.kernel.accessAllowed ? 'block' : 'none';\n",
              "\n",
              "        async function convertToInteractive(key) {\n",
              "          const element = document.querySelector('#df-4061db76-4eea-407a-8c1a-f67d9ea9618f');\n",
              "          const dataTable =\n",
              "            await google.colab.kernel.invokeFunction('convertToInteractive',\n",
              "                                                     [key], {});\n",
              "          if (!dataTable) return;\n",
              "\n",
              "          const docLinkHtml = 'Like what you see? Visit the ' +\n",
              "            '<a target=\"_blank\" href=https://colab.research.google.com/notebooks/data_table.ipynb>data table notebook</a>'\n",
              "            + ' to learn more about interactive tables.';\n",
              "          element.innerHTML = '';\n",
              "          dataTable['output_type'] = 'display_data';\n",
              "          await google.colab.output.renderOutput(dataTable, element);\n",
              "          const docLink = document.createElement('div');\n",
              "          docLink.innerHTML = docLinkHtml;\n",
              "          element.appendChild(docLink);\n",
              "        }\n",
              "      </script>\n",
              "    </div>\n",
              "  </div>\n",
              "  "
            ]
          },
          "metadata": {},
          "execution_count": 53
        }
      ]
    },
    {
      "cell_type": "code",
      "source": [
        "pred = loaded_model.predict(X[-1:])\n",
        "pred"
      ],
      "metadata": {
        "colab": {
          "base_uri": "https://localhost:8080/"
        },
        "id": "DQmMH41cLVfH",
        "outputId": "2af60236-43c5-4a3d-dca6-4bbcb7a1f448"
      },
      "execution_count": null,
      "outputs": [
        {
          "output_type": "stream",
          "name": "stdout",
          "text": [
            "1/1 [==============================] - 1s 573ms/step\n"
          ]
        },
        {
          "output_type": "execute_result",
          "data": {
            "text/plain": [
              "array([[-0.24743068, -0.26067543, -0.24092641, -0.25106952, -0.25173378,\n",
              "        -0.25105304, -0.24474797, -0.25270668, -0.245785  , -0.24904318,\n",
              "        -0.24627422, -0.24851869, -0.24364066, -0.2600688 , -0.2477447 ,\n",
              "        -0.24505149, -0.24542369, -0.24886672, -0.24011411, -0.25124282,\n",
              "        -0.24810907, -0.24661562, -0.25504985, -0.24085638]],\n",
              "      dtype=float32)"
            ]
          },
          "metadata": {},
          "execution_count": 54
        }
      ]
    },
    {
      "cell_type": "code",
      "source": [
        "last_data_timestep"
      ],
      "metadata": {
        "colab": {
          "base_uri": "https://localhost:8080/"
        },
        "id": "5O4RyAZjPq3b",
        "outputId": "e3e43f84-1de4-439b-a675-8caec049130f"
      },
      "execution_count": null,
      "outputs": [
        {
          "output_type": "execute_result",
          "data": {
            "text/plain": [
              "Timestamp('2023-04-02 12:00:00+0000', tz='UTC')"
            ]
          },
          "metadata": {},
          "execution_count": 55
        }
      ]
    },
    {
      "cell_type": "code",
      "source": [
        "from datetime import timedelta\n",
        "date_list = []\n",
        "new_date = last_data_timestep\n",
        "\n",
        "for i in range(HORIZON):\n",
        "  new_date = new_date + timedelta(hours=1)\n",
        "  date_list.append(new_date)\n",
        "\n",
        "date_list"
      ],
      "metadata": {
        "colab": {
          "base_uri": "https://localhost:8080/"
        },
        "id": "5nr0O0zZPXYH",
        "outputId": "0f103d30-d652-4d83-96e9-6da28c216ca6"
      },
      "execution_count": null,
      "outputs": [
        {
          "output_type": "execute_result",
          "data": {
            "text/plain": [
              "[Timestamp('2023-04-02 13:00:00+0000', tz='UTC'),\n",
              " Timestamp('2023-04-02 14:00:00+0000', tz='UTC'),\n",
              " Timestamp('2023-04-02 15:00:00+0000', tz='UTC'),\n",
              " Timestamp('2023-04-02 16:00:00+0000', tz='UTC'),\n",
              " Timestamp('2023-04-02 17:00:00+0000', tz='UTC'),\n",
              " Timestamp('2023-04-02 18:00:00+0000', tz='UTC'),\n",
              " Timestamp('2023-04-02 19:00:00+0000', tz='UTC'),\n",
              " Timestamp('2023-04-02 20:00:00+0000', tz='UTC'),\n",
              " Timestamp('2023-04-02 21:00:00+0000', tz='UTC'),\n",
              " Timestamp('2023-04-02 22:00:00+0000', tz='UTC'),\n",
              " Timestamp('2023-04-02 23:00:00+0000', tz='UTC'),\n",
              " Timestamp('2023-04-03 00:00:00+0000', tz='UTC'),\n",
              " Timestamp('2023-04-03 01:00:00+0000', tz='UTC'),\n",
              " Timestamp('2023-04-03 02:00:00+0000', tz='UTC'),\n",
              " Timestamp('2023-04-03 03:00:00+0000', tz='UTC'),\n",
              " Timestamp('2023-04-03 04:00:00+0000', tz='UTC'),\n",
              " Timestamp('2023-04-03 05:00:00+0000', tz='UTC'),\n",
              " Timestamp('2023-04-03 06:00:00+0000', tz='UTC'),\n",
              " Timestamp('2023-04-03 07:00:00+0000', tz='UTC'),\n",
              " Timestamp('2023-04-03 08:00:00+0000', tz='UTC'),\n",
              " Timestamp('2023-04-03 09:00:00+0000', tz='UTC'),\n",
              " Timestamp('2023-04-03 10:00:00+0000', tz='UTC'),\n",
              " Timestamp('2023-04-03 11:00:00+0000', tz='UTC'),\n",
              " Timestamp('2023-04-03 12:00:00+0000', tz='UTC')]"
            ]
          },
          "metadata": {},
          "execution_count": 56
        }
      ]
    },
    {
      "cell_type": "code",
      "source": [
        "pred_inverted = PRED_SCALER.inverse_transform(pred)\n",
        "pred_inverted"
      ],
      "metadata": {
        "colab": {
          "base_uri": "https://localhost:8080/"
        },
        "id": "GxT7u1kuvnak",
        "outputId": "448d2522-7707-4f02-f536-dc786fde1e6a"
      },
      "execution_count": null,
      "outputs": [
        {
          "output_type": "execute_result",
          "data": {
            "text/plain": [
              "array([[28341.043, 28030.312, 28493.637, 28255.674, 28240.09 , 28256.06 ,\n",
              "        28403.98 , 28217.266, 28379.652, 28303.213, 28368.174, 28315.518,\n",
              "        28429.959, 28044.545, 28333.676, 28396.86 , 28388.129, 28307.352,\n",
              "        28512.693, 28251.607, 28325.127, 28360.164, 28162.293, 28495.28 ]],\n",
              "      dtype=float32)"
            ]
          },
          "metadata": {},
          "execution_count": 57
        }
      ]
    },
    {
      "cell_type": "code",
      "source": [
        "plt.figure(figsize=(10, 7))\n",
        "# plot_time_series(pred_timesteps[-10:],pred_prices[-10:], label=\"original data\", format='-')\n",
        "plot_time_series(date_list,pred_inverted.reshape(-1,1), label=\"predicted data\",format='-')"
      ],
      "metadata": {
        "colab": {
          "base_uri": "https://localhost:8080/",
          "height": 619
        },
        "id": "er6y41smPnbY",
        "outputId": "a87e8db0-ee9e-4524-861a-492baf0b6ffb"
      },
      "execution_count": null,
      "outputs": [
        {
          "output_type": "display_data",
          "data": {
            "text/plain": [
              "<Figure size 1000x700 with 1 Axes>"
            ],
            "image/png": "[encoded data removed]"
          },
          "metadata": {}
        }
      ]
    },
    {
      "cell_type": "code",
      "source": [],
      "metadata": {
        "id": "9N57TwZoQaO1"
      },
      "execution_count": null,
      "outputs": []
    }
  ]
}