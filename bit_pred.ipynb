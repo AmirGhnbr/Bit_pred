{
  "nbformat": 4,
  "nbformat_minor": 0,
  "metadata": {
    "colab": {
      "provenance": [],
      "authorship_tag": "ABX9TyMHVcb+OQi3o/uUQRDUP9vz",
      "include_colab_link": true
    },
    "kernelspec": {
      "name": "python3",
      "display_name": "Python 3"
    },
    "language_info": {
      "name": "python"
    },
    "accelerator": "GPU",
    "gpuClass": "standard"
  },
  "cells": [
    {
      "cell_type": "markdown",
      "metadata": {
        "id": "view-in-github",
        "colab_type": "text"
      },
      "source": [
        "<a href=\"https://colab.research.google.com/github/AmirGhnbr/Bit_pred/blob/dev_branch/bit_pred.ipynb\" target=\"_parent\"><img src=\"https://colab.research.google.com/assets/colab-badge.svg\" alt=\"Open In Colab\"/></a>"
      ]
    },
    {
      "cell_type": "code",
      "execution_count": 1,
      "metadata": {
        "id": "wJPJ6hAV8xBT",
        "colab": {
          "base_uri": "https://localhost:8080/"
        },
        "outputId": "754786ff-1406-4c51-c079-752169558779"
      },
      "outputs": [
        {
          "output_type": "stream",
          "name": "stdout",
          "text": [
            "Looking in indexes: https://pypi.org/simple, https://us-python.pkg.dev/colab-wheels/public/simple/\n",
            "Requirement already satisfied: yfinance in /usr/local/lib/python3.9/dist-packages (0.2.13)\n",
            "Requirement already satisfied: multitasking>=0.0.7 in /usr/local/lib/python3.9/dist-packages (from yfinance) (0.0.11)\n",
            "Requirement already satisfied: lxml>=4.9.1 in /usr/local/lib/python3.9/dist-packages (from yfinance) (4.9.2)\n",
            "Requirement already satisfied: pytz>=2022.5 in /usr/local/lib/python3.9/dist-packages (from yfinance) (2022.7.1)\n",
            "Requirement already satisfied: html5lib>=1.1 in /usr/local/lib/python3.9/dist-packages (from yfinance) (1.1)\n",
            "Requirement already satisfied: appdirs>=1.4.4 in /usr/local/lib/python3.9/dist-packages (from yfinance) (1.4.4)\n",
            "Requirement already satisfied: pandas>=1.3.0 in /usr/local/lib/python3.9/dist-packages (from yfinance) (1.4.4)\n",
            "Requirement already satisfied: beautifulsoup4>=4.11.1 in /usr/local/lib/python3.9/dist-packages (from yfinance) (4.11.2)\n",
            "Requirement already satisfied: cryptography>=3.3.2 in /usr/local/lib/python3.9/dist-packages (from yfinance) (39.0.2)\n",
            "Requirement already satisfied: requests>=2.26 in /usr/local/lib/python3.9/dist-packages (from yfinance) (2.27.1)\n",
            "Requirement already satisfied: frozendict>=2.3.4 in /usr/local/lib/python3.9/dist-packages (from yfinance) (2.3.6)\n",
            "Requirement already satisfied: numpy>=1.16.5 in /usr/local/lib/python3.9/dist-packages (from yfinance) (1.22.4)\n",
            "Requirement already satisfied: soupsieve>1.2 in /usr/local/lib/python3.9/dist-packages (from beautifulsoup4>=4.11.1->yfinance) (2.4)\n",
            "Requirement already satisfied: cffi>=1.12 in /usr/local/lib/python3.9/dist-packages (from cryptography>=3.3.2->yfinance) (1.15.1)\n",
            "Requirement already satisfied: six>=1.9 in /usr/local/lib/python3.9/dist-packages (from html5lib>=1.1->yfinance) (1.16.0)\n",
            "Requirement already satisfied: webencodings in /usr/local/lib/python3.9/dist-packages (from html5lib>=1.1->yfinance) (0.5.1)\n",
            "Requirement already satisfied: python-dateutil>=2.8.1 in /usr/local/lib/python3.9/dist-packages (from pandas>=1.3.0->yfinance) (2.8.2)\n",
            "Requirement already satisfied: urllib3<1.27,>=1.21.1 in /usr/local/lib/python3.9/dist-packages (from requests>=2.26->yfinance) (1.26.15)\n",
            "Requirement already satisfied: charset-normalizer~=2.0.0 in /usr/local/lib/python3.9/dist-packages (from requests>=2.26->yfinance) (2.0.12)\n",
            "Requirement already satisfied: idna<4,>=2.5 in /usr/local/lib/python3.9/dist-packages (from requests>=2.26->yfinance) (3.4)\n",
            "Requirement already satisfied: certifi>=2017.4.17 in /usr/local/lib/python3.9/dist-packages (from requests>=2.26->yfinance) (2022.12.7)\n",
            "Requirement already satisfied: pycparser in /usr/local/lib/python3.9/dist-packages (from cffi>=1.12->cryptography>=3.3.2->yfinance) (2.21)\n"
          ]
        }
      ],
      "source": [
        "!pip install yfinance"
      ]
    },
    {
      "cell_type": "code",
      "source": [
        "from google.colab import drive\n",
        "drive.mount('/content/drive')"
      ],
      "metadata": {
        "colab": {
          "base_uri": "https://localhost:8080/"
        },
        "id": "Jjs7CniA86iX",
        "outputId": "77782c60-2aab-4171-cfb7-bae078c7b5d7"
      },
      "execution_count": 2,
      "outputs": [
        {
          "output_type": "stream",
          "name": "stdout",
          "text": [
            "Mounted at /content/drive\n"
          ]
        }
      ]
    },
    {
      "cell_type": "code",
      "source": [
        "TICKER = 'BTC-USD'"
      ],
      "metadata": {
        "id": "IbfHbGxh-YNW"
      },
      "execution_count": 3,
      "outputs": []
    },
    {
      "cell_type": "code",
      "source": [
        "import yfinance as yf\n",
        "import datetime\n",
        "import pandas as pd\n",
        "\n",
        "today = datetime.datetime.now()\n",
        "start_year_ago = today-datetime.timedelta(days = 720)\n",
        "btc_data = yf.download(tickers=TICKER, interval=\"1h\",start= start_year_ago, end=today)\n",
        "btc_data.tail()"
      ],
      "metadata": {
        "colab": {
          "base_uri": "https://localhost:8080/",
          "height": 255
        },
        "id": "A66bFPhQ-pe6",
        "outputId": "30c60dc4-a112-4ec7-dc6a-462169aa1bfe"
      },
      "execution_count": 4,
      "outputs": [
        {
          "output_type": "stream",
          "name": "stdout",
          "text": [
            "\r[*********************100%***********************]  1 of 1 completed\n"
          ]
        },
        {
          "output_type": "execute_result",
          "data": {
            "text/plain": [
              "                                   Open          High           Low  \\\n",
              "Datetime                                                              \n",
              "2023-03-29 11:00:00+00:00  28380.179688  28380.375000  28278.326172   \n",
              "2023-03-29 12:00:00+00:00  28356.123047  28435.039062  28262.417969   \n",
              "2023-03-29 13:00:00+00:00  28455.462891  28476.214844  28343.751953   \n",
              "2023-03-29 14:00:00+00:00  28403.763672  28572.785156  28282.330078   \n",
              "2023-03-29 15:00:00+00:00  28291.001953  28344.910156  28280.646484   \n",
              "\n",
              "                                  Close     Adj Close     Volume  \n",
              "Datetime                                                          \n",
              "2023-03-29 11:00:00+00:00  28360.330078  28360.330078   25284608  \n",
              "2023-03-29 12:00:00+00:00  28435.039062  28435.039062  204386304  \n",
              "2023-03-29 13:00:00+00:00  28404.966797  28404.966797  391882752  \n",
              "2023-03-29 14:00:00+00:00  28285.476562  28285.476562  294770688  \n",
              "2023-03-29 15:00:00+00:00  28344.910156  28344.910156   19204096  "
            ],
            "text/html": [
              "\n",
              "  <div id=\"df-ee186e89-b062-4922-9ac2-c462e2e1fc21\">\n",
              "    <div class=\"colab-df-container\">\n",
              "      <div>\n",
              "<style scoped>\n",
              "    .dataframe tbody tr th:only-of-type {\n",
              "        vertical-align: middle;\n",
              "    }\n",
              "\n",
              "    .dataframe tbody tr th {\n",
              "        vertical-align: top;\n",
              "    }\n",
              "\n",
              "    .dataframe thead th {\n",
              "        text-align: right;\n",
              "    }\n",
              "</style>\n",
              "<table border=\"1\" class=\"dataframe\">\n",
              "  <thead>\n",
              "    <tr style=\"text-align: right;\">\n",
              "      <th></th>\n",
              "      <th>Open</th>\n",
              "      <th>High</th>\n",
              "      <th>Low</th>\n",
              "      <th>Close</th>\n",
              "      <th>Adj Close</th>\n",
              "      <th>Volume</th>\n",
              "    </tr>\n",
              "    <tr>\n",
              "      <th>Datetime</th>\n",
              "      <th></th>\n",
              "      <th></th>\n",
              "      <th></th>\n",
              "      <th></th>\n",
              "      <th></th>\n",
              "      <th></th>\n",
              "    </tr>\n",
              "  </thead>\n",
              "  <tbody>\n",
              "    <tr>\n",
              "      <th>2023-03-29 11:00:00+00:00</th>\n",
              "      <td>28380.179688</td>\n",
              "      <td>28380.375000</td>\n",
              "      <td>28278.326172</td>\n",
              "      <td>28360.330078</td>\n",
              "      <td>28360.330078</td>\n",
              "      <td>25284608</td>\n",
              "    </tr>\n",
              "    <tr>\n",
              "      <th>2023-03-29 12:00:00+00:00</th>\n",
              "      <td>28356.123047</td>\n",
              "      <td>28435.039062</td>\n",
              "      <td>28262.417969</td>\n",
              "      <td>28435.039062</td>\n",
              "      <td>28435.039062</td>\n",
              "      <td>204386304</td>\n",
              "    </tr>\n",
              "    <tr>\n",
              "      <th>2023-03-29 13:00:00+00:00</th>\n",
              "      <td>28455.462891</td>\n",
              "      <td>28476.214844</td>\n",
              "      <td>28343.751953</td>\n",
              "      <td>28404.966797</td>\n",
              "      <td>28404.966797</td>\n",
              "      <td>391882752</td>\n",
              "    </tr>\n",
              "    <tr>\n",
              "      <th>2023-03-29 14:00:00+00:00</th>\n",
              "      <td>28403.763672</td>\n",
              "      <td>28572.785156</td>\n",
              "      <td>28282.330078</td>\n",
              "      <td>28285.476562</td>\n",
              "      <td>28285.476562</td>\n",
              "      <td>294770688</td>\n",
              "    </tr>\n",
              "    <tr>\n",
              "      <th>2023-03-29 15:00:00+00:00</th>\n",
              "      <td>28291.001953</td>\n",
              "      <td>28344.910156</td>\n",
              "      <td>28280.646484</td>\n",
              "      <td>28344.910156</td>\n",
              "      <td>28344.910156</td>\n",
              "      <td>19204096</td>\n",
              "    </tr>\n",
              "  </tbody>\n",
              "</table>\n",
              "</div>\n",
              "      <button class=\"colab-df-convert\" onclick=\"convertToInteractive('df-ee186e89-b062-4922-9ac2-c462e2e1fc21')\"\n",
              "              title=\"Convert this dataframe to an interactive table.\"\n",
              "              style=\"display:none;\">\n",
              "        \n",
              "  <svg xmlns=\"http://www.w3.org/2000/svg\" height=\"24px\"viewBox=\"0 0 24 24\"\n",
              "       width=\"24px\">\n",
              "    <path d=\"M0 0h24v24H0V0z\" fill=\"none\"/>\n",
              "    <path d=\"M18.56 5.44l.94 2.06.94-2.06 2.06-.94-2.06-.94-.94-2.06-.94 2.06-2.06.94zm-11 1L8.5 8.5l.94-2.06 2.06-.94-2.06-.94L8.5 2.5l-.94 2.06-2.06.94zm10 10l.94 2.06.94-2.06 2.06-.94-2.06-.94-.94-2.06-.94 2.06-2.06.94z\"/><path d=\"M17.41 7.96l-1.37-1.37c-.4-.4-.92-.59-1.43-.59-.52 0-1.04.2-1.43.59L10.3 9.45l-7.72 7.72c-.78.78-.78 2.05 0 2.83L4 21.41c.39.39.9.59 1.41.59.51 0 1.02-.2 1.41-.59l7.78-7.78 2.81-2.81c.8-.78.8-2.07 0-2.86zM5.41 20L4 18.59l7.72-7.72 1.47 1.35L5.41 20z\"/>\n",
              "  </svg>\n",
              "      </button>\n",
              "      \n",
              "  <style>\n",
              "    .colab-df-container {\n",
              "      display:flex;\n",
              "      flex-wrap:wrap;\n",
              "      gap: 12px;\n",
              "    }\n",
              "\n",
              "    .colab-df-convert {\n",
              "      background-color: #E8F0FE;\n",
              "      border: none;\n",
              "      border-radius: 50%;\n",
              "      cursor: pointer;\n",
              "      display: none;\n",
              "      fill: #1967D2;\n",
              "      height: 32px;\n",
              "      padding: 0 0 0 0;\n",
              "      width: 32px;\n",
              "    }\n",
              "\n",
              "    .colab-df-convert:hover {\n",
              "      background-color: #E2EBFA;\n",
              "      box-shadow: 0px 1px 2px rgba(60, 64, 67, 0.3), 0px 1px 3px 1px rgba(60, 64, 67, 0.15);\n",
              "      fill: #174EA6;\n",
              "    }\n",
              "\n",
              "    [theme=dark] .colab-df-convert {\n",
              "      background-color: #3B4455;\n",
              "      fill: #D2E3FC;\n",
              "    }\n",
              "\n",
              "    [theme=dark] .colab-df-convert:hover {\n",
              "      background-color: #434B5C;\n",
              "      box-shadow: 0px 1px 3px 1px rgba(0, 0, 0, 0.15);\n",
              "      filter: drop-shadow(0px 1px 2px rgba(0, 0, 0, 0.3));\n",
              "      fill: #FFFFFF;\n",
              "    }\n",
              "  </style>\n",
              "\n",
              "      <script>\n",
              "        const buttonEl =\n",
              "          document.querySelector('#df-ee186e89-b062-4922-9ac2-c462e2e1fc21 button.colab-df-convert');\n",
              "        buttonEl.style.display =\n",
              "          google.colab.kernel.accessAllowed ? 'block' : 'none';\n",
              "\n",
              "        async function convertToInteractive(key) {\n",
              "          const element = document.querySelector('#df-ee186e89-b062-4922-9ac2-c462e2e1fc21');\n",
              "          const dataTable =\n",
              "            await google.colab.kernel.invokeFunction('convertToInteractive',\n",
              "                                                     [key], {});\n",
              "          if (!dataTable) return;\n",
              "\n",
              "          const docLinkHtml = 'Like what you see? Visit the ' +\n",
              "            '<a target=\"_blank\" href=https://colab.research.google.com/notebooks/data_table.ipynb>data table notebook</a>'\n",
              "            + ' to learn more about interactive tables.';\n",
              "          element.innerHTML = '';\n",
              "          dataTable['output_type'] = 'display_data';\n",
              "          await google.colab.output.renderOutput(dataTable, element);\n",
              "          const docLink = document.createElement('div');\n",
              "          docLink.innerHTML = docLinkHtml;\n",
              "          element.appendChild(docLink);\n",
              "        }\n",
              "      </script>\n",
              "    </div>\n",
              "  </div>\n",
              "  "
            ]
          },
          "metadata": {},
          "execution_count": 4
        }
      ]
    },
    {
      "cell_type": "code",
      "source": [
        "btc_data[\"OHLC4\"] = (btc_data[\"Open\"] + btc_data[\"High\"] + btc_data[\"Low\"] + btc_data[\"Close\"]) / 4 \n",
        "btc_data.tail()"
      ],
      "metadata": {
        "colab": {
          "base_uri": "https://localhost:8080/",
          "height": 237
        },
        "id": "4wBRUhGQAWfC",
        "outputId": "446502be-34d8-4686-df03-8735db9870ef"
      },
      "execution_count": 5,
      "outputs": [
        {
          "output_type": "execute_result",
          "data": {
            "text/plain": [
              "                                   Open          High           Low  \\\n",
              "Datetime                                                              \n",
              "2023-03-29 11:00:00+00:00  28380.179688  28380.375000  28278.326172   \n",
              "2023-03-29 12:00:00+00:00  28356.123047  28435.039062  28262.417969   \n",
              "2023-03-29 13:00:00+00:00  28455.462891  28476.214844  28343.751953   \n",
              "2023-03-29 14:00:00+00:00  28403.763672  28572.785156  28282.330078   \n",
              "2023-03-29 15:00:00+00:00  28291.001953  28344.910156  28280.646484   \n",
              "\n",
              "                                  Close     Adj Close     Volume         OHLC4  \n",
              "Datetime                                                                        \n",
              "2023-03-29 11:00:00+00:00  28360.330078  28360.330078   25284608  28349.802734  \n",
              "2023-03-29 12:00:00+00:00  28435.039062  28435.039062  204386304  28372.154785  \n",
              "2023-03-29 13:00:00+00:00  28404.966797  28404.966797  391882752  28420.099121  \n",
              "2023-03-29 14:00:00+00:00  28285.476562  28285.476562  294770688  28386.088867  \n",
              "2023-03-29 15:00:00+00:00  28344.910156  28344.910156   19204096  28315.367188  "
            ],
            "text/html": [
              "\n",
              "  <div id=\"df-3a26a088-0925-4c56-bbb0-62e512e522ac\">\n",
              "    <div class=\"colab-df-container\">\n",
              "      <div>\n",
              "<style scoped>\n",
              "    .dataframe tbody tr th:only-of-type {\n",
              "        vertical-align: middle;\n",
              "    }\n",
              "\n",
              "    .dataframe tbody tr th {\n",
              "        vertical-align: top;\n",
              "    }\n",
              "\n",
              "    .dataframe thead th {\n",
              "        text-align: right;\n",
              "    }\n",
              "</style>\n",
              "<table border=\"1\" class=\"dataframe\">\n",
              "  <thead>\n",
              "    <tr style=\"text-align: right;\">\n",
              "      <th></th>\n",
              "      <th>Open</th>\n",
              "      <th>High</th>\n",
              "      <th>Low</th>\n",
              "      <th>Close</th>\n",
              "      <th>Adj Close</th>\n",
              "      <th>Volume</th>\n",
              "      <th>OHLC4</th>\n",
              "    </tr>\n",
              "    <tr>\n",
              "      <th>Datetime</th>\n",
              "      <th></th>\n",
              "      <th></th>\n",
              "      <th></th>\n",
              "      <th></th>\n",
              "      <th></th>\n",
              "      <th></th>\n",
              "      <th></th>\n",
              "    </tr>\n",
              "  </thead>\n",
              "  <tbody>\n",
              "    <tr>\n",
              "      <th>2023-03-29 11:00:00+00:00</th>\n",
              "      <td>28380.179688</td>\n",
              "      <td>28380.375000</td>\n",
              "      <td>28278.326172</td>\n",
              "      <td>28360.330078</td>\n",
              "      <td>28360.330078</td>\n",
              "      <td>25284608</td>\n",
              "      <td>28349.802734</td>\n",
              "    </tr>\n",
              "    <tr>\n",
              "      <th>2023-03-29 12:00:00+00:00</th>\n",
              "      <td>28356.123047</td>\n",
              "      <td>28435.039062</td>\n",
              "      <td>28262.417969</td>\n",
              "      <td>28435.039062</td>\n",
              "      <td>28435.039062</td>\n",
              "      <td>204386304</td>\n",
              "      <td>28372.154785</td>\n",
              "    </tr>\n",
              "    <tr>\n",
              "      <th>2023-03-29 13:00:00+00:00</th>\n",
              "      <td>28455.462891</td>\n",
              "      <td>28476.214844</td>\n",
              "      <td>28343.751953</td>\n",
              "      <td>28404.966797</td>\n",
              "      <td>28404.966797</td>\n",
              "      <td>391882752</td>\n",
              "      <td>28420.099121</td>\n",
              "    </tr>\n",
              "    <tr>\n",
              "      <th>2023-03-29 14:00:00+00:00</th>\n",
              "      <td>28403.763672</td>\n",
              "      <td>28572.785156</td>\n",
              "      <td>28282.330078</td>\n",
              "      <td>28285.476562</td>\n",
              "      <td>28285.476562</td>\n",
              "      <td>294770688</td>\n",
              "      <td>28386.088867</td>\n",
              "    </tr>\n",
              "    <tr>\n",
              "      <th>2023-03-29 15:00:00+00:00</th>\n",
              "      <td>28291.001953</td>\n",
              "      <td>28344.910156</td>\n",
              "      <td>28280.646484</td>\n",
              "      <td>28344.910156</td>\n",
              "      <td>28344.910156</td>\n",
              "      <td>19204096</td>\n",
              "      <td>28315.367188</td>\n",
              "    </tr>\n",
              "  </tbody>\n",
              "</table>\n",
              "</div>\n",
              "      <button class=\"colab-df-convert\" onclick=\"convertToInteractive('df-3a26a088-0925-4c56-bbb0-62e512e522ac')\"\n",
              "              title=\"Convert this dataframe to an interactive table.\"\n",
              "              style=\"display:none;\">\n",
              "        \n",
              "  <svg xmlns=\"http://www.w3.org/2000/svg\" height=\"24px\"viewBox=\"0 0 24 24\"\n",
              "       width=\"24px\">\n",
              "    <path d=\"M0 0h24v24H0V0z\" fill=\"none\"/>\n",
              "    <path d=\"M18.56 5.44l.94 2.06.94-2.06 2.06-.94-2.06-.94-.94-2.06-.94 2.06-2.06.94zm-11 1L8.5 8.5l.94-2.06 2.06-.94-2.06-.94L8.5 2.5l-.94 2.06-2.06.94zm10 10l.94 2.06.94-2.06 2.06-.94-2.06-.94-.94-2.06-.94 2.06-2.06.94z\"/><path d=\"M17.41 7.96l-1.37-1.37c-.4-.4-.92-.59-1.43-.59-.52 0-1.04.2-1.43.59L10.3 9.45l-7.72 7.72c-.78.78-.78 2.05 0 2.83L4 21.41c.39.39.9.59 1.41.59.51 0 1.02-.2 1.41-.59l7.78-7.78 2.81-2.81c.8-.78.8-2.07 0-2.86zM5.41 20L4 18.59l7.72-7.72 1.47 1.35L5.41 20z\"/>\n",
              "  </svg>\n",
              "      </button>\n",
              "      \n",
              "  <style>\n",
              "    .colab-df-container {\n",
              "      display:flex;\n",
              "      flex-wrap:wrap;\n",
              "      gap: 12px;\n",
              "    }\n",
              "\n",
              "    .colab-df-convert {\n",
              "      background-color: #E8F0FE;\n",
              "      border: none;\n",
              "      border-radius: 50%;\n",
              "      cursor: pointer;\n",
              "      display: none;\n",
              "      fill: #1967D2;\n",
              "      height: 32px;\n",
              "      padding: 0 0 0 0;\n",
              "      width: 32px;\n",
              "    }\n",
              "\n",
              "    .colab-df-convert:hover {\n",
              "      background-color: #E2EBFA;\n",
              "      box-shadow: 0px 1px 2px rgba(60, 64, 67, 0.3), 0px 1px 3px 1px rgba(60, 64, 67, 0.15);\n",
              "      fill: #174EA6;\n",
              "    }\n",
              "\n",
              "    [theme=dark] .colab-df-convert {\n",
              "      background-color: #3B4455;\n",
              "      fill: #D2E3FC;\n",
              "    }\n",
              "\n",
              "    [theme=dark] .colab-df-convert:hover {\n",
              "      background-color: #434B5C;\n",
              "      box-shadow: 0px 1px 3px 1px rgba(0, 0, 0, 0.15);\n",
              "      filter: drop-shadow(0px 1px 2px rgba(0, 0, 0, 0.3));\n",
              "      fill: #FFFFFF;\n",
              "    }\n",
              "  </style>\n",
              "\n",
              "      <script>\n",
              "        const buttonEl =\n",
              "          document.querySelector('#df-3a26a088-0925-4c56-bbb0-62e512e522ac button.colab-df-convert');\n",
              "        buttonEl.style.display =\n",
              "          google.colab.kernel.accessAllowed ? 'block' : 'none';\n",
              "\n",
              "        async function convertToInteractive(key) {\n",
              "          const element = document.querySelector('#df-3a26a088-0925-4c56-bbb0-62e512e522ac');\n",
              "          const dataTable =\n",
              "            await google.colab.kernel.invokeFunction('convertToInteractive',\n",
              "                                                     [key], {});\n",
              "          if (!dataTable) return;\n",
              "\n",
              "          const docLinkHtml = 'Like what you see? Visit the ' +\n",
              "            '<a target=\"_blank\" href=https://colab.research.google.com/notebooks/data_table.ipynb>data table notebook</a>'\n",
              "            + ' to learn more about interactive tables.';\n",
              "          element.innerHTML = '';\n",
              "          dataTable['output_type'] = 'display_data';\n",
              "          await google.colab.output.renderOutput(dataTable, element);\n",
              "          const docLink = document.createElement('div');\n",
              "          docLink.innerHTML = docLinkHtml;\n",
              "          element.appendChild(docLink);\n",
              "        }\n",
              "      </script>\n",
              "    </div>\n",
              "  </div>\n",
              "  "
            ]
          },
          "metadata": {},
          "execution_count": 5
        }
      ]
    },
    {
      "cell_type": "code",
      "source": [
        "bitcoin_prices_ohlc4_df = pd.DataFrame(btc_data[\"OHLC4\"]).rename(columns={\"OHLC4\": \"Price\"})\n",
        "bitcoin_prices_ohlc4_df.tail()"
      ],
      "metadata": {
        "colab": {
          "base_uri": "https://localhost:8080/",
          "height": 237
        },
        "id": "_zzFHvBN-vL0",
        "outputId": "5d7f1315-5a16-47d0-9c43-7f510f5ed3e5"
      },
      "execution_count": 6,
      "outputs": [
        {
          "output_type": "execute_result",
          "data": {
            "text/plain": [
              "                                  Price\n",
              "Datetime                               \n",
              "2023-03-29 11:00:00+00:00  28349.802734\n",
              "2023-03-29 12:00:00+00:00  28372.154785\n",
              "2023-03-29 13:00:00+00:00  28420.099121\n",
              "2023-03-29 14:00:00+00:00  28386.088867\n",
              "2023-03-29 15:00:00+00:00  28315.367188"
            ],
            "text/html": [
              "\n",
              "  <div id=\"df-75a480ba-ec38-476b-b9df-6c83420258fb\">\n",
              "    <div class=\"colab-df-container\">\n",
              "      <div>\n",
              "<style scoped>\n",
              "    .dataframe tbody tr th:only-of-type {\n",
              "        vertical-align: middle;\n",
              "    }\n",
              "\n",
              "    .dataframe tbody tr th {\n",
              "        vertical-align: top;\n",
              "    }\n",
              "\n",
              "    .dataframe thead th {\n",
              "        text-align: right;\n",
              "    }\n",
              "</style>\n",
              "<table border=\"1\" class=\"dataframe\">\n",
              "  <thead>\n",
              "    <tr style=\"text-align: right;\">\n",
              "      <th></th>\n",
              "      <th>Price</th>\n",
              "    </tr>\n",
              "    <tr>\n",
              "      <th>Datetime</th>\n",
              "      <th></th>\n",
              "    </tr>\n",
              "  </thead>\n",
              "  <tbody>\n",
              "    <tr>\n",
              "      <th>2023-03-29 11:00:00+00:00</th>\n",
              "      <td>28349.802734</td>\n",
              "    </tr>\n",
              "    <tr>\n",
              "      <th>2023-03-29 12:00:00+00:00</th>\n",
              "      <td>28372.154785</td>\n",
              "    </tr>\n",
              "    <tr>\n",
              "      <th>2023-03-29 13:00:00+00:00</th>\n",
              "      <td>28420.099121</td>\n",
              "    </tr>\n",
              "    <tr>\n",
              "      <th>2023-03-29 14:00:00+00:00</th>\n",
              "      <td>28386.088867</td>\n",
              "    </tr>\n",
              "    <tr>\n",
              "      <th>2023-03-29 15:00:00+00:00</th>\n",
              "      <td>28315.367188</td>\n",
              "    </tr>\n",
              "  </tbody>\n",
              "</table>\n",
              "</div>\n",
              "      <button class=\"colab-df-convert\" onclick=\"convertToInteractive('df-75a480ba-ec38-476b-b9df-6c83420258fb')\"\n",
              "              title=\"Convert this dataframe to an interactive table.\"\n",
              "              style=\"display:none;\">\n",
              "        \n",
              "  <svg xmlns=\"http://www.w3.org/2000/svg\" height=\"24px\"viewBox=\"0 0 24 24\"\n",
              "       width=\"24px\">\n",
              "    <path d=\"M0 0h24v24H0V0z\" fill=\"none\"/>\n",
              "    <path d=\"M18.56 5.44l.94 2.06.94-2.06 2.06-.94-2.06-.94-.94-2.06-.94 2.06-2.06.94zm-11 1L8.5 8.5l.94-2.06 2.06-.94-2.06-.94L8.5 2.5l-.94 2.06-2.06.94zm10 10l.94 2.06.94-2.06 2.06-.94-2.06-.94-.94-2.06-.94 2.06-2.06.94z\"/><path d=\"M17.41 7.96l-1.37-1.37c-.4-.4-.92-.59-1.43-.59-.52 0-1.04.2-1.43.59L10.3 9.45l-7.72 7.72c-.78.78-.78 2.05 0 2.83L4 21.41c.39.39.9.59 1.41.59.51 0 1.02-.2 1.41-.59l7.78-7.78 2.81-2.81c.8-.78.8-2.07 0-2.86zM5.41 20L4 18.59l7.72-7.72 1.47 1.35L5.41 20z\"/>\n",
              "  </svg>\n",
              "      </button>\n",
              "      \n",
              "  <style>\n",
              "    .colab-df-container {\n",
              "      display:flex;\n",
              "      flex-wrap:wrap;\n",
              "      gap: 12px;\n",
              "    }\n",
              "\n",
              "    .colab-df-convert {\n",
              "      background-color: #E8F0FE;\n",
              "      border: none;\n",
              "      border-radius: 50%;\n",
              "      cursor: pointer;\n",
              "      display: none;\n",
              "      fill: #1967D2;\n",
              "      height: 32px;\n",
              "      padding: 0 0 0 0;\n",
              "      width: 32px;\n",
              "    }\n",
              "\n",
              "    .colab-df-convert:hover {\n",
              "      background-color: #E2EBFA;\n",
              "      box-shadow: 0px 1px 2px rgba(60, 64, 67, 0.3), 0px 1px 3px 1px rgba(60, 64, 67, 0.15);\n",
              "      fill: #174EA6;\n",
              "    }\n",
              "\n",
              "    [theme=dark] .colab-df-convert {\n",
              "      background-color: #3B4455;\n",
              "      fill: #D2E3FC;\n",
              "    }\n",
              "\n",
              "    [theme=dark] .colab-df-convert:hover {\n",
              "      background-color: #434B5C;\n",
              "      box-shadow: 0px 1px 3px 1px rgba(0, 0, 0, 0.15);\n",
              "      filter: drop-shadow(0px 1px 2px rgba(0, 0, 0, 0.3));\n",
              "      fill: #FFFFFF;\n",
              "    }\n",
              "  </style>\n",
              "\n",
              "      <script>\n",
              "        const buttonEl =\n",
              "          document.querySelector('#df-75a480ba-ec38-476b-b9df-6c83420258fb button.colab-df-convert');\n",
              "        buttonEl.style.display =\n",
              "          google.colab.kernel.accessAllowed ? 'block' : 'none';\n",
              "\n",
              "        async function convertToInteractive(key) {\n",
              "          const element = document.querySelector('#df-75a480ba-ec38-476b-b9df-6c83420258fb');\n",
              "          const dataTable =\n",
              "            await google.colab.kernel.invokeFunction('convertToInteractive',\n",
              "                                                     [key], {});\n",
              "          if (!dataTable) return;\n",
              "\n",
              "          const docLinkHtml = 'Like what you see? Visit the ' +\n",
              "            '<a target=\"_blank\" href=https://colab.research.google.com/notebooks/data_table.ipynb>data table notebook</a>'\n",
              "            + ' to learn more about interactive tables.';\n",
              "          element.innerHTML = '';\n",
              "          dataTable['output_type'] = 'display_data';\n",
              "          await google.colab.output.renderOutput(dataTable, element);\n",
              "          const docLink = document.createElement('div');\n",
              "          docLink.innerHTML = docLinkHtml;\n",
              "          element.appendChild(docLink);\n",
              "        }\n",
              "      </script>\n",
              "    </div>\n",
              "  </div>\n",
              "  "
            ]
          },
          "metadata": {},
          "execution_count": 6
        }
      ]
    },
    {
      "cell_type": "code",
      "source": [
        "def timesteps_and_prices(df):\n",
        "  '''\n",
        "  Parameters:\n",
        "      df: dataframe that contains two columns (Date column, price column)\n",
        "  output:\n",
        "      timesteps : in pandas datetime format\n",
        "      prices: in numpy format\n",
        "  '''\n",
        "  timesteps = pd.to_datetime(df.index.to_numpy())\n",
        "  prices = df[\"Price\"].to_numpy()\n",
        "\n",
        "  return timesteps, prices\n"
      ],
      "metadata": {
        "id": "nwtF-4xuAl5n"
      },
      "execution_count": 7,
      "outputs": []
    },
    {
      "cell_type": "code",
      "source": [
        "timesteps, prices = timesteps_and_prices(bitcoin_prices_ohlc4_df)\n",
        "timesteps[:10], prices[:10]"
      ],
      "metadata": {
        "colab": {
          "base_uri": "https://localhost:8080/"
        },
        "id": "lbZnusoRJwK7",
        "outputId": "50095bf5-2f39-4397-8d4a-58f18193be4d"
      },
      "execution_count": 8,
      "outputs": [
        {
          "output_type": "execute_result",
          "data": {
            "text/plain": [
              "(DatetimeIndex(['2021-04-08 15:00:00+00:00', '2021-04-08 16:00:00+00:00',\n",
              "                '2021-04-08 17:00:00+00:00', '2021-04-08 18:00:00+00:00',\n",
              "                '2021-04-08 19:00:00+00:00', '2021-04-08 20:00:00+00:00',\n",
              "                '2021-04-08 21:00:00+00:00', '2021-04-08 22:00:00+00:00',\n",
              "                '2021-04-09 00:00:00+00:00', '2021-04-09 01:00:00+00:00'],\n",
              "               dtype='datetime64[ns, UTC]', freq=None),\n",
              " array([57813.51367188, 57856.62695312, 57812.89648438, 57955.01757812,\n",
              "        58043.94042969, 57863.69140625, 57878.50292969, 57966.66894531,\n",
              "        58339.05664062, 58292.22753906]))"
            ]
          },
          "metadata": {},
          "execution_count": 8
        }
      ]
    },
    {
      "cell_type": "markdown",
      "source": [
        "## Scale the data"
      ],
      "metadata": {
        "id": "4PRXTAT64CEO"
      }
    },
    {
      "cell_type": "code",
      "source": [
        "import numpy as np\n",
        "import tensorflow as tf"
      ],
      "metadata": {
        "id": "Z52gQkst00i0"
      },
      "execution_count": 27,
      "outputs": []
    },
    {
      "cell_type": "code",
      "source": [
        "from sklearn.preprocessing import RobustScaler\n",
        "\n",
        "def scale_data(prices):\n",
        "  scaler = RobustScaler()\n",
        "  scaled_prices= scaler.fit_transform(prices.reshape(-1, 1))\n",
        "  scaled_prices= scaled_prices.reshape(1,-1)\n",
        "  return scaled_prices.squeeze()\n",
        "prices, scale_data(prices)"
      ],
      "metadata": {
        "colab": {
          "base_uri": "https://localhost:8080/"
        },
        "id": "qNPcMft24L-E",
        "outputId": "9cf41e57-ede3-4ef1-e411-d3075fc9b4ec"
      },
      "execution_count": 42,
      "outputs": [
        {
          "output_type": "execute_result",
          "data": {
            "text/plain": [
              "(array([57813.51367188, 57856.62695312, 57812.89648438, ...,\n",
              "        28420.09912109, 28386.08886719, 28315.3671875 ]),\n",
              " array([ 0.97737379,  0.97917824,  0.97734796, ..., -0.25284807,\n",
              "        -0.25427153, -0.25723149]))"
            ]
          },
          "metadata": {},
          "execution_count": 42
        }
      ]
    },
    {
      "cell_type": "markdown",
      "source": [
        "## Split the data"
      ],
      "metadata": {
        "id": "WzXxVqk14fb6"
      }
    },
    {
      "cell_type": "code",
      "source": [
        "def get_train_test_split(timesteps,prices, train_test_ratio=0.8):\n",
        "  '''\n",
        "  Parameters: \n",
        "      timesteps\n",
        "      prices\n",
        "  output:\n",
        "      X_train, y_train, X_test, y_test\n",
        "  '''\n",
        "  split_size = int(0.8 * len(prices))\n",
        "  X_train, y_train = timesteps[:split_size], prices[:split_size]\n",
        "\n",
        "  X_test, y_test = timesteps[split_size:], prices[split_size:]\n",
        "  return X_train, y_train, X_test, y_test\n"
      ],
      "metadata": {
        "id": "CATm7r_hJ2_Q"
      },
      "execution_count": 9,
      "outputs": []
    },
    {
      "cell_type": "code",
      "source": [
        "timesteps, prices = timesteps_and_prices(bitcoin_prices_ohlc4_df)\n",
        "scaled_prices = scale_data(prices)\n",
        "X_train, y_train, X_test, y_test = get_train_test_split(timesteps,scaled_prices)\n",
        "X_train[:10], y_train[:10]"
      ],
      "metadata": {
        "colab": {
          "base_uri": "https://localhost:8080/"
        },
        "id": "_vIHj1E8K1mj",
        "outputId": "4979721e-8f98-4d92-e55b-402dae1190e1"
      },
      "execution_count": 44,
      "outputs": [
        {
          "output_type": "execute_result",
          "data": {
            "text/plain": [
              "(DatetimeIndex(['2021-04-08 15:00:00+00:00', '2021-04-08 16:00:00+00:00',\n",
              "                '2021-04-08 17:00:00+00:00', '2021-04-08 18:00:00+00:00',\n",
              "                '2021-04-08 19:00:00+00:00', '2021-04-08 20:00:00+00:00',\n",
              "                '2021-04-08 21:00:00+00:00', '2021-04-08 22:00:00+00:00',\n",
              "                '2021-04-09 00:00:00+00:00', '2021-04-09 01:00:00+00:00'],\n",
              "               dtype='datetime64[ns, UTC]', freq=None),\n",
              " array([0.97737379, 0.97917824, 0.97734796, 0.98329625, 0.98701799,\n",
              "        0.97947391, 0.98009383, 0.9837839 , 0.99936969, 0.99740972]))"
            ]
          },
          "metadata": {},
          "execution_count": 44
        }
      ]
    },
    {
      "cell_type": "code",
      "source": [
        "\n",
        "import matplotlib.pyplot as plt \n",
        "\n",
        "def plot_time_series(timesteps, values, format='.', start=0, end=None, label=None):\n",
        "  \"\"\"\n",
        "  Plots a timesteps (a series of points in time) against values (a series of values across timesteps).\n",
        "  \n",
        "  Parameters:\n",
        "      timesteps : array of timesteps\n",
        "      values : array of values across time\n",
        "      format : style of plot, default \".\"\n",
        "      start : where to start the plot (setting a value will index from start of timesteps & values)\n",
        "      end : where to end the plot (setting a value will index from end of timesteps & values)\n",
        "      label : label to show on plot of values\n",
        "  \"\"\"\n",
        "  # Plot the series\n",
        "  plt.plot(timesteps[start:end], values[start:end], format, label=label)\n",
        "  plt.xlabel(\"Time\")\n",
        "  plt.ylabel(\"BTC Price\")\n",
        "  if label:\n",
        "    plt.legend(fontsize=14) # make label bigger\n",
        "  plt.grid(True)"
      ],
      "metadata": {
        "id": "hywHWbj-K-jj"
      },
      "execution_count": 45,
      "outputs": []
    },
    {
      "cell_type": "code",
      "source": [
        "plt.figure(figsize=(10, 7))\n",
        "plot_time_series(timesteps=X_train, values=y_train, label=\"Train data\")\n",
        "plot_time_series(timesteps=X_test, values=y_test, label=\"Test data\")"
      ],
      "metadata": {
        "colab": {
          "base_uri": "https://localhost:8080/",
          "height": 442
        },
        "id": "JSmHg63eL30h",
        "outputId": "598fbf59-c54c-4955-9f49-9167265e4817"
      },
      "execution_count": 46,
      "outputs": [
        {
          "output_type": "display_data",
          "data": {
            "text/plain": [
              "<Figure size 720x504 with 1 Axes>"
            ],
            "image/png": "[encoded data removed]"
          },
          "metadata": {
            "needs_background": "light"
          }
        }
      ]
    },
    {
      "cell_type": "markdown",
      "source": [
        "## Define evaluation metrics"
      ],
      "metadata": {
        "id": "Esf7nJst4F01"
      }
    },
    {
      "cell_type": "code",
      "source": [
        "def smape(actual, forecast):\n",
        "    \"\"\"\n",
        "    Calculates Symmetric Mean Absolute Percentage Error (SMAPE) for time series evaluation\n",
        "    Parameters:\n",
        "        targets: a numpy array of actual values\n",
        "        predictions: a numpy array of predicted values\n",
        "    Returns:\n",
        "        smape: the SMAPE value\n",
        "    \"\"\"\n",
        "    epsilon = 1e-8\n",
        "    dividend = tf.abs(actual - forecast)\n",
        "    denominator = tf.abs(actual) + tf.abs(forecast)\n",
        "    smape = 200 * tf.reduce_sum(tf.divide(dividend, denominator + epsilon))/tf.size(actual,out_type=tf.float32)\n",
        "    return smape"
      ],
      "metadata": {
        "id": "0Rit8KDxMDNa"
      },
      "execution_count": 28,
      "outputs": []
    },
    {
      "cell_type": "code",
      "source": [
        "def mape(actual, forecast):\n",
        "    \"\"\"\n",
        "    Calculates Symmetric Mean Absolute Percentage Error (SMAPE) for time series evaluation\n",
        "    Parameters:\n",
        "        targets: a numpy array of actual values\n",
        "        predictions: a numpy array of predicted values\n",
        "    Returns:\n",
        "        mape: the SMAPE value\n",
        "    \"\"\"\n",
        "    epsilon = 1e-8\n",
        "    dividend = tf.abs(actual-forecast)\n",
        "    denomenator = tf.abs(actual)\n",
        "    mape = 100*tf.reduce_sum(tf.divide(dividend,denomenator + epsilon))/tf.size(actual,out_type=tf.float32)\n",
        "    return mape"
      ],
      "metadata": {
        "id": "qKo8R4GrNjGJ"
      },
      "execution_count": 29,
      "outputs": []
    },
    {
      "cell_type": "code",
      "source": [
        "def mean_absolute_scaled_error(actual, forecast, horizon=1):\n",
        "    \"\"\"\n",
        "    Parameters:\n",
        "        actual: numpy array-like with actual values\n",
        "        forecast: numpy array-like with forecasted values\n",
        "        horizon: int for the difference between naive forecast and actual value\n",
        "    Outputs:\n",
        "        mase: float, mean absolute scaled error\n",
        "    \"\"\"\n",
        "    abs_errors = tf.abs(actual - forecast)\n",
        "\n",
        "    # Calculate the mean absolute error\n",
        "    mean_absolute_error = tf.reduce_mean(abs_errors)\n",
        "\n",
        "    # Calculate the mean absolute error for the naive forecast\n",
        "    naive_forecast_errors = tf.abs(actual[horizon:] - actual[:-horizon])\n",
        "    mean_absolute_naive_error = tf.reduce_mean(naive_forecast_errors)\n",
        "\n",
        "    # Calculate the mean absolute scaled error\n",
        "    mase = mean_absolute_error / mean_absolute_naive_error\n",
        "\n",
        "    return mase"
      ],
      "metadata": {
        "id": "tVhPza9BTt_G"
      },
      "execution_count": 30,
      "outputs": []
    },
    {
      "cell_type": "code",
      "source": [
        "def evaluate_preds(y_true, y_pred):\n",
        "  # Make sure float32 (for metric calculations)\n",
        "  y_true = tf.cast(y_true, dtype=tf.float32)\n",
        "  y_pred = tf.cast(y_pred, dtype=tf.float32)\n",
        "\n",
        "  # Calculate various metrics\n",
        "  mae = tf.keras.metrics.mean_absolute_error(y_true, y_pred)\n",
        "  mse = tf.keras.metrics.mean_squared_error(y_true, y_pred) # puts and emphasis on outliers (all errors get squared)\n",
        "  rmse = tf.sqrt(mse)\n",
        "  mape = mape(y_true, y_pred)\n",
        "  mase = mean_absolute_scaled_error(y_true, y_pred)\n",
        "  smape = smape(y_true, y_pred)\n",
        "  \n",
        "  if mae.ndim > 0: \n",
        "    mae = tf.reduce_mean(mae)\n",
        "    mse = tf.reduce_mean(mse)\n",
        "    rmse = tf.reduce_mean(rmse)\n",
        "    mape = tf.reduce_mean(mape)\n",
        "    mase = tf.reduce_mean(mase)\n",
        "\n",
        "  return {\"mae\": mae.numpy(),\n",
        "          \"mse\": mse.numpy(),\n",
        "          \"rmse\": rmse.numpy(),\n",
        "          \"mape\": mape.numpy(),\n",
        "          \"mase\": mase.numpy(),\n",
        "          'smape': smape.numpy()}"
      ],
      "metadata": {
        "id": "Sv6fwpuIwJ2H"
      },
      "execution_count": 31,
      "outputs": []
    },
    {
      "cell_type": "markdown",
      "source": [
        "## Define custom SMAPE metric"
      ],
      "metadata": {
        "id": "2ToqavNbSzNd"
      }
    },
    {
      "cell_type": "code",
      "source": [
        "import tensorflow as tf \n",
        "class SMAPE(tf.keras.metrics.Metric): \n",
        "  def __init__(self, name='smape', **kwargs):\n",
        "     super(SMAPE, self).__init__(name=name, **kwargs) \n",
        "     self.epsilon = 1e-8 \n",
        "     self.total_smape = self.add_weight(name='total', initializer='zeros') \n",
        "     self.counter = self.add_weight(name='counter', initializer='zeros') \n",
        "  def update_state(self, y_true, y_pred, sample_weight=None): \n",
        "    dividend = tf.abs(y_true - y_pred) \n",
        "    denominator = tf.abs(y_true) + tf.abs(y_pred) \n",
        "    smape = 200 * tf.divide(dividend, denominator + self.epsilon) \n",
        "    self.total_smape.assign_add(tf.reduce_sum(smape)) \n",
        "    self.counter.assign_add(tf.cast(tf.size(y_true), dtype=tf.float32)) \n",
        "  def result(self): \n",
        "    return tf.math.divide_no_nan(self.total_smape, self.counter) \n",
        "  def reset_states(self): \n",
        "    self.total_smape.assign(0.) \n",
        "    self.counter.assign(0.) "
      ],
      "metadata": {
        "id": "7O1tK4erPrTT"
      },
      "execution_count": 16,
      "outputs": []
    },
    {
      "cell_type": "markdown",
      "source": [
        "## Window the data"
      ],
      "metadata": {
        "id": "BCpX75tLzO2Q"
      }
    },
    {
      "cell_type": "code",
      "source": [
        "HORIZON = 24\n",
        "WINDOW_SIZE= 4*HORIZON"
      ],
      "metadata": {
        "id": "BqshT6-gOv2e"
      },
      "execution_count": 21,
      "outputs": []
    },
    {
      "cell_type": "code",
      "source": [
        "def get_labelled_windows(x , horizon=1):\n",
        "  \"\"\"\n",
        "  Create labels for windowed dataset\n",
        "  \"\"\"\n",
        "  return x[:,:-horizon] , x[:,-horizon:]"
      ],
      "metadata": {
        "id": "-DgcICugzq11"
      },
      "execution_count": 22,
      "outputs": []
    },
    {
      "cell_type": "code",
      "source": [
        "def make_windows(x, window_size=7, horizon=1):\n",
        "  \"\"\"\n",
        "  Turns a 1D array into a 2D array of sequential windows of window_size.\n",
        "  \"\"\"\n",
        "  # 1. Create a window of specific window_size (add the horizon on the end for later labelling)\n",
        "  window_step = np.expand_dims(np.arange(window_size+horizon), axis=0)\n",
        "  # print(f\"Window step:\\n {window_step}\")\n",
        "\n",
        "  # 2. Create a 2D array of multiple window steps (minus 1 to account for 0 indexing)\n",
        "  window_indexes = window_step + np.expand_dims(np.arange(len(x)-(window_size+horizon-1)), axis=0).T # create 2D array of windows of size window_size\n",
        "  # print(f\"Window indexes:\\n {window_indexes[:3], window_indexes[-3:], window_indexes.shape}\")\n",
        "\n",
        "  # 3. Index on the target array (time series) with 2D array of multiple window steps\n",
        "  windowed_array = x[window_indexes]\n",
        "\n",
        "  # 4. Get the labelled windows\n",
        "  windows, labels = get_labelled_windows(windowed_array, horizon=horizon)\n",
        "\n",
        "  return windows, labels"
      ],
      "metadata": {
        "id": "baUuSQFuzND0"
      },
      "execution_count": 23,
      "outputs": []
    },
    {
      "cell_type": "code",
      "source": [
        "full_windows, full_labels = make_windows(prices, window_size=WINDOW_SIZE, horizon=HORIZON)\n",
        "len(full_windows), len(full_labels)"
      ],
      "metadata": {
        "colab": {
          "base_uri": "https://localhost:8080/"
        },
        "id": "KbFD4mlSzsy8",
        "outputId": "a88960dd-5390-425c-c7da-2b1e6c543435"
      },
      "execution_count": 24,
      "outputs": [
        {
          "output_type": "execute_result",
          "data": {
            "text/plain": [
              "(16943, 16943)"
            ]
          },
          "metadata": {},
          "execution_count": 24
        }
      ]
    },
    {
      "cell_type": "code",
      "source": [
        "def make_train_test_splits(windows, labels, test_split=0.2):\n",
        "  \"\"\"\n",
        "  Splits matching pairs of windows and labels into train and test splits.\n",
        "  \"\"\"\n",
        "  split_size = int(len(windows) * (1-test_split)) # this will default to 80% train/20% test\n",
        "  train_windows = windows[:split_size]\n",
        "  train_labels = labels[:split_size]\n",
        "  test_windows = windows[split_size:]\n",
        "  test_labels = labels[split_size:]\n",
        "  return train_windows, test_windows, train_labels, test_labels"
      ],
      "metadata": {
        "id": "SRJO6vBCzwvI"
      },
      "execution_count": 25,
      "outputs": []
    },
    {
      "cell_type": "code",
      "source": [
        "train_windows, test_windows, train_labels, test_labels = make_train_test_splits(full_windows, full_labels)\n",
        "len(train_windows), len(test_windows), len(train_labels), len(test_labels)"
      ],
      "metadata": {
        "colab": {
          "base_uri": "https://localhost:8080/"
        },
        "id": "d_VXhlMkz2vD",
        "outputId": "fb5b376d-dd36-40ff-e38c-6ac17e6cb520"
      },
      "execution_count": 26,
      "outputs": [
        {
          "output_type": "execute_result",
          "data": {
            "text/plain": [
              "(13554, 3389, 13554, 3389)"
            ]
          },
          "metadata": {},
          "execution_count": 26
        }
      ]
    },
    {
      "cell_type": "code",
      "source": [],
      "metadata": {
        "id": "PqzVrY0q2NTl"
      },
      "execution_count": null,
      "outputs": []
    }
  ]
}