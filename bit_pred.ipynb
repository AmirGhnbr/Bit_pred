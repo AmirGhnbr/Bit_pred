{
  "nbformat": 4,
  "nbformat_minor": 0,
  "metadata": {
    "colab": {
      "provenance": [],
      "collapsed_sections": [
        "2ToqavNbSzNd"
      ],
      "authorship_tag": "ABX9TyMTiRhrSfe50fSxr596ScIJ",
      "include_colab_link": true
    },
    "kernelspec": {
      "name": "python3",
      "display_name": "Python 3"
    },
    "language_info": {
      "name": "python"
    }
  },
  "cells": [
    {
      "cell_type": "markdown",
      "metadata": {
        "id": "view-in-github",
        "colab_type": "text"
      },
      "source": [
        "<a href=\"https://colab.research.google.com/github/AmirGhnbr/Bit_pred/blob/dev_branch/bit_pred.ipynb\" target=\"_parent\"><img src=\"https://colab.research.google.com/assets/colab-badge.svg\" alt=\"Open In Colab\"/></a>"
      ]
    },
    {
      "cell_type": "code",
      "execution_count": null,
      "metadata": {
        "id": "wJPJ6hAV8xBT"
      },
      "outputs": [],
      "source": [
        "!pip install yfinance"
      ]
    },
    {
      "cell_type": "code",
      "source": [
        "from google.colab import drive\n",
        "drive.mount('/content/drive')"
      ],
      "metadata": {
        "colab": {
          "base_uri": "https://localhost:8080/"
        },
        "id": "Jjs7CniA86iX",
        "outputId": "40426bbd-6274-4668-f606-ed5437fb1e45"
      },
      "execution_count": 2,
      "outputs": [
        {
          "output_type": "stream",
          "name": "stdout",
          "text": [
            "Mounted at /content/drive\n"
          ]
        }
      ]
    },
    {
      "cell_type": "code",
      "source": [
        "TICKER = 'BTC-USD'"
      ],
      "metadata": {
        "id": "IbfHbGxh-YNW"
      },
      "execution_count": 9,
      "outputs": []
    },
    {
      "cell_type": "code",
      "source": [
        "import yfinance as yf\n",
        "import datetime\n",
        "import pandas as pd\n",
        "\n",
        "today = datetime.datetime.now()\n",
        "start_year_ago = today-datetime.timedelta(days = 720)\n",
        "btc_data = yf.download(tickers=TICKER, interval=\"1h\",start= start_year_ago, end=today)\n",
        "btc_data.tail()"
      ],
      "metadata": {
        "colab": {
          "base_uri": "https://localhost:8080/",
          "height": 255
        },
        "id": "A66bFPhQ-pe6",
        "outputId": "ed32d0eb-746e-45bb-ac87-ca56e97a550f"
      },
      "execution_count": 10,
      "outputs": [
        {
          "output_type": "stream",
          "name": "stdout",
          "text": [
            "\r[*********************100%***********************]  1 of 1 completed\n"
          ]
        },
        {
          "output_type": "execute_result",
          "data": {
            "text/plain": [
              "                                   Open          High           Low  \\\n",
              "Datetime                                                              \n",
              "2023-03-29 07:00:00+00:00  28049.027344  28153.572266  27986.345703   \n",
              "2023-03-29 08:00:00+00:00  28085.640625  28619.542969  28051.339844   \n",
              "2023-03-29 09:00:00+00:00  28504.824219  28558.160156  28330.734375   \n",
              "2023-03-29 10:00:00+00:00  28330.246094  28427.460938  28278.398438   \n",
              "2023-03-29 11:00:00+00:00  28380.179688  28380.375000  28278.326172   \n",
              "\n",
              "                                  Close     Adj Close      Volume  \n",
              "Datetime                                                           \n",
              "2023-03-29 07:00:00+00:00  28082.791016  28082.791016   302686208  \n",
              "2023-03-29 08:00:00+00:00  28517.246094  28517.246094  1484341248  \n",
              "2023-03-29 09:00:00+00:00  28335.826172  28335.826172   495386624  \n",
              "2023-03-29 10:00:00+00:00  28379.767578  28379.767578   188768256  \n",
              "2023-03-29 11:00:00+00:00  28341.636719  28341.636719    25208832  "
            ],
            "text/html": [
              "\n",
              "  <div id=\"df-234f39d4-38f0-4671-88c6-c33205337253\">\n",
              "    <div class=\"colab-df-container\">\n",
              "      <div>\n",
              "<style scoped>\n",
              "    .dataframe tbody tr th:only-of-type {\n",
              "        vertical-align: middle;\n",
              "    }\n",
              "\n",
              "    .dataframe tbody tr th {\n",
              "        vertical-align: top;\n",
              "    }\n",
              "\n",
              "    .dataframe thead th {\n",
              "        text-align: right;\n",
              "    }\n",
              "</style>\n",
              "<table border=\"1\" class=\"dataframe\">\n",
              "  <thead>\n",
              "    <tr style=\"text-align: right;\">\n",
              "      <th></th>\n",
              "      <th>Open</th>\n",
              "      <th>High</th>\n",
              "      <th>Low</th>\n",
              "      <th>Close</th>\n",
              "      <th>Adj Close</th>\n",
              "      <th>Volume</th>\n",
              "    </tr>\n",
              "    <tr>\n",
              "      <th>Datetime</th>\n",
              "      <th></th>\n",
              "      <th></th>\n",
              "      <th></th>\n",
              "      <th></th>\n",
              "      <th></th>\n",
              "      <th></th>\n",
              "    </tr>\n",
              "  </thead>\n",
              "  <tbody>\n",
              "    <tr>\n",
              "      <th>2023-03-29 07:00:00+00:00</th>\n",
              "      <td>28049.027344</td>\n",
              "      <td>28153.572266</td>\n",
              "      <td>27986.345703</td>\n",
              "      <td>28082.791016</td>\n",
              "      <td>28082.791016</td>\n",
              "      <td>302686208</td>\n",
              "    </tr>\n",
              "    <tr>\n",
              "      <th>2023-03-29 08:00:00+00:00</th>\n",
              "      <td>28085.640625</td>\n",
              "      <td>28619.542969</td>\n",
              "      <td>28051.339844</td>\n",
              "      <td>28517.246094</td>\n",
              "      <td>28517.246094</td>\n",
              "      <td>1484341248</td>\n",
              "    </tr>\n",
              "    <tr>\n",
              "      <th>2023-03-29 09:00:00+00:00</th>\n",
              "      <td>28504.824219</td>\n",
              "      <td>28558.160156</td>\n",
              "      <td>28330.734375</td>\n",
              "      <td>28335.826172</td>\n",
              "      <td>28335.826172</td>\n",
              "      <td>495386624</td>\n",
              "    </tr>\n",
              "    <tr>\n",
              "      <th>2023-03-29 10:00:00+00:00</th>\n",
              "      <td>28330.246094</td>\n",
              "      <td>28427.460938</td>\n",
              "      <td>28278.398438</td>\n",
              "      <td>28379.767578</td>\n",
              "      <td>28379.767578</td>\n",
              "      <td>188768256</td>\n",
              "    </tr>\n",
              "    <tr>\n",
              "      <th>2023-03-29 11:00:00+00:00</th>\n",
              "      <td>28380.179688</td>\n",
              "      <td>28380.375000</td>\n",
              "      <td>28278.326172</td>\n",
              "      <td>28341.636719</td>\n",
              "      <td>28341.636719</td>\n",
              "      <td>25208832</td>\n",
              "    </tr>\n",
              "  </tbody>\n",
              "</table>\n",
              "</div>\n",
              "      <button class=\"colab-df-convert\" onclick=\"convertToInteractive('df-234f39d4-38f0-4671-88c6-c33205337253')\"\n",
              "              title=\"Convert this dataframe to an interactive table.\"\n",
              "              style=\"display:none;\">\n",
              "        \n",
              "  <svg xmlns=\"http://www.w3.org/2000/svg\" height=\"24px\"viewBox=\"0 0 24 24\"\n",
              "       width=\"24px\">\n",
              "    <path d=\"M0 0h24v24H0V0z\" fill=\"none\"/>\n",
              "    <path d=\"M18.56 5.44l.94 2.06.94-2.06 2.06-.94-2.06-.94-.94-2.06-.94 2.06-2.06.94zm-11 1L8.5 8.5l.94-2.06 2.06-.94-2.06-.94L8.5 2.5l-.94 2.06-2.06.94zm10 10l.94 2.06.94-2.06 2.06-.94-2.06-.94-.94-2.06-.94 2.06-2.06.94z\"/><path d=\"M17.41 7.96l-1.37-1.37c-.4-.4-.92-.59-1.43-.59-.52 0-1.04.2-1.43.59L10.3 9.45l-7.72 7.72c-.78.78-.78 2.05 0 2.83L4 21.41c.39.39.9.59 1.41.59.51 0 1.02-.2 1.41-.59l7.78-7.78 2.81-2.81c.8-.78.8-2.07 0-2.86zM5.41 20L4 18.59l7.72-7.72 1.47 1.35L5.41 20z\"/>\n",
              "  </svg>\n",
              "      </button>\n",
              "      \n",
              "  <style>\n",
              "    .colab-df-container {\n",
              "      display:flex;\n",
              "      flex-wrap:wrap;\n",
              "      gap: 12px;\n",
              "    }\n",
              "\n",
              "    .colab-df-convert {\n",
              "      background-color: #E8F0FE;\n",
              "      border: none;\n",
              "      border-radius: 50%;\n",
              "      cursor: pointer;\n",
              "      display: none;\n",
              "      fill: #1967D2;\n",
              "      height: 32px;\n",
              "      padding: 0 0 0 0;\n",
              "      width: 32px;\n",
              "    }\n",
              "\n",
              "    .colab-df-convert:hover {\n",
              "      background-color: #E2EBFA;\n",
              "      box-shadow: 0px 1px 2px rgba(60, 64, 67, 0.3), 0px 1px 3px 1px rgba(60, 64, 67, 0.15);\n",
              "      fill: #174EA6;\n",
              "    }\n",
              "\n",
              "    [theme=dark] .colab-df-convert {\n",
              "      background-color: #3B4455;\n",
              "      fill: #D2E3FC;\n",
              "    }\n",
              "\n",
              "    [theme=dark] .colab-df-convert:hover {\n",
              "      background-color: #434B5C;\n",
              "      box-shadow: 0px 1px 3px 1px rgba(0, 0, 0, 0.15);\n",
              "      filter: drop-shadow(0px 1px 2px rgba(0, 0, 0, 0.3));\n",
              "      fill: #FFFFFF;\n",
              "    }\n",
              "  </style>\n",
              "\n",
              "      <script>\n",
              "        const buttonEl =\n",
              "          document.querySelector('#df-234f39d4-38f0-4671-88c6-c33205337253 button.colab-df-convert');\n",
              "        buttonEl.style.display =\n",
              "          google.colab.kernel.accessAllowed ? 'block' : 'none';\n",
              "\n",
              "        async function convertToInteractive(key) {\n",
              "          const element = document.querySelector('#df-234f39d4-38f0-4671-88c6-c33205337253');\n",
              "          const dataTable =\n",
              "            await google.colab.kernel.invokeFunction('convertToInteractive',\n",
              "                                                     [key], {});\n",
              "          if (!dataTable) return;\n",
              "\n",
              "          const docLinkHtml = 'Like what you see? Visit the ' +\n",
              "            '<a target=\"_blank\" href=https://colab.research.google.com/notebooks/data_table.ipynb>data table notebook</a>'\n",
              "            + ' to learn more about interactive tables.';\n",
              "          element.innerHTML = '';\n",
              "          dataTable['output_type'] = 'display_data';\n",
              "          await google.colab.output.renderOutput(dataTable, element);\n",
              "          const docLink = document.createElement('div');\n",
              "          docLink.innerHTML = docLinkHtml;\n",
              "          element.appendChild(docLink);\n",
              "        }\n",
              "      </script>\n",
              "    </div>\n",
              "  </div>\n",
              "  "
            ]
          },
          "metadata": {},
          "execution_count": 10
        }
      ]
    },
    {
      "cell_type": "code",
      "source": [
        "btc_data[\"OHLC4\"] = (btc_data[\"Open\"] + btc_data[\"High\"] + btc_data[\"Low\"] + btc_data[\"Close\"]) / 4 \n",
        "btc_data.tail()"
      ],
      "metadata": {
        "colab": {
          "base_uri": "https://localhost:8080/",
          "height": 237
        },
        "id": "4wBRUhGQAWfC",
        "outputId": "2df1510d-939f-4e9a-dff7-907870bd4e74"
      },
      "execution_count": 12,
      "outputs": [
        {
          "output_type": "execute_result",
          "data": {
            "text/plain": [
              "                                   Open          High           Low  \\\n",
              "Datetime                                                              \n",
              "2023-03-29 07:00:00+00:00  28049.027344  28153.572266  27986.345703   \n",
              "2023-03-29 08:00:00+00:00  28085.640625  28619.542969  28051.339844   \n",
              "2023-03-29 09:00:00+00:00  28504.824219  28558.160156  28330.734375   \n",
              "2023-03-29 10:00:00+00:00  28330.246094  28427.460938  28278.398438   \n",
              "2023-03-29 11:00:00+00:00  28380.179688  28380.375000  28278.326172   \n",
              "\n",
              "                                  Close     Adj Close      Volume  \\\n",
              "Datetime                                                            \n",
              "2023-03-29 07:00:00+00:00  28082.791016  28082.791016   302686208   \n",
              "2023-03-29 08:00:00+00:00  28517.246094  28517.246094  1484341248   \n",
              "2023-03-29 09:00:00+00:00  28335.826172  28335.826172   495386624   \n",
              "2023-03-29 10:00:00+00:00  28379.767578  28379.767578   188768256   \n",
              "2023-03-29 11:00:00+00:00  28341.636719  28341.636719    25208832   \n",
              "\n",
              "                                  OHLC4  \n",
              "Datetime                                 \n",
              "2023-03-29 07:00:00+00:00  28067.934082  \n",
              "2023-03-29 08:00:00+00:00  28318.442383  \n",
              "2023-03-29 09:00:00+00:00  28432.386230  \n",
              "2023-03-29 10:00:00+00:00  28353.968262  \n",
              "2023-03-29 11:00:00+00:00  28345.129395  "
            ],
            "text/html": [
              "\n",
              "  <div id=\"df-814ce428-12bf-4fa5-af25-5e92c3e1187e\">\n",
              "    <div class=\"colab-df-container\">\n",
              "      <div>\n",
              "<style scoped>\n",
              "    .dataframe tbody tr th:only-of-type {\n",
              "        vertical-align: middle;\n",
              "    }\n",
              "\n",
              "    .dataframe tbody tr th {\n",
              "        vertical-align: top;\n",
              "    }\n",
              "\n",
              "    .dataframe thead th {\n",
              "        text-align: right;\n",
              "    }\n",
              "</style>\n",
              "<table border=\"1\" class=\"dataframe\">\n",
              "  <thead>\n",
              "    <tr style=\"text-align: right;\">\n",
              "      <th></th>\n",
              "      <th>Open</th>\n",
              "      <th>High</th>\n",
              "      <th>Low</th>\n",
              "      <th>Close</th>\n",
              "      <th>Adj Close</th>\n",
              "      <th>Volume</th>\n",
              "      <th>OHLC4</th>\n",
              "    </tr>\n",
              "    <tr>\n",
              "      <th>Datetime</th>\n",
              "      <th></th>\n",
              "      <th></th>\n",
              "      <th></th>\n",
              "      <th></th>\n",
              "      <th></th>\n",
              "      <th></th>\n",
              "      <th></th>\n",
              "    </tr>\n",
              "  </thead>\n",
              "  <tbody>\n",
              "    <tr>\n",
              "      <th>2023-03-29 07:00:00+00:00</th>\n",
              "      <td>28049.027344</td>\n",
              "      <td>28153.572266</td>\n",
              "      <td>27986.345703</td>\n",
              "      <td>28082.791016</td>\n",
              "      <td>28082.791016</td>\n",
              "      <td>302686208</td>\n",
              "      <td>28067.934082</td>\n",
              "    </tr>\n",
              "    <tr>\n",
              "      <th>2023-03-29 08:00:00+00:00</th>\n",
              "      <td>28085.640625</td>\n",
              "      <td>28619.542969</td>\n",
              "      <td>28051.339844</td>\n",
              "      <td>28517.246094</td>\n",
              "      <td>28517.246094</td>\n",
              "      <td>1484341248</td>\n",
              "      <td>28318.442383</td>\n",
              "    </tr>\n",
              "    <tr>\n",
              "      <th>2023-03-29 09:00:00+00:00</th>\n",
              "      <td>28504.824219</td>\n",
              "      <td>28558.160156</td>\n",
              "      <td>28330.734375</td>\n",
              "      <td>28335.826172</td>\n",
              "      <td>28335.826172</td>\n",
              "      <td>495386624</td>\n",
              "      <td>28432.386230</td>\n",
              "    </tr>\n",
              "    <tr>\n",
              "      <th>2023-03-29 10:00:00+00:00</th>\n",
              "      <td>28330.246094</td>\n",
              "      <td>28427.460938</td>\n",
              "      <td>28278.398438</td>\n",
              "      <td>28379.767578</td>\n",
              "      <td>28379.767578</td>\n",
              "      <td>188768256</td>\n",
              "      <td>28353.968262</td>\n",
              "    </tr>\n",
              "    <tr>\n",
              "      <th>2023-03-29 11:00:00+00:00</th>\n",
              "      <td>28380.179688</td>\n",
              "      <td>28380.375000</td>\n",
              "      <td>28278.326172</td>\n",
              "      <td>28341.636719</td>\n",
              "      <td>28341.636719</td>\n",
              "      <td>25208832</td>\n",
              "      <td>28345.129395</td>\n",
              "    </tr>\n",
              "  </tbody>\n",
              "</table>\n",
              "</div>\n",
              "      <button class=\"colab-df-convert\" onclick=\"convertToInteractive('df-814ce428-12bf-4fa5-af25-5e92c3e1187e')\"\n",
              "              title=\"Convert this dataframe to an interactive table.\"\n",
              "              style=\"display:none;\">\n",
              "        \n",
              "  <svg xmlns=\"http://www.w3.org/2000/svg\" height=\"24px\"viewBox=\"0 0 24 24\"\n",
              "       width=\"24px\">\n",
              "    <path d=\"M0 0h24v24H0V0z\" fill=\"none\"/>\n",
              "    <path d=\"M18.56 5.44l.94 2.06.94-2.06 2.06-.94-2.06-.94-.94-2.06-.94 2.06-2.06.94zm-11 1L8.5 8.5l.94-2.06 2.06-.94-2.06-.94L8.5 2.5l-.94 2.06-2.06.94zm10 10l.94 2.06.94-2.06 2.06-.94-2.06-.94-.94-2.06-.94 2.06-2.06.94z\"/><path d=\"M17.41 7.96l-1.37-1.37c-.4-.4-.92-.59-1.43-.59-.52 0-1.04.2-1.43.59L10.3 9.45l-7.72 7.72c-.78.78-.78 2.05 0 2.83L4 21.41c.39.39.9.59 1.41.59.51 0 1.02-.2 1.41-.59l7.78-7.78 2.81-2.81c.8-.78.8-2.07 0-2.86zM5.41 20L4 18.59l7.72-7.72 1.47 1.35L5.41 20z\"/>\n",
              "  </svg>\n",
              "      </button>\n",
              "      \n",
              "  <style>\n",
              "    .colab-df-container {\n",
              "      display:flex;\n",
              "      flex-wrap:wrap;\n",
              "      gap: 12px;\n",
              "    }\n",
              "\n",
              "    .colab-df-convert {\n",
              "      background-color: #E8F0FE;\n",
              "      border: none;\n",
              "      border-radius: 50%;\n",
              "      cursor: pointer;\n",
              "      display: none;\n",
              "      fill: #1967D2;\n",
              "      height: 32px;\n",
              "      padding: 0 0 0 0;\n",
              "      width: 32px;\n",
              "    }\n",
              "\n",
              "    .colab-df-convert:hover {\n",
              "      background-color: #E2EBFA;\n",
              "      box-shadow: 0px 1px 2px rgba(60, 64, 67, 0.3), 0px 1px 3px 1px rgba(60, 64, 67, 0.15);\n",
              "      fill: #174EA6;\n",
              "    }\n",
              "\n",
              "    [theme=dark] .colab-df-convert {\n",
              "      background-color: #3B4455;\n",
              "      fill: #D2E3FC;\n",
              "    }\n",
              "\n",
              "    [theme=dark] .colab-df-convert:hover {\n",
              "      background-color: #434B5C;\n",
              "      box-shadow: 0px 1px 3px 1px rgba(0, 0, 0, 0.15);\n",
              "      filter: drop-shadow(0px 1px 2px rgba(0, 0, 0, 0.3));\n",
              "      fill: #FFFFFF;\n",
              "    }\n",
              "  </style>\n",
              "\n",
              "      <script>\n",
              "        const buttonEl =\n",
              "          document.querySelector('#df-814ce428-12bf-4fa5-af25-5e92c3e1187e button.colab-df-convert');\n",
              "        buttonEl.style.display =\n",
              "          google.colab.kernel.accessAllowed ? 'block' : 'none';\n",
              "\n",
              "        async function convertToInteractive(key) {\n",
              "          const element = document.querySelector('#df-814ce428-12bf-4fa5-af25-5e92c3e1187e');\n",
              "          const dataTable =\n",
              "            await google.colab.kernel.invokeFunction('convertToInteractive',\n",
              "                                                     [key], {});\n",
              "          if (!dataTable) return;\n",
              "\n",
              "          const docLinkHtml = 'Like what you see? Visit the ' +\n",
              "            '<a target=\"_blank\" href=https://colab.research.google.com/notebooks/data_table.ipynb>data table notebook</a>'\n",
              "            + ' to learn more about interactive tables.';\n",
              "          element.innerHTML = '';\n",
              "          dataTable['output_type'] = 'display_data';\n",
              "          await google.colab.output.renderOutput(dataTable, element);\n",
              "          const docLink = document.createElement('div');\n",
              "          docLink.innerHTML = docLinkHtml;\n",
              "          element.appendChild(docLink);\n",
              "        }\n",
              "      </script>\n",
              "    </div>\n",
              "  </div>\n",
              "  "
            ]
          },
          "metadata": {},
          "execution_count": 12
        }
      ]
    },
    {
      "cell_type": "code",
      "source": [
        "bitcoin_prices_ohlc4_df = pd.DataFrame(btc_data[\"OHLC4\"]).rename(columns={\"OHLC4\": \"Price\"})\n",
        "bitcoin_prices_ohlc4_df.tail()"
      ],
      "metadata": {
        "colab": {
          "base_uri": "https://localhost:8080/",
          "height": 237
        },
        "id": "_zzFHvBN-vL0",
        "outputId": "51887939-ce1d-4605-e8fa-8b663e8c02c0"
      },
      "execution_count": 13,
      "outputs": [
        {
          "output_type": "execute_result",
          "data": {
            "text/plain": [
              "                                  Price\n",
              "Datetime                               \n",
              "2023-03-29 07:00:00+00:00  28067.934082\n",
              "2023-03-29 08:00:00+00:00  28318.442383\n",
              "2023-03-29 09:00:00+00:00  28432.386230\n",
              "2023-03-29 10:00:00+00:00  28353.968262\n",
              "2023-03-29 11:00:00+00:00  28345.129395"
            ],
            "text/html": [
              "\n",
              "  <div id=\"df-34db56f2-1946-4dbc-a280-737174b3e768\">\n",
              "    <div class=\"colab-df-container\">\n",
              "      <div>\n",
              "<style scoped>\n",
              "    .dataframe tbody tr th:only-of-type {\n",
              "        vertical-align: middle;\n",
              "    }\n",
              "\n",
              "    .dataframe tbody tr th {\n",
              "        vertical-align: top;\n",
              "    }\n",
              "\n",
              "    .dataframe thead th {\n",
              "        text-align: right;\n",
              "    }\n",
              "</style>\n",
              "<table border=\"1\" class=\"dataframe\">\n",
              "  <thead>\n",
              "    <tr style=\"text-align: right;\">\n",
              "      <th></th>\n",
              "      <th>Price</th>\n",
              "    </tr>\n",
              "    <tr>\n",
              "      <th>Datetime</th>\n",
              "      <th></th>\n",
              "    </tr>\n",
              "  </thead>\n",
              "  <tbody>\n",
              "    <tr>\n",
              "      <th>2023-03-29 07:00:00+00:00</th>\n",
              "      <td>28067.934082</td>\n",
              "    </tr>\n",
              "    <tr>\n",
              "      <th>2023-03-29 08:00:00+00:00</th>\n",
              "      <td>28318.442383</td>\n",
              "    </tr>\n",
              "    <tr>\n",
              "      <th>2023-03-29 09:00:00+00:00</th>\n",
              "      <td>28432.386230</td>\n",
              "    </tr>\n",
              "    <tr>\n",
              "      <th>2023-03-29 10:00:00+00:00</th>\n",
              "      <td>28353.968262</td>\n",
              "    </tr>\n",
              "    <tr>\n",
              "      <th>2023-03-29 11:00:00+00:00</th>\n",
              "      <td>28345.129395</td>\n",
              "    </tr>\n",
              "  </tbody>\n",
              "</table>\n",
              "</div>\n",
              "      <button class=\"colab-df-convert\" onclick=\"convertToInteractive('df-34db56f2-1946-4dbc-a280-737174b3e768')\"\n",
              "              title=\"Convert this dataframe to an interactive table.\"\n",
              "              style=\"display:none;\">\n",
              "        \n",
              "  <svg xmlns=\"http://www.w3.org/2000/svg\" height=\"24px\"viewBox=\"0 0 24 24\"\n",
              "       width=\"24px\">\n",
              "    <path d=\"M0 0h24v24H0V0z\" fill=\"none\"/>\n",
              "    <path d=\"M18.56 5.44l.94 2.06.94-2.06 2.06-.94-2.06-.94-.94-2.06-.94 2.06-2.06.94zm-11 1L8.5 8.5l.94-2.06 2.06-.94-2.06-.94L8.5 2.5l-.94 2.06-2.06.94zm10 10l.94 2.06.94-2.06 2.06-.94-2.06-.94-.94-2.06-.94 2.06-2.06.94z\"/><path d=\"M17.41 7.96l-1.37-1.37c-.4-.4-.92-.59-1.43-.59-.52 0-1.04.2-1.43.59L10.3 9.45l-7.72 7.72c-.78.78-.78 2.05 0 2.83L4 21.41c.39.39.9.59 1.41.59.51 0 1.02-.2 1.41-.59l7.78-7.78 2.81-2.81c.8-.78.8-2.07 0-2.86zM5.41 20L4 18.59l7.72-7.72 1.47 1.35L5.41 20z\"/>\n",
              "  </svg>\n",
              "      </button>\n",
              "      \n",
              "  <style>\n",
              "    .colab-df-container {\n",
              "      display:flex;\n",
              "      flex-wrap:wrap;\n",
              "      gap: 12px;\n",
              "    }\n",
              "\n",
              "    .colab-df-convert {\n",
              "      background-color: #E8F0FE;\n",
              "      border: none;\n",
              "      border-radius: 50%;\n",
              "      cursor: pointer;\n",
              "      display: none;\n",
              "      fill: #1967D2;\n",
              "      height: 32px;\n",
              "      padding: 0 0 0 0;\n",
              "      width: 32px;\n",
              "    }\n",
              "\n",
              "    .colab-df-convert:hover {\n",
              "      background-color: #E2EBFA;\n",
              "      box-shadow: 0px 1px 2px rgba(60, 64, 67, 0.3), 0px 1px 3px 1px rgba(60, 64, 67, 0.15);\n",
              "      fill: #174EA6;\n",
              "    }\n",
              "\n",
              "    [theme=dark] .colab-df-convert {\n",
              "      background-color: #3B4455;\n",
              "      fill: #D2E3FC;\n",
              "    }\n",
              "\n",
              "    [theme=dark] .colab-df-convert:hover {\n",
              "      background-color: #434B5C;\n",
              "      box-shadow: 0px 1px 3px 1px rgba(0, 0, 0, 0.15);\n",
              "      filter: drop-shadow(0px 1px 2px rgba(0, 0, 0, 0.3));\n",
              "      fill: #FFFFFF;\n",
              "    }\n",
              "  </style>\n",
              "\n",
              "      <script>\n",
              "        const buttonEl =\n",
              "          document.querySelector('#df-34db56f2-1946-4dbc-a280-737174b3e768 button.colab-df-convert');\n",
              "        buttonEl.style.display =\n",
              "          google.colab.kernel.accessAllowed ? 'block' : 'none';\n",
              "\n",
              "        async function convertToInteractive(key) {\n",
              "          const element = document.querySelector('#df-34db56f2-1946-4dbc-a280-737174b3e768');\n",
              "          const dataTable =\n",
              "            await google.colab.kernel.invokeFunction('convertToInteractive',\n",
              "                                                     [key], {});\n",
              "          if (!dataTable) return;\n",
              "\n",
              "          const docLinkHtml = 'Like what you see? Visit the ' +\n",
              "            '<a target=\"_blank\" href=https://colab.research.google.com/notebooks/data_table.ipynb>data table notebook</a>'\n",
              "            + ' to learn more about interactive tables.';\n",
              "          element.innerHTML = '';\n",
              "          dataTable['output_type'] = 'display_data';\n",
              "          await google.colab.output.renderOutput(dataTable, element);\n",
              "          const docLink = document.createElement('div');\n",
              "          docLink.innerHTML = docLinkHtml;\n",
              "          element.appendChild(docLink);\n",
              "        }\n",
              "      </script>\n",
              "    </div>\n",
              "  </div>\n",
              "  "
            ]
          },
          "metadata": {},
          "execution_count": 13
        }
      ]
    },
    {
      "cell_type": "code",
      "source": [
        "def timesteps_and_prices(df):\n",
        "  '''\n",
        "  Parameters:\n",
        "      df: dataframe that contains two columns (Date column, price column)\n",
        "  output:\n",
        "      timesteps : in pandas datetime format\n",
        "      prices: in numpy format\n",
        "  '''\n",
        "  timesteps = pd.to_datetime(df.index.to_numpy())\n",
        "  prices = df[\"Price\"].to_numpy()\n",
        "\n",
        "  return timesteps, prices\n"
      ],
      "metadata": {
        "id": "nwtF-4xuAl5n"
      },
      "execution_count": 14,
      "outputs": []
    },
    {
      "cell_type": "code",
      "source": [
        "timesteps, prices = timesteps_and_prices(bitcoin_prices_ohlc4_df)\n",
        "timesteps[:10], prices[:10]"
      ],
      "metadata": {
        "colab": {
          "base_uri": "https://localhost:8080/"
        },
        "id": "lbZnusoRJwK7",
        "outputId": "e8f91848-5dab-46a7-f27e-c53390dcbcd4"
      },
      "execution_count": 17,
      "outputs": [
        {
          "output_type": "execute_result",
          "data": {
            "text/plain": [
              "(DatetimeIndex(['2021-04-08 11:00:00+00:00', '2021-04-08 12:00:00+00:00',\n",
              "                '2021-04-08 13:00:00+00:00', '2021-04-08 14:00:00+00:00',\n",
              "                '2021-04-08 15:00:00+00:00', '2021-04-08 16:00:00+00:00',\n",
              "                '2021-04-08 17:00:00+00:00', '2021-04-08 18:00:00+00:00',\n",
              "                '2021-04-08 19:00:00+00:00', '2021-04-08 20:00:00+00:00'],\n",
              "               dtype='datetime64[ns, UTC]', freq=None),\n",
              " array([56679.22460938, 57039.88964844, 57491.19433594, 57658.19824219,\n",
              "        57813.51367188, 57856.62695312, 57812.85546875, 57955.01757812,\n",
              "        58043.94042969, 57863.69140625]))"
            ]
          },
          "metadata": {},
          "execution_count": 17
        }
      ]
    },
    {
      "cell_type": "code",
      "source": [
        "def get_train_test_split(timesteps,prices, train_test_ratio=0.8):\n",
        "  '''\n",
        "  Parameters: \n",
        "      timesteps\n",
        "      prices\n",
        "  output:\n",
        "      X_train, y_train, X_test, y_test\n",
        "  '''\n",
        "  split_size = int(0.8 * len(prices))\n",
        "  X_train, y_train = timesteps[:split_size], prices[:split_size]\n",
        "\n",
        "  X_test, y_test = timesteps[split_size:], prices[split_size:]\n",
        "  return X_train, y_train, X_test, y_test\n"
      ],
      "metadata": {
        "id": "CATm7r_hJ2_Q"
      },
      "execution_count": 18,
      "outputs": []
    },
    {
      "cell_type": "code",
      "source": [
        "X_train, y_train, X_test, y_test = get_train_test_split(*timesteps_and_prices(bitcoin_prices_ohlc4_df))\n",
        "X_train[:10]"
      ],
      "metadata": {
        "colab": {
          "base_uri": "https://localhost:8080/"
        },
        "id": "_vIHj1E8K1mj",
        "outputId": "6fc090de-7618-47fb-ef51-4d54fccf4a33"
      },
      "execution_count": 21,
      "outputs": [
        {
          "output_type": "execute_result",
          "data": {
            "text/plain": [
              "DatetimeIndex(['2021-04-08 11:00:00+00:00', '2021-04-08 12:00:00+00:00',\n",
              "               '2021-04-08 13:00:00+00:00', '2021-04-08 14:00:00+00:00',\n",
              "               '2021-04-08 15:00:00+00:00', '2021-04-08 16:00:00+00:00',\n",
              "               '2021-04-08 17:00:00+00:00', '2021-04-08 18:00:00+00:00',\n",
              "               '2021-04-08 19:00:00+00:00', '2021-04-08 20:00:00+00:00'],\n",
              "              dtype='datetime64[ns, UTC]', freq=None)"
            ]
          },
          "metadata": {},
          "execution_count": 21
        }
      ]
    },
    {
      "cell_type": "code",
      "source": [
        "import matplotlib.pyplot as plt \n",
        "\n",
        "def plot_time_series(timesteps, values, format='.', start=0, end=None, label=None):\n",
        "  \"\"\"\n",
        "  Plots a timesteps (a series of points in time) against values (a series of values across timesteps).\n",
        "  \n",
        "  Parameters:\n",
        "      timesteps : array of timesteps\n",
        "      values : array of values across time\n",
        "      format : style of plot, default \".\"\n",
        "      start : where to start the plot (setting a value will index from start of timesteps & values)\n",
        "      end : where to end the plot (setting a value will index from end of timesteps & values)\n",
        "      label : label to show on plot of values\n",
        "  \"\"\"\n",
        "  # Plot the series\n",
        "  plt.plot(timesteps[start:end], values[start:end], format, label=label)\n",
        "  plt.xlabel(\"Time\")\n",
        "  plt.ylabel(\"BTC Price\")\n",
        "  if label:\n",
        "    plt.legend(fontsize=14) # make label bigger\n",
        "  plt.grid(True)"
      ],
      "metadata": {
        "id": "hywHWbj-K-jj"
      },
      "execution_count": 23,
      "outputs": []
    },
    {
      "cell_type": "code",
      "source": [
        "plt.figure(figsize=(10, 7))\n",
        "plot_time_series(timesteps=X_train, values=y_train, label=\"Train data\")\n",
        "plot_time_series(timesteps=X_test, values=y_test, label=\"Test data\")"
      ],
      "metadata": {
        "colab": {
          "base_uri": "https://localhost:8080/",
          "height": 442
        },
        "id": "JSmHg63eL30h",
        "outputId": "49e904be-381c-438c-bcd9-bcec3c67c068"
      },
      "execution_count": 24,
      "outputs": [
        {
          "output_type": "display_data",
          "data": {
            "text/plain": [
              "<Figure size 720x504 with 1 Axes>"
            ],
            "image/png": "[encoded data removed]"
          },
          "metadata": {
            "needs_background": "light"
          }
        }
      ]
    },
    {
      "cell_type": "code",
      "source": [
        "import numpy as np\n",
        "\n",
        "def smape(actual, forecast):\n",
        "    \"\"\"\n",
        "    Calculates Symmetric Mean Absolute Percentage Error (SMAPE) for time series evaluation\n",
        "    Parameters:\n",
        "        targets: a numpy array of actual values\n",
        "        predictions: a numpy array of predicted values\n",
        "    Returns:\n",
        "        smape: the SMAPE value\n",
        "    \"\"\"\n",
        "    epsilon = 1e-8\n",
        "    dividend = np.abs(actual - forecast)\n",
        "    denominator = np.abs(actual) + np.abs(forecast)\n",
        "    smape = 200 * np.sum(np.divide(dividend, denominator + epsilon))/len(actual)\n",
        "    return smape"
      ],
      "metadata": {
        "id": "0Rit8KDxMDNa"
      },
      "execution_count": 26,
      "outputs": []
    },
    {
      "cell_type": "code",
      "source": [
        "def mape(actual, forecast):\n",
        "    \"\"\"\n",
        "    Calculates Symmetric Mean Absolute Percentage Error (SMAPE) for time series evaluation\n",
        "    Parameters:\n",
        "        targets: a numpy array of actual values\n",
        "        predictions: a numpy array of predicted values\n",
        "    Returns:\n",
        "        mape: the SMAPE value\n",
        "    \"\"\"\n",
        "    epsilon = 1e-8\n",
        "    dividend = np.abs(actual-forecast)\n",
        "    denomenator = np.abs(actual)\n",
        "    mape = 100*np.sum(np.divide(dividend,denomenator + epsilon))/len(actual)\n",
        "    return mape"
      ],
      "metadata": {
        "id": "qKo8R4GrNjGJ"
      },
      "execution_count": 27,
      "outputs": []
    },
    {
      "cell_type": "code",
      "source": [
        "def mean_absolute_scaled_error(actual, forecast, horizon=1):\n",
        "    \"\"\"\n",
        "    Parameters:\n",
        "        actual: numpy array-like with actual values\n",
        "        forecast: numpy array-like with forecasted values\n",
        "        horizon: int for the difference between naive forecast and actual value\n",
        "    Outputs:\n",
        "        mase: float, mean absolute scaled error\n",
        "    \"\"\"\n",
        "    actual = np.array(actual)\n",
        "    forecast = np.array(forecast)\n",
        "\n",
        "    # Calculate the absolute errors\n",
        "    abs_errors = np.abs(actual - forecast)\n",
        "\n",
        "    # Calculate the mean absolute error\n",
        "    mean_absolute_error = np.mean(abs_errors)\n",
        "\n",
        "    # Calculate the mean absolute error for the naive forecast\n",
        "    naive_forecast_errors = np.abs(actual[horizon:] - actual[:-horizon])\n",
        "    mean_absolute_naive_error = np.mean(naive_forecast_errors)\n",
        "\n",
        "    # Calculate the mean absolute scaled error\n",
        "    mase = mean_absolute_error / mean_absolute_naive_error\n",
        "\n",
        "    return mase"
      ],
      "metadata": {
        "id": "tVhPza9BTt_G"
      },
      "execution_count": 28,
      "outputs": []
    },
    {
      "cell_type": "markdown",
      "source": [
        "## Define custom metricses "
      ],
      "metadata": {
        "id": "2ToqavNbSzNd"
      }
    },
    {
      "cell_type": "code",
      "source": [
        "import tensorflow as tf \n",
        "class SMAPE(tf.keras.metrics.Metric): \n",
        "  def __init__(self, name='smape', **kwargs):\n",
        "     super(SMAPE, self).__init__(name=name, **kwargs) \n",
        "     self.epsilon = 1e-8 \n",
        "     self.total_smape = self.add_weight(name='total', initializer='zeros') \n",
        "     self.counter = self.add_weight(name='counter', initializer='zeros') \n",
        "  def update_state(self, y_true, y_pred, sample_weight=None): \n",
        "    dividend = tf.abs(y_true - y_pred) \n",
        "    denominator = tf.abs(y_true) + tf.abs(y_pred) \n",
        "    smape = 200 * tf.divide(dividend, denominator + self.epsilon) \n",
        "    self.total_smape.assign_add(tf.reduce_sum(smape)) \n",
        "    self.counter.assign_add(tf.cast(tf.size(y_true), dtype=tf.float32)) \n",
        "  def result(self): \n",
        "    return tf.math.divide_no_nan(self.total_smape, self.counter) \n",
        "  def reset_states(self): \n",
        "    self.total_smape.assign(0.) \n",
        "    self.counter.assign(0.) "
      ],
      "metadata": {
        "id": "7O1tK4erPrTT"
      },
      "execution_count": null,
      "outputs": []
    },
    {
      "cell_type": "code",
      "source": [],
      "metadata": {
        "id": "BqshT6-gOv2e"
      },
      "execution_count": null,
      "outputs": []
    }
  ]
}